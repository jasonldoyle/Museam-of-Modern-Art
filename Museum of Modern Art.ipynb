{
 "cells": [
  {
   "cell_type": "code",
   "execution_count": 1,
   "id": "aef4543d-1792-4a73-9468-66c39c38dad4",
   "metadata": {},
   "outputs": [],
   "source": [
    "import pandas as pd \n",
    "import seaborn as sns\n",
    "import numpy as np "
   ]
  },
  {
   "cell_type": "code",
   "execution_count": 2,
   "id": "fb6cec2d-5388-4b26-9544-e219a6072ae2",
   "metadata": {},
   "outputs": [],
   "source": [
    "# Data Cleaning"
   ]
  },
  {
   "cell_type": "code",
   "execution_count": 153,
   "id": "302d7dca-8791-4e16-9ece-6a1fac79f442",
   "metadata": {},
   "outputs": [],
   "source": [
    "artist_df = pd.read_csv(\"/Users/jason/Desktop/Museam-of-Modern-Art/Artists.csv\")\n",
    "artwork_df = pd.read_csv(\"/Users/jason/Desktop/Museam-of-Modern-Art/Artworks.csv\")"
   ]
  },
  {
   "cell_type": "code",
   "execution_count": 4,
   "id": "95bafcb8-0404-401c-b7ef-920353bc3248",
   "metadata": {},
   "outputs": [
    {
     "data": {
      "text/html": [
       "<div>\n",
       "<style scoped>\n",
       "    .dataframe tbody tr th:only-of-type {\n",
       "        vertical-align: middle;\n",
       "    }\n",
       "\n",
       "    .dataframe tbody tr th {\n",
       "        vertical-align: top;\n",
       "    }\n",
       "\n",
       "    .dataframe thead th {\n",
       "        text-align: right;\n",
       "    }\n",
       "</style>\n",
       "<table border=\"1\" class=\"dataframe\">\n",
       "  <thead>\n",
       "    <tr style=\"text-align: right;\">\n",
       "      <th></th>\n",
       "      <th>ConstituentID</th>\n",
       "      <th>DisplayName</th>\n",
       "      <th>ArtistBio</th>\n",
       "      <th>Nationality</th>\n",
       "      <th>Gender</th>\n",
       "      <th>BeginDate</th>\n",
       "      <th>EndDate</th>\n",
       "      <th>Wiki QID</th>\n",
       "      <th>ULAN</th>\n",
       "    </tr>\n",
       "  </thead>\n",
       "  <tbody>\n",
       "    <tr>\n",
       "      <th>0</th>\n",
       "      <td>1</td>\n",
       "      <td>Robert Arneson</td>\n",
       "      <td>American, 1930–1992</td>\n",
       "      <td>American</td>\n",
       "      <td>male</td>\n",
       "      <td>1930</td>\n",
       "      <td>1992</td>\n",
       "      <td>NaN</td>\n",
       "      <td>NaN</td>\n",
       "    </tr>\n",
       "    <tr>\n",
       "      <th>1</th>\n",
       "      <td>2</td>\n",
       "      <td>Doroteo Arnaiz</td>\n",
       "      <td>Spanish, born 1936</td>\n",
       "      <td>Spanish</td>\n",
       "      <td>male</td>\n",
       "      <td>1936</td>\n",
       "      <td>0</td>\n",
       "      <td>NaN</td>\n",
       "      <td>NaN</td>\n",
       "    </tr>\n",
       "    <tr>\n",
       "      <th>2</th>\n",
       "      <td>3</td>\n",
       "      <td>Bill Arnold</td>\n",
       "      <td>American, born 1941</td>\n",
       "      <td>American</td>\n",
       "      <td>male</td>\n",
       "      <td>1941</td>\n",
       "      <td>0</td>\n",
       "      <td>NaN</td>\n",
       "      <td>NaN</td>\n",
       "    </tr>\n",
       "    <tr>\n",
       "      <th>3</th>\n",
       "      <td>4</td>\n",
       "      <td>Charles Arnoldi</td>\n",
       "      <td>American, born 1946</td>\n",
       "      <td>American</td>\n",
       "      <td>male</td>\n",
       "      <td>1946</td>\n",
       "      <td>0</td>\n",
       "      <td>Q1063584</td>\n",
       "      <td>500027998.0</td>\n",
       "    </tr>\n",
       "    <tr>\n",
       "      <th>4</th>\n",
       "      <td>5</td>\n",
       "      <td>Per Arnoldi</td>\n",
       "      <td>Danish, born 1941</td>\n",
       "      <td>Danish</td>\n",
       "      <td>male</td>\n",
       "      <td>1941</td>\n",
       "      <td>0</td>\n",
       "      <td>NaN</td>\n",
       "      <td>NaN</td>\n",
       "    </tr>\n",
       "    <tr>\n",
       "      <th>...</th>\n",
       "      <td>...</td>\n",
       "      <td>...</td>\n",
       "      <td>...</td>\n",
       "      <td>...</td>\n",
       "      <td>...</td>\n",
       "      <td>...</td>\n",
       "      <td>...</td>\n",
       "      <td>...</td>\n",
       "      <td>...</td>\n",
       "    </tr>\n",
       "    <tr>\n",
       "      <th>15633</th>\n",
       "      <td>138522</td>\n",
       "      <td>Erwin Heerich</td>\n",
       "      <td>German, 1922 – 2004</td>\n",
       "      <td>German</td>\n",
       "      <td>male</td>\n",
       "      <td>1922</td>\n",
       "      <td>2004</td>\n",
       "      <td>NaN</td>\n",
       "      <td>NaN</td>\n",
       "    </tr>\n",
       "    <tr>\n",
       "      <th>15634</th>\n",
       "      <td>138540</td>\n",
       "      <td>Rafael Rivera García</td>\n",
       "      <td>Puerto Rican, 1929 – 2014</td>\n",
       "      <td>Puerto Rican</td>\n",
       "      <td>male</td>\n",
       "      <td>1929</td>\n",
       "      <td>2014</td>\n",
       "      <td>NaN</td>\n",
       "      <td>NaN</td>\n",
       "    </tr>\n",
       "    <tr>\n",
       "      <th>15635</th>\n",
       "      <td>138541</td>\n",
       "      <td>Rafael López del Campo</td>\n",
       "      <td>Puerto Rican, 1936 – 2009</td>\n",
       "      <td>Puerto Rican</td>\n",
       "      <td>male</td>\n",
       "      <td>1936</td>\n",
       "      <td>2009</td>\n",
       "      <td>NaN</td>\n",
       "      <td>NaN</td>\n",
       "    </tr>\n",
       "    <tr>\n",
       "      <th>15636</th>\n",
       "      <td>138544</td>\n",
       "      <td>Efrain Lopez</td>\n",
       "      <td>Puerto Rican, 1940 – 1993</td>\n",
       "      <td>Puerto Rican</td>\n",
       "      <td>male</td>\n",
       "      <td>1940</td>\n",
       "      <td>1993</td>\n",
       "      <td>NaN</td>\n",
       "      <td>NaN</td>\n",
       "    </tr>\n",
       "    <tr>\n",
       "      <th>15637</th>\n",
       "      <td>138567</td>\n",
       "      <td>Jonas Hafner</td>\n",
       "      <td>German, born 1940</td>\n",
       "      <td>German</td>\n",
       "      <td>NaN</td>\n",
       "      <td>1940</td>\n",
       "      <td>0</td>\n",
       "      <td>NaN</td>\n",
       "      <td>NaN</td>\n",
       "    </tr>\n",
       "  </tbody>\n",
       "</table>\n",
       "<p>15638 rows × 9 columns</p>\n",
       "</div>"
      ],
      "text/plain": [
       "       ConstituentID             DisplayName                  ArtistBio  \\\n",
       "0                  1          Robert Arneson        American, 1930–1992   \n",
       "1                  2          Doroteo Arnaiz         Spanish, born 1936   \n",
       "2                  3             Bill Arnold        American, born 1941   \n",
       "3                  4         Charles Arnoldi        American, born 1946   \n",
       "4                  5             Per Arnoldi          Danish, born 1941   \n",
       "...              ...                     ...                        ...   \n",
       "15633         138522           Erwin Heerich        German, 1922 – 2004   \n",
       "15634         138540    Rafael Rivera García  Puerto Rican, 1929 – 2014   \n",
       "15635         138541  Rafael López del Campo  Puerto Rican, 1936 – 2009   \n",
       "15636         138544            Efrain Lopez  Puerto Rican, 1940 – 1993   \n",
       "15637         138567            Jonas Hafner          German, born 1940   \n",
       "\n",
       "        Nationality Gender  BeginDate  EndDate  Wiki QID         ULAN  \n",
       "0          American   male       1930     1992       NaN          NaN  \n",
       "1           Spanish   male       1936        0       NaN          NaN  \n",
       "2          American   male       1941        0       NaN          NaN  \n",
       "3          American   male       1946        0  Q1063584  500027998.0  \n",
       "4            Danish   male       1941        0       NaN          NaN  \n",
       "...             ...    ...        ...      ...       ...          ...  \n",
       "15633        German   male       1922     2004       NaN          NaN  \n",
       "15634  Puerto Rican   male       1929     2014       NaN          NaN  \n",
       "15635  Puerto Rican   male       1936     2009       NaN          NaN  \n",
       "15636  Puerto Rican   male       1940     1993       NaN          NaN  \n",
       "15637        German    NaN       1940        0       NaN          NaN  \n",
       "\n",
       "[15638 rows x 9 columns]"
      ]
     },
     "execution_count": 4,
     "metadata": {},
     "output_type": "execute_result"
    }
   ],
   "source": [
    "artist_df"
   ]
  },
  {
   "cell_type": "code",
   "execution_count": 5,
   "id": "eb42e3e6-ca46-4199-bb6f-f61a52cec546",
   "metadata": {},
   "outputs": [
    {
     "name": "stdout",
     "output_type": "stream",
     "text": [
      "<class 'pandas.core.frame.DataFrame'>\n",
      "RangeIndex: 15638 entries, 0 to 15637\n",
      "Data columns (total 9 columns):\n",
      " #   Column         Non-Null Count  Dtype  \n",
      "---  ------         --------------  -----  \n",
      " 0   ConstituentID  15638 non-null  int64  \n",
      " 1   DisplayName    15638 non-null  object \n",
      " 2   ArtistBio      13438 non-null  object \n",
      " 3   Nationality    13142 non-null  object \n",
      " 4   Gender         12381 non-null  object \n",
      " 5   BeginDate      15638 non-null  int64  \n",
      " 6   EndDate        15638 non-null  int64  \n",
      " 7   Wiki QID       3247 non-null   object \n",
      " 8   ULAN           2931 non-null   float64\n",
      "dtypes: float64(1), int64(3), object(5)\n",
      "memory usage: 1.1+ MB\n"
     ]
    }
   ],
   "source": [
    "artist_df.info()"
   ]
  },
  {
   "cell_type": "code",
   "execution_count": 6,
   "id": "fde98279-3f94-4c99-81a0-a0155beaf74e",
   "metadata": {},
   "outputs": [
    {
     "data": {
      "text/plain": [
       "EndDate\n",
       "0       10035\n",
       "1991       91\n",
       "1999       89\n",
       "2004       88\n",
       "2005       87\n",
       "        ...  \n",
       "1795        1\n",
       "1888        1\n",
       "1869        1\n",
       "1855        1\n",
       "1852        1\n",
       "Name: count, Length: 173, dtype: int64"
      ]
     },
     "execution_count": 6,
     "metadata": {},
     "output_type": "execute_result"
    }
   ],
   "source": [
    "artist_df.EndDate.value_counts()"
   ]
  },
  {
   "cell_type": "code",
   "execution_count": 7,
   "id": "1e5b6d78-88a2-465c-ad1d-9c4773dbd2a1",
   "metadata": {},
   "outputs": [],
   "source": [
    "artist_df['EndDate2'] = artist_df['ArtistBio'].str.extract(r'(?i)\\bborn\\s+(\\d{4})')"
   ]
  },
  {
   "cell_type": "code",
   "execution_count": 8,
   "id": "dd58f421-dad5-40ce-b396-250613fa380e",
   "metadata": {},
   "outputs": [
    {
     "data": {
      "text/plain": [
       "10005"
      ]
     },
     "execution_count": 8,
     "metadata": {},
     "output_type": "execute_result"
    }
   ],
   "source": [
    "artist_df.EndDate2.isna().sum()"
   ]
  },
  {
   "cell_type": "code",
   "execution_count": 9,
   "id": "e30bd702-9592-4443-aef3-0a1555398ce7",
   "metadata": {},
   "outputs": [],
   "source": [
    "artist_df[\"FinalEndDate\"] = artist_df[\"EndDate\"].fillna(artist_df[\"EndDate2\"])"
   ]
  },
  {
   "cell_type": "code",
   "execution_count": 10,
   "id": "58af73e7-bc23-4c75-871d-c11d647fe7ed",
   "metadata": {},
   "outputs": [],
   "source": [
    "artist_df[\"FinalEndDate\"] = np.where(artist_df[\"EndDate\"] == 0, artist_df[\"EndDate2\"], artist_df[\"EndDate\"])"
   ]
  },
  {
   "cell_type": "code",
   "execution_count": 11,
   "id": "2c18bb53-4427-498c-a054-d3b92315cf9c",
   "metadata": {},
   "outputs": [],
   "source": [
    "artist_df.FinalEndDate = artist_df.FinalEndDate.fillna(0)"
   ]
  },
  {
   "cell_type": "code",
   "execution_count": 12,
   "id": "fbab2d93-d096-4f9f-b854-c0ea3ec742db",
   "metadata": {},
   "outputs": [
    {
     "data": {
      "text/plain": [
       "FinalEndDate\n",
       "0       4412\n",
       "1942     144\n",
       "1941     137\n",
       "1946     134\n",
       "1947     132\n",
       "        ... \n",
       "1865       1\n",
       "1855       1\n",
       "1873       1\n",
       "1881       1\n",
       "1821       1\n",
       "Name: count, Length: 290, dtype: int64"
      ]
     },
     "execution_count": 12,
     "metadata": {},
     "output_type": "execute_result"
    }
   ],
   "source": [
    "artist_df.FinalEndDate.value_counts()"
   ]
  },
  {
   "cell_type": "code",
   "execution_count": 13,
   "id": "6a4a26ac-ebe7-4442-9830-ac40b124e121",
   "metadata": {},
   "outputs": [
    {
     "data": {
      "text/html": [
       "<div>\n",
       "<style scoped>\n",
       "    .dataframe tbody tr th:only-of-type {\n",
       "        vertical-align: middle;\n",
       "    }\n",
       "\n",
       "    .dataframe tbody tr th {\n",
       "        vertical-align: top;\n",
       "    }\n",
       "\n",
       "    .dataframe thead th {\n",
       "        text-align: right;\n",
       "    }\n",
       "</style>\n",
       "<table border=\"1\" class=\"dataframe\">\n",
       "  <thead>\n",
       "    <tr style=\"text-align: right;\">\n",
       "      <th></th>\n",
       "      <th>Title</th>\n",
       "      <th>Artist</th>\n",
       "      <th>ConstituentID</th>\n",
       "      <th>ArtistBio</th>\n",
       "      <th>Nationality</th>\n",
       "      <th>BeginDate</th>\n",
       "      <th>EndDate</th>\n",
       "      <th>Gender</th>\n",
       "      <th>Date</th>\n",
       "      <th>Medium</th>\n",
       "      <th>...</th>\n",
       "      <th>OnView</th>\n",
       "      <th>Circumference (cm)</th>\n",
       "      <th>Depth (cm)</th>\n",
       "      <th>Diameter (cm)</th>\n",
       "      <th>Height (cm)</th>\n",
       "      <th>Length (cm)</th>\n",
       "      <th>Weight (kg)</th>\n",
       "      <th>Width (cm)</th>\n",
       "      <th>Seat Height (cm)</th>\n",
       "      <th>Duration (sec.)</th>\n",
       "    </tr>\n",
       "  </thead>\n",
       "  <tbody>\n",
       "    <tr>\n",
       "      <th>0</th>\n",
       "      <td>Ferdinandsbrücke Project, Vienna, Austria (Ele...</td>\n",
       "      <td>Otto Wagner</td>\n",
       "      <td>6210</td>\n",
       "      <td>(Austrian, 1841–1918)</td>\n",
       "      <td>(Austrian)</td>\n",
       "      <td>(1841)</td>\n",
       "      <td>(1918)</td>\n",
       "      <td>(male)</td>\n",
       "      <td>1896</td>\n",
       "      <td>Ink and cut-and-pasted painted pages on paper</td>\n",
       "      <td>...</td>\n",
       "      <td>NaN</td>\n",
       "      <td>NaN</td>\n",
       "      <td>NaN</td>\n",
       "      <td>NaN</td>\n",
       "      <td>48.600000</td>\n",
       "      <td>NaN</td>\n",
       "      <td>NaN</td>\n",
       "      <td>168.900000</td>\n",
       "      <td>NaN</td>\n",
       "      <td>NaN</td>\n",
       "    </tr>\n",
       "    <tr>\n",
       "      <th>1</th>\n",
       "      <td>City of Music, National Superior Conservatory ...</td>\n",
       "      <td>Christian de Portzamparc</td>\n",
       "      <td>7470</td>\n",
       "      <td>(French, born 1944)</td>\n",
       "      <td>(French)</td>\n",
       "      <td>(1944)</td>\n",
       "      <td>(0)</td>\n",
       "      <td>(male)</td>\n",
       "      <td>1987</td>\n",
       "      <td>Paint and colored pencil on print</td>\n",
       "      <td>...</td>\n",
       "      <td>NaN</td>\n",
       "      <td>NaN</td>\n",
       "      <td>NaN</td>\n",
       "      <td>NaN</td>\n",
       "      <td>40.640100</td>\n",
       "      <td>NaN</td>\n",
       "      <td>NaN</td>\n",
       "      <td>29.845100</td>\n",
       "      <td>NaN</td>\n",
       "      <td>NaN</td>\n",
       "    </tr>\n",
       "    <tr>\n",
       "      <th>2</th>\n",
       "      <td>Villa project, outside Vienna, Austria (Elevat...</td>\n",
       "      <td>Emil Hoppe</td>\n",
       "      <td>7605</td>\n",
       "      <td>(Austrian, 1876–1957)</td>\n",
       "      <td>(Austrian)</td>\n",
       "      <td>(1876)</td>\n",
       "      <td>(1957)</td>\n",
       "      <td>(male)</td>\n",
       "      <td>1903</td>\n",
       "      <td>Graphite, pen, color pencil, ink, and gouache ...</td>\n",
       "      <td>...</td>\n",
       "      <td>NaN</td>\n",
       "      <td>NaN</td>\n",
       "      <td>NaN</td>\n",
       "      <td>NaN</td>\n",
       "      <td>34.300000</td>\n",
       "      <td>NaN</td>\n",
       "      <td>NaN</td>\n",
       "      <td>31.800000</td>\n",
       "      <td>NaN</td>\n",
       "      <td>NaN</td>\n",
       "    </tr>\n",
       "    <tr>\n",
       "      <th>3</th>\n",
       "      <td>The Manhattan Transcripts Project, New York, N...</td>\n",
       "      <td>Bernard Tschumi</td>\n",
       "      <td>7056</td>\n",
       "      <td>(French and Swiss, born Switzerland 1944)</td>\n",
       "      <td>()</td>\n",
       "      <td>(1944)</td>\n",
       "      <td>(0)</td>\n",
       "      <td>(male)</td>\n",
       "      <td>1980</td>\n",
       "      <td>Photographic reproduction with colored synthet...</td>\n",
       "      <td>...</td>\n",
       "      <td>NaN</td>\n",
       "      <td>NaN</td>\n",
       "      <td>NaN</td>\n",
       "      <td>NaN</td>\n",
       "      <td>50.800000</td>\n",
       "      <td>NaN</td>\n",
       "      <td>NaN</td>\n",
       "      <td>50.800000</td>\n",
       "      <td>NaN</td>\n",
       "      <td>NaN</td>\n",
       "    </tr>\n",
       "    <tr>\n",
       "      <th>4</th>\n",
       "      <td>Villa project, outside Vienna, Austria (Exteri...</td>\n",
       "      <td>Emil Hoppe</td>\n",
       "      <td>7605</td>\n",
       "      <td>(Austrian, 1876–1957)</td>\n",
       "      <td>(Austrian)</td>\n",
       "      <td>(1876)</td>\n",
       "      <td>(1957)</td>\n",
       "      <td>(male)</td>\n",
       "      <td>1903</td>\n",
       "      <td>Graphite, color pencil, ink, and gouache on tr...</td>\n",
       "      <td>...</td>\n",
       "      <td>NaN</td>\n",
       "      <td>NaN</td>\n",
       "      <td>NaN</td>\n",
       "      <td>NaN</td>\n",
       "      <td>38.400000</td>\n",
       "      <td>NaN</td>\n",
       "      <td>NaN</td>\n",
       "      <td>19.100000</td>\n",
       "      <td>NaN</td>\n",
       "      <td>NaN</td>\n",
       "    </tr>\n",
       "    <tr>\n",
       "      <th>...</th>\n",
       "      <td>...</td>\n",
       "      <td>...</td>\n",
       "      <td>...</td>\n",
       "      <td>...</td>\n",
       "      <td>...</td>\n",
       "      <td>...</td>\n",
       "      <td>...</td>\n",
       "      <td>...</td>\n",
       "      <td>...</td>\n",
       "      <td>...</td>\n",
       "      <td>...</td>\n",
       "      <td>...</td>\n",
       "      <td>...</td>\n",
       "      <td>...</td>\n",
       "      <td>...</td>\n",
       "      <td>...</td>\n",
       "      <td>...</td>\n",
       "      <td>...</td>\n",
       "      <td>...</td>\n",
       "      <td>...</td>\n",
       "      <td>...</td>\n",
       "    </tr>\n",
       "    <tr>\n",
       "      <th>157625</th>\n",
       "      <td>Untitled</td>\n",
       "      <td>Adam Pendleton</td>\n",
       "      <td>38901</td>\n",
       "      <td>(American, born 1984)</td>\n",
       "      <td>(American)</td>\n",
       "      <td>(1984)</td>\n",
       "      <td>(0)</td>\n",
       "      <td>(male)</td>\n",
       "      <td>2021</td>\n",
       "      <td>Silkscreen ink on Mylar</td>\n",
       "      <td>...</td>\n",
       "      <td>NaN</td>\n",
       "      <td>NaN</td>\n",
       "      <td>NaN</td>\n",
       "      <td>NaN</td>\n",
       "      <td>96.520193</td>\n",
       "      <td>NaN</td>\n",
       "      <td>NaN</td>\n",
       "      <td>73.660147</td>\n",
       "      <td>NaN</td>\n",
       "      <td>NaN</td>\n",
       "    </tr>\n",
       "    <tr>\n",
       "      <th>157626</th>\n",
       "      <td>Untitled</td>\n",
       "      <td>Adam Pendleton</td>\n",
       "      <td>38901</td>\n",
       "      <td>(American, born 1984)</td>\n",
       "      <td>(American)</td>\n",
       "      <td>(1984)</td>\n",
       "      <td>(0)</td>\n",
       "      <td>(male)</td>\n",
       "      <td>2021</td>\n",
       "      <td>Silkscreen ink on Mylar</td>\n",
       "      <td>...</td>\n",
       "      <td>NaN</td>\n",
       "      <td>NaN</td>\n",
       "      <td>NaN</td>\n",
       "      <td>NaN</td>\n",
       "      <td>96.520193</td>\n",
       "      <td>NaN</td>\n",
       "      <td>NaN</td>\n",
       "      <td>73.660147</td>\n",
       "      <td>NaN</td>\n",
       "      <td>NaN</td>\n",
       "    </tr>\n",
       "    <tr>\n",
       "      <th>157627</th>\n",
       "      <td>Untitled</td>\n",
       "      <td>Adam Pendleton</td>\n",
       "      <td>38901</td>\n",
       "      <td>(American, born 1984)</td>\n",
       "      <td>(American)</td>\n",
       "      <td>(1984)</td>\n",
       "      <td>(0)</td>\n",
       "      <td>(male)</td>\n",
       "      <td>2021</td>\n",
       "      <td>Silkscreen ink on Mylar</td>\n",
       "      <td>...</td>\n",
       "      <td>NaN</td>\n",
       "      <td>NaN</td>\n",
       "      <td>NaN</td>\n",
       "      <td>NaN</td>\n",
       "      <td>96.520193</td>\n",
       "      <td>NaN</td>\n",
       "      <td>NaN</td>\n",
       "      <td>73.660147</td>\n",
       "      <td>NaN</td>\n",
       "      <td>NaN</td>\n",
       "    </tr>\n",
       "    <tr>\n",
       "      <th>157628</th>\n",
       "      <td>Untitled</td>\n",
       "      <td>Adam Pendleton</td>\n",
       "      <td>38901</td>\n",
       "      <td>(American, born 1984)</td>\n",
       "      <td>(American)</td>\n",
       "      <td>(1984)</td>\n",
       "      <td>(0)</td>\n",
       "      <td>(male)</td>\n",
       "      <td>2021</td>\n",
       "      <td>Silkscreen ink on Mylar</td>\n",
       "      <td>...</td>\n",
       "      <td>NaN</td>\n",
       "      <td>NaN</td>\n",
       "      <td>NaN</td>\n",
       "      <td>NaN</td>\n",
       "      <td>96.520193</td>\n",
       "      <td>NaN</td>\n",
       "      <td>NaN</td>\n",
       "      <td>73.660147</td>\n",
       "      <td>NaN</td>\n",
       "      <td>NaN</td>\n",
       "    </tr>\n",
       "    <tr>\n",
       "      <th>157629</th>\n",
       "      <td>Untitled</td>\n",
       "      <td>Adam Pendleton</td>\n",
       "      <td>38901</td>\n",
       "      <td>(American, born 1984)</td>\n",
       "      <td>(American)</td>\n",
       "      <td>(1984)</td>\n",
       "      <td>(0)</td>\n",
       "      <td>(male)</td>\n",
       "      <td>2021</td>\n",
       "      <td>Silkscreen ink on Mylar</td>\n",
       "      <td>...</td>\n",
       "      <td>NaN</td>\n",
       "      <td>NaN</td>\n",
       "      <td>NaN</td>\n",
       "      <td>NaN</td>\n",
       "      <td>96.520193</td>\n",
       "      <td>NaN</td>\n",
       "      <td>NaN</td>\n",
       "      <td>73.660147</td>\n",
       "      <td>NaN</td>\n",
       "      <td>NaN</td>\n",
       "    </tr>\n",
       "  </tbody>\n",
       "</table>\n",
       "<p>157630 rows × 30 columns</p>\n",
       "</div>"
      ],
      "text/plain": [
       "                                                    Title  \\\n",
       "0       Ferdinandsbrücke Project, Vienna, Austria (Ele...   \n",
       "1       City of Music, National Superior Conservatory ...   \n",
       "2       Villa project, outside Vienna, Austria (Elevat...   \n",
       "3       The Manhattan Transcripts Project, New York, N...   \n",
       "4       Villa project, outside Vienna, Austria (Exteri...   \n",
       "...                                                   ...   \n",
       "157625                                           Untitled   \n",
       "157626                                           Untitled   \n",
       "157627                                           Untitled   \n",
       "157628                                           Untitled   \n",
       "157629                                           Untitled   \n",
       "\n",
       "                          Artist ConstituentID  \\\n",
       "0                    Otto Wagner          6210   \n",
       "1       Christian de Portzamparc          7470   \n",
       "2                     Emil Hoppe          7605   \n",
       "3                Bernard Tschumi          7056   \n",
       "4                     Emil Hoppe          7605   \n",
       "...                          ...           ...   \n",
       "157625            Adam Pendleton         38901   \n",
       "157626            Adam Pendleton         38901   \n",
       "157627            Adam Pendleton         38901   \n",
       "157628            Adam Pendleton         38901   \n",
       "157629            Adam Pendleton         38901   \n",
       "\n",
       "                                        ArtistBio Nationality BeginDate  \\\n",
       "0                           (Austrian, 1841–1918)  (Austrian)    (1841)   \n",
       "1                             (French, born 1944)    (French)    (1944)   \n",
       "2                           (Austrian, 1876–1957)  (Austrian)    (1876)   \n",
       "3       (French and Swiss, born Switzerland 1944)          ()    (1944)   \n",
       "4                           (Austrian, 1876–1957)  (Austrian)    (1876)   \n",
       "...                                           ...         ...       ...   \n",
       "157625                      (American, born 1984)  (American)    (1984)   \n",
       "157626                      (American, born 1984)  (American)    (1984)   \n",
       "157627                      (American, born 1984)  (American)    (1984)   \n",
       "157628                      (American, born 1984)  (American)    (1984)   \n",
       "157629                      (American, born 1984)  (American)    (1984)   \n",
       "\n",
       "       EndDate  Gender  Date  \\\n",
       "0       (1918)  (male)  1896   \n",
       "1          (0)  (male)  1987   \n",
       "2       (1957)  (male)  1903   \n",
       "3          (0)  (male)  1980   \n",
       "4       (1957)  (male)  1903   \n",
       "...        ...     ...   ...   \n",
       "157625     (0)  (male)  2021   \n",
       "157626     (0)  (male)  2021   \n",
       "157627     (0)  (male)  2021   \n",
       "157628     (0)  (male)  2021   \n",
       "157629     (0)  (male)  2021   \n",
       "\n",
       "                                                   Medium  ... OnView  \\\n",
       "0           Ink and cut-and-pasted painted pages on paper  ...    NaN   \n",
       "1                       Paint and colored pencil on print  ...    NaN   \n",
       "2       Graphite, pen, color pencil, ink, and gouache ...  ...    NaN   \n",
       "3       Photographic reproduction with colored synthet...  ...    NaN   \n",
       "4       Graphite, color pencil, ink, and gouache on tr...  ...    NaN   \n",
       "...                                                   ...  ...    ...   \n",
       "157625                            Silkscreen ink on Mylar  ...    NaN   \n",
       "157626                            Silkscreen ink on Mylar  ...    NaN   \n",
       "157627                            Silkscreen ink on Mylar  ...    NaN   \n",
       "157628                            Silkscreen ink on Mylar  ...    NaN   \n",
       "157629                            Silkscreen ink on Mylar  ...    NaN   \n",
       "\n",
       "       Circumference (cm) Depth (cm) Diameter (cm) Height (cm) Length (cm)  \\\n",
       "0                     NaN        NaN           NaN   48.600000         NaN   \n",
       "1                     NaN        NaN           NaN   40.640100         NaN   \n",
       "2                     NaN        NaN           NaN   34.300000         NaN   \n",
       "3                     NaN        NaN           NaN   50.800000         NaN   \n",
       "4                     NaN        NaN           NaN   38.400000         NaN   \n",
       "...                   ...        ...           ...         ...         ...   \n",
       "157625                NaN        NaN           NaN   96.520193         NaN   \n",
       "157626                NaN        NaN           NaN   96.520193         NaN   \n",
       "157627                NaN        NaN           NaN   96.520193         NaN   \n",
       "157628                NaN        NaN           NaN   96.520193         NaN   \n",
       "157629                NaN        NaN           NaN   96.520193         NaN   \n",
       "\n",
       "       Weight (kg)  Width (cm) Seat Height (cm) Duration (sec.)  \n",
       "0              NaN  168.900000              NaN             NaN  \n",
       "1              NaN   29.845100              NaN             NaN  \n",
       "2              NaN   31.800000              NaN             NaN  \n",
       "3              NaN   50.800000              NaN             NaN  \n",
       "4              NaN   19.100000              NaN             NaN  \n",
       "...            ...         ...              ...             ...  \n",
       "157625         NaN   73.660147              NaN             NaN  \n",
       "157626         NaN   73.660147              NaN             NaN  \n",
       "157627         NaN   73.660147              NaN             NaN  \n",
       "157628         NaN   73.660147              NaN             NaN  \n",
       "157629         NaN   73.660147              NaN             NaN  \n",
       "\n",
       "[157630 rows x 30 columns]"
      ]
     },
     "execution_count": 13,
     "metadata": {},
     "output_type": "execute_result"
    }
   ],
   "source": [
    "artwork_df"
   ]
  },
  {
   "cell_type": "code",
   "execution_count": 14,
   "id": "513da504-0873-40ac-8a76-b03f4aec1714",
   "metadata": {},
   "outputs": [
    {
     "data": {
      "text/plain": [
       "Medium\n",
       "Gelatin silver print                                                                                                                                                                                                                                              17012\n",
       "Lithograph                                                                                                                                                                                                                                                         8633\n",
       "Pencil on paper                                                                                                                                                                                                                                                    7233\n",
       "Albumen silver print                                                                                                                                                                                                                                               4837\n",
       "Pencil on tracing paper                                                                                                                                                                                                                                            2603\n",
       "                                                                                                                                                                                                                                                                  ...  \n",
       "Lithograph and collage                                                                                                                                                                                                                                                1\n",
       "Monoprint, printed in color                                                                                                                                                                                                                                           1\n",
       "Etching, aquatint (?) and drypoint, printed in black                                                                                                                                                                                                                  1\n",
       "Etching, drypoint, printed in brown                                                                                                                                                                                                                                   1\n",
       "Three high-definition videos (black and white, sound and silent; varying durations); digital sound collage; three painted wood scaffolds; silkscreen ink on canvas, wood, Mylar, and paper; powder-coated steel, concrete, and LED light bulbs; adhesive vinyl        1\n",
       "Name: count, Length: 22777, dtype: int64"
      ]
     },
     "execution_count": 14,
     "metadata": {},
     "output_type": "execute_result"
    }
   ],
   "source": [
    "artwork_df.Medium.value_counts()"
   ]
  },
  {
   "cell_type": "code",
   "execution_count": 15,
   "id": "9cbb013b-fce2-42d9-a076-72ddcf2e0b9b",
   "metadata": {},
   "outputs": [
    {
     "data": {
      "text/plain": [
       "157630"
      ]
     },
     "execution_count": 15,
     "metadata": {},
     "output_type": "execute_result"
    }
   ],
   "source": [
    "artwork_df.ObjectID.nunique()"
   ]
  },
  {
   "cell_type": "code",
   "execution_count": 16,
   "id": "3736ae47-121f-4e38-9a56-2550f9c14dbd",
   "metadata": {},
   "outputs": [
    {
     "data": {
      "text/plain": [
       "39"
      ]
     },
     "execution_count": 16,
     "metadata": {},
     "output_type": "execute_result"
    }
   ],
   "source": [
    "artwork_df.Classification.nunique()"
   ]
  },
  {
   "cell_type": "code",
   "execution_count": 17,
   "id": "98a2ae91-ce55-4d84-a9e9-a634beb3f425",
   "metadata": {},
   "outputs": [
    {
     "data": {
      "text/plain": [
       "1120"
      ]
     },
     "execution_count": 17,
     "metadata": {},
     "output_type": "execute_result"
    }
   ],
   "source": [
    "artwork_df.Nationality.nunique()"
   ]
  },
  {
   "cell_type": "markdown",
   "id": "1afad90e-3c63-4278-954b-797336880f97",
   "metadata": {},
   "source": [
    "# T1"
   ]
  },
  {
   "cell_type": "markdown",
   "id": "c9d9784b-ac97-49ef-9459-749a926cfa17",
   "metadata": {},
   "source": [
    "## Dashboard"
   ]
  },
  {
   "cell_type": "code",
   "execution_count": 18,
   "id": "1ae8aa99-94a3-4f72-bafb-7a956c09a4e0",
   "metadata": {},
   "outputs": [],
   "source": [
    "import dash\n",
    "from dash import html"
   ]
  },
  {
   "cell_type": "code",
   "execution_count": 19,
   "id": "dc521626-bb4b-4698-ab25-fb596e0dc2e6",
   "metadata": {},
   "outputs": [
    {
     "data": {
      "text/html": [
       "\n",
       "        <iframe\n",
       "            width=\"100%\"\n",
       "            height=\"650\"\n",
       "            src=\"http://127.0.0.1:8050/\"\n",
       "            frameborder=\"0\"\n",
       "            allowfullscreen\n",
       "            \n",
       "        ></iframe>\n",
       "        "
      ],
      "text/plain": [
       "<IPython.lib.display.IFrame at 0x157257080>"
      ]
     },
     "metadata": {},
     "output_type": "display_data"
    }
   ],
   "source": [
    "app = dash.Dash(__name__)\n",
    "\n",
    "def combined_card_1(metrics, bg_colour=\"#2D2D2D\", text_colour=\"#FFFFFF\"):\n",
    "    return html.Div(\n",
    "        style={\n",
    "            'backgroundColor': bg_colour,\n",
    "            'color': text_colour, \n",
    "            'borderRadius': '15px',\n",
    "            'padding': '20px',\n",
    "            'width': '250px', \n",
    "            'boxShadow': '0px 4px 10px rgba(0, 0, 0, 0.5)',\n",
    "            'margin': '5px',\n",
    "            'border': '1px solid #444444',\n",
    "            'fontFamily': 'Roboto, sans-serif'             \n",
    "        },\n",
    "        children=[\n",
    "            html.H2('Dataset', style={'fontSize':'25px','marginTop': '0px' ,'marginBottom': '20px', 'color': '#858383'}),\n",
    "            html.Div([\n",
    "                html.P(f\"Artists.csv Rows: {metrics['artist_num_feats']}\"),\n",
    "                html.P(f\"Artworks.csv Rows: {metrics['artwork_num_feats']}\", style={'margin': '10px 0'}),\n",
    "                html.P(f\"Memory: {metrics['memory']}\"),\n",
    "            ], style={'textAlign': 'left', 'fontSize': '16px'})\n",
    "        ]\n",
    "    )\n",
    "def combined_card_2(metrics, bg_colour=\"#2D2D2D\", text_colour=\"#FFFFFF\"):\n",
    "    return html.Div(\n",
    "        style={\n",
    "            'backgroundColor': bg_colour,\n",
    "            'color': text_colour,\n",
    "            'borderRadius': '15px',\n",
    "            'padding': '20px',\n",
    "            'width': '250px',\n",
    "            'boxShadow': '0px 4px 10px rgba(0, 0, 0, 0.5)',\n",
    "            'margin': '5px',\n",
    "            'border': '1px solid #444444',\n",
    "            'fontFamily': 'Roboto, sans-serif',\n",
    "        },\n",
    "        children=[\n",
    "            html.H2('Artists', style={'fontSize': '25px','marginTop': '0px', 'marginBottom': '0px', 'color': '#858383', 'textAlign': 'center'}),\n",
    "            html.Div([\n",
    "                html.P(f\"{metrics['num_artists']}\"),\n",
    "            ], style={'textAlign': 'center', 'fontSize': '35px', 'marginTop': '0px', 'marginBottom': '0px'})\n",
    "        ]\n",
    "    )\n",
    "\n",
    "def combined_card_3(metrics, bg_color='#2D2D2D', text_colour='#FFFFFF'):\n",
    "    return html.Div(\n",
    "        style={\n",
    "            'backgroundColor': bg_color,\n",
    "            'color': text_colour,\n",
    "            'borderRadius': '15px',\n",
    "            'padding': '20px',\n",
    "            'width': '250px',\n",
    "            'boxShadow': '0px 4px 10px rgba(0, 0, 0, 0.5)',\n",
    "            'margin': '5px',\n",
    "            'border': '1px solid #444444',\n",
    "            'fontFamily': 'Roboto, sans-serif',\n",
    "        },\n",
    "        children=[\n",
    "            html.H2('Artworks', style={'fontSize': '25px','marginTop': '0px', 'marginBottom': '0px', 'color': '#858383', 'textAlign': 'center'}),\n",
    "            html.Div([\n",
    "                html.P(f\"{metrics['num_artworks']}\"),\n",
    "        ], style = {'textAlign': 'center', 'fontSize': '35px', 'marginTop': '0px', 'marginBottom': '0px'})\n",
    "    ]\n",
    ")\n",
    "\n",
    "def combined_card_4(metrics, bg_color= '#2D2D2D', text_colour='#FFFFFF'):\n",
    "    return html.Div(\n",
    "        style={\n",
    "            'backgroundColor': bg_color,\n",
    "            'color': text_colour,\n",
    "            'borderRadius': '15px',\n",
    "            'padding': '20px',\n",
    "            'width': '250px',\n",
    "            'boxShadow': '0px 4px 10px rgba(0, 0, 0, 0.5)',\n",
    "            'margin': '5px',\n",
    "            'border': '1px solid #444444',\n",
    "            'fontFamily': 'Roboto, sans-serif',\n",
    "        }, \n",
    "        children=[\n",
    "            html.H2('Nationalities', style={'fontSize': '25px','marginTop': '0px', 'marginBottom': '0px', 'color': '#858383', 'textAlign': 'center'}),\n",
    "            html.Div([\n",
    "                html.P(f\"{metrics['num_nationalities']}\"),\n",
    "        ], style = {'textAlign': 'center', 'fontSize': '35px', 'marginTop': '0px', 'marginBottom': '0px'})\n",
    "    ]\n",
    ")\n",
    "\n",
    "def combined_card_5(metrics, bg_color= '#2D2D2D', text_colour='#FFFFFF'):\n",
    "    return html.Div(\n",
    "        style={\n",
    "            'backgroundColor': bg_color,\n",
    "            'color': text_colour,\n",
    "            'borderRadius': '15px',\n",
    "            'padding': '20px',\n",
    "            'width': '250px',\n",
    "            'boxShadow': '0px 4px 10px rgba(0, 0, 0, 0.5)',\n",
    "            'margin': '5px',\n",
    "            'border': '1px solid #444444',\n",
    "            'fontFamily': 'Roboto, sans-serif',\n",
    "        }, \n",
    "        children=[\n",
    "            html.H2('Classifications', style={'fontSize': '25px','marginTop': '0px', 'marginBottom': '0px', 'color': '#858383', 'textAlign': 'center'}),\n",
    "            html.Div([\n",
    "                html.P(f\"{metrics['num_classifications']}\"),\n",
    "        ], style = {'textAlign': 'center', 'fontSize': '35px', 'marginTop': '0px', 'marginBottom': '0px'})\n",
    "    ]\n",
    ")\n",
    "\n",
    "artist_num_feats = \"{:,}\".format(len(artist_df))\n",
    "artwork_num_feats = \"{:,}\".format(len(artwork_df))\n",
    "memory = \"72MB\"\n",
    "num_artists = \"{:,}\".format(len(artist_df))\n",
    "num_artworks = \"{:,}\".format(artwork_df.ObjectID.nunique())\n",
    "num_nationalities = artist_df.Nationality.nunique()\n",
    "num_classifications = artist_df.Nationality.nunique()\n",
    "\n",
    "app.layout = html.Div(\n",
    "    style={\n",
    "        'display': 'flex',\n",
    "        'justifyContent': 'center',\n",
    "        'alignItems': 'center',\n",
    "        'flexWrap': 'nowrap',\n",
    "        'gap': '20px',\n",
    "        'backgroundColor': '#1E1E1E', \n",
    "        'padding': '20px'\n",
    "    },\n",
    "    children=[\n",
    "        combined_card_1(metrics={\n",
    "            \"artist_num_feats\": artist_num_feats,\n",
    "            \"artwork_num_feats\": artwork_num_feats,\n",
    "            \"memory\": memory,\n",
    "        }),\n",
    "        combined_card_2(metrics={\n",
    "            \"num_artists\": num_artists,\n",
    "        }),\n",
    "        combined_card_3(metrics={\n",
    "            \"num_artworks\": num_artworks,\n",
    "        }),\n",
    "        combined_card_4(metrics={\n",
    "            \"num_nationalities\": num_nationalities,\n",
    "        }),\n",
    "        combined_card_5(metrics={\n",
    "            \"num_classifications\": num_classifications,\n",
    "        }),\n",
    "    ]\n",
    ")\n",
    "\n",
    "if __name__ == '__main__':\n",
    "    app.run_server(debug=True)"
   ]
  },
  {
   "cell_type": "markdown",
   "id": "4fcba03c-3c85-4952-a21e-3ba397fafc7d",
   "metadata": {},
   "source": [
    "## T1 Figures"
   ]
  },
  {
   "cell_type": "code",
   "execution_count": 20,
   "id": "7cdc12d5-3a2a-4d23-89a6-fcf3fecdc6af",
   "metadata": {},
   "outputs": [],
   "source": [
    "import plotly.express as px"
   ]
  },
  {
   "cell_type": "code",
   "execution_count": 21,
   "id": "21d4789b-3fa4-49b7-8d29-6dfe3bfce91d",
   "metadata": {},
   "outputs": [],
   "source": [
    "artwork_df['painting_size'] = artwork_df['Height (cm)']* artwork_df['Width (cm)']"
   ]
  },
  {
   "cell_type": "code",
   "execution_count": 22,
   "id": "450c11f5-88b3-4bd1-bc23-4a5bb77a87b5",
   "metadata": {},
   "outputs": [],
   "source": [
    "artwork_df['Date'] = artwork_df['Date'].replace('n.d.', '0')\n",
    "artwork_df['Date'] = artwork_df['Date'].str.split('-').str[0]\n",
    "artwork_df['Date'] = artwork_df['Date'].str.split('.').str[0]\n",
    "artwork_df['Date'] = pd.to_numeric(artwork_df['Date'], errors='coerce')"
   ]
  },
  {
   "cell_type": "code",
   "execution_count": 23,
   "id": "0e846657-8ec4-43f9-ad12-7c9306908fd4",
   "metadata": {},
   "outputs": [],
   "source": [
    "artwork_df['decades'] = artwork_df['Date'] // 10 * 10"
   ]
  },
  {
   "cell_type": "code",
   "execution_count": 24,
   "id": "687b7cb7-3c10-4ca2-9297-ffd670f96d33",
   "metadata": {},
   "outputs": [],
   "source": [
    "average_painting_size = artwork_df.groupby('decades', as_index=False)['painting_size'].mean()"
   ]
  },
  {
   "cell_type": "code",
   "execution_count": 25,
   "id": "b0ac8dbe-7576-4828-a73f-009bf8ac721d",
   "metadata": {},
   "outputs": [
    {
     "data": {
      "text/html": [
       "<div>\n",
       "<style scoped>\n",
       "    .dataframe tbody tr th:only-of-type {\n",
       "        vertical-align: middle;\n",
       "    }\n",
       "\n",
       "    .dataframe tbody tr th {\n",
       "        vertical-align: top;\n",
       "    }\n",
       "\n",
       "    .dataframe thead th {\n",
       "        text-align: right;\n",
       "    }\n",
       "</style>\n",
       "<table border=\"1\" class=\"dataframe\">\n",
       "  <thead>\n",
       "    <tr style=\"text-align: right;\">\n",
       "      <th></th>\n",
       "      <th>Title</th>\n",
       "      <th>Artist</th>\n",
       "      <th>ConstituentID</th>\n",
       "      <th>ArtistBio</th>\n",
       "      <th>Nationality</th>\n",
       "      <th>BeginDate</th>\n",
       "      <th>EndDate</th>\n",
       "      <th>Gender</th>\n",
       "      <th>Date</th>\n",
       "      <th>Medium</th>\n",
       "      <th>...</th>\n",
       "      <th>Depth (cm)</th>\n",
       "      <th>Diameter (cm)</th>\n",
       "      <th>Height (cm)</th>\n",
       "      <th>Length (cm)</th>\n",
       "      <th>Weight (kg)</th>\n",
       "      <th>Width (cm)</th>\n",
       "      <th>Seat Height (cm)</th>\n",
       "      <th>Duration (sec.)</th>\n",
       "      <th>painting_size</th>\n",
       "      <th>decades</th>\n",
       "    </tr>\n",
       "  </thead>\n",
       "  <tbody>\n",
       "    <tr>\n",
       "      <th>0</th>\n",
       "      <td>Ferdinandsbrücke Project, Vienna, Austria (Ele...</td>\n",
       "      <td>Otto Wagner</td>\n",
       "      <td>6210</td>\n",
       "      <td>(Austrian, 1841–1918)</td>\n",
       "      <td>(Austrian)</td>\n",
       "      <td>(1841)</td>\n",
       "      <td>(1918)</td>\n",
       "      <td>(male)</td>\n",
       "      <td>1896.0</td>\n",
       "      <td>Ink and cut-and-pasted painted pages on paper</td>\n",
       "      <td>...</td>\n",
       "      <td>NaN</td>\n",
       "      <td>NaN</td>\n",
       "      <td>48.600000</td>\n",
       "      <td>NaN</td>\n",
       "      <td>NaN</td>\n",
       "      <td>168.900000</td>\n",
       "      <td>NaN</td>\n",
       "      <td>NaN</td>\n",
       "      <td>8208.540000</td>\n",
       "      <td>1890.0</td>\n",
       "    </tr>\n",
       "    <tr>\n",
       "      <th>1</th>\n",
       "      <td>City of Music, National Superior Conservatory ...</td>\n",
       "      <td>Christian de Portzamparc</td>\n",
       "      <td>7470</td>\n",
       "      <td>(French, born 1944)</td>\n",
       "      <td>(French)</td>\n",
       "      <td>(1944)</td>\n",
       "      <td>(0)</td>\n",
       "      <td>(male)</td>\n",
       "      <td>1987.0</td>\n",
       "      <td>Paint and colored pencil on print</td>\n",
       "      <td>...</td>\n",
       "      <td>NaN</td>\n",
       "      <td>NaN</td>\n",
       "      <td>40.640100</td>\n",
       "      <td>NaN</td>\n",
       "      <td>NaN</td>\n",
       "      <td>29.845100</td>\n",
       "      <td>NaN</td>\n",
       "      <td>NaN</td>\n",
       "      <td>1212.907849</td>\n",
       "      <td>1980.0</td>\n",
       "    </tr>\n",
       "    <tr>\n",
       "      <th>2</th>\n",
       "      <td>Villa project, outside Vienna, Austria (Elevat...</td>\n",
       "      <td>Emil Hoppe</td>\n",
       "      <td>7605</td>\n",
       "      <td>(Austrian, 1876–1957)</td>\n",
       "      <td>(Austrian)</td>\n",
       "      <td>(1876)</td>\n",
       "      <td>(1957)</td>\n",
       "      <td>(male)</td>\n",
       "      <td>1903.0</td>\n",
       "      <td>Graphite, pen, color pencil, ink, and gouache ...</td>\n",
       "      <td>...</td>\n",
       "      <td>NaN</td>\n",
       "      <td>NaN</td>\n",
       "      <td>34.300000</td>\n",
       "      <td>NaN</td>\n",
       "      <td>NaN</td>\n",
       "      <td>31.800000</td>\n",
       "      <td>NaN</td>\n",
       "      <td>NaN</td>\n",
       "      <td>1090.740000</td>\n",
       "      <td>1900.0</td>\n",
       "    </tr>\n",
       "    <tr>\n",
       "      <th>3</th>\n",
       "      <td>The Manhattan Transcripts Project, New York, N...</td>\n",
       "      <td>Bernard Tschumi</td>\n",
       "      <td>7056</td>\n",
       "      <td>(French and Swiss, born Switzerland 1944)</td>\n",
       "      <td>()</td>\n",
       "      <td>(1944)</td>\n",
       "      <td>(0)</td>\n",
       "      <td>(male)</td>\n",
       "      <td>1980.0</td>\n",
       "      <td>Photographic reproduction with colored synthet...</td>\n",
       "      <td>...</td>\n",
       "      <td>NaN</td>\n",
       "      <td>NaN</td>\n",
       "      <td>50.800000</td>\n",
       "      <td>NaN</td>\n",
       "      <td>NaN</td>\n",
       "      <td>50.800000</td>\n",
       "      <td>NaN</td>\n",
       "      <td>NaN</td>\n",
       "      <td>2580.640000</td>\n",
       "      <td>1980.0</td>\n",
       "    </tr>\n",
       "    <tr>\n",
       "      <th>4</th>\n",
       "      <td>Villa project, outside Vienna, Austria (Exteri...</td>\n",
       "      <td>Emil Hoppe</td>\n",
       "      <td>7605</td>\n",
       "      <td>(Austrian, 1876–1957)</td>\n",
       "      <td>(Austrian)</td>\n",
       "      <td>(1876)</td>\n",
       "      <td>(1957)</td>\n",
       "      <td>(male)</td>\n",
       "      <td>1903.0</td>\n",
       "      <td>Graphite, color pencil, ink, and gouache on tr...</td>\n",
       "      <td>...</td>\n",
       "      <td>NaN</td>\n",
       "      <td>NaN</td>\n",
       "      <td>38.400000</td>\n",
       "      <td>NaN</td>\n",
       "      <td>NaN</td>\n",
       "      <td>19.100000</td>\n",
       "      <td>NaN</td>\n",
       "      <td>NaN</td>\n",
       "      <td>733.440000</td>\n",
       "      <td>1900.0</td>\n",
       "    </tr>\n",
       "    <tr>\n",
       "      <th>...</th>\n",
       "      <td>...</td>\n",
       "      <td>...</td>\n",
       "      <td>...</td>\n",
       "      <td>...</td>\n",
       "      <td>...</td>\n",
       "      <td>...</td>\n",
       "      <td>...</td>\n",
       "      <td>...</td>\n",
       "      <td>...</td>\n",
       "      <td>...</td>\n",
       "      <td>...</td>\n",
       "      <td>...</td>\n",
       "      <td>...</td>\n",
       "      <td>...</td>\n",
       "      <td>...</td>\n",
       "      <td>...</td>\n",
       "      <td>...</td>\n",
       "      <td>...</td>\n",
       "      <td>...</td>\n",
       "      <td>...</td>\n",
       "      <td>...</td>\n",
       "    </tr>\n",
       "    <tr>\n",
       "      <th>157625</th>\n",
       "      <td>Untitled</td>\n",
       "      <td>Adam Pendleton</td>\n",
       "      <td>38901</td>\n",
       "      <td>(American, born 1984)</td>\n",
       "      <td>(American)</td>\n",
       "      <td>(1984)</td>\n",
       "      <td>(0)</td>\n",
       "      <td>(male)</td>\n",
       "      <td>2021.0</td>\n",
       "      <td>Silkscreen ink on Mylar</td>\n",
       "      <td>...</td>\n",
       "      <td>NaN</td>\n",
       "      <td>NaN</td>\n",
       "      <td>96.520193</td>\n",
       "      <td>NaN</td>\n",
       "      <td>NaN</td>\n",
       "      <td>73.660147</td>\n",
       "      <td>NaN</td>\n",
       "      <td>NaN</td>\n",
       "      <td>7109.691639</td>\n",
       "      <td>2020.0</td>\n",
       "    </tr>\n",
       "    <tr>\n",
       "      <th>157626</th>\n",
       "      <td>Untitled</td>\n",
       "      <td>Adam Pendleton</td>\n",
       "      <td>38901</td>\n",
       "      <td>(American, born 1984)</td>\n",
       "      <td>(American)</td>\n",
       "      <td>(1984)</td>\n",
       "      <td>(0)</td>\n",
       "      <td>(male)</td>\n",
       "      <td>2021.0</td>\n",
       "      <td>Silkscreen ink on Mylar</td>\n",
       "      <td>...</td>\n",
       "      <td>NaN</td>\n",
       "      <td>NaN</td>\n",
       "      <td>96.520193</td>\n",
       "      <td>NaN</td>\n",
       "      <td>NaN</td>\n",
       "      <td>73.660147</td>\n",
       "      <td>NaN</td>\n",
       "      <td>NaN</td>\n",
       "      <td>7109.691639</td>\n",
       "      <td>2020.0</td>\n",
       "    </tr>\n",
       "    <tr>\n",
       "      <th>157627</th>\n",
       "      <td>Untitled</td>\n",
       "      <td>Adam Pendleton</td>\n",
       "      <td>38901</td>\n",
       "      <td>(American, born 1984)</td>\n",
       "      <td>(American)</td>\n",
       "      <td>(1984)</td>\n",
       "      <td>(0)</td>\n",
       "      <td>(male)</td>\n",
       "      <td>2021.0</td>\n",
       "      <td>Silkscreen ink on Mylar</td>\n",
       "      <td>...</td>\n",
       "      <td>NaN</td>\n",
       "      <td>NaN</td>\n",
       "      <td>96.520193</td>\n",
       "      <td>NaN</td>\n",
       "      <td>NaN</td>\n",
       "      <td>73.660147</td>\n",
       "      <td>NaN</td>\n",
       "      <td>NaN</td>\n",
       "      <td>7109.691639</td>\n",
       "      <td>2020.0</td>\n",
       "    </tr>\n",
       "    <tr>\n",
       "      <th>157628</th>\n",
       "      <td>Untitled</td>\n",
       "      <td>Adam Pendleton</td>\n",
       "      <td>38901</td>\n",
       "      <td>(American, born 1984)</td>\n",
       "      <td>(American)</td>\n",
       "      <td>(1984)</td>\n",
       "      <td>(0)</td>\n",
       "      <td>(male)</td>\n",
       "      <td>2021.0</td>\n",
       "      <td>Silkscreen ink on Mylar</td>\n",
       "      <td>...</td>\n",
       "      <td>NaN</td>\n",
       "      <td>NaN</td>\n",
       "      <td>96.520193</td>\n",
       "      <td>NaN</td>\n",
       "      <td>NaN</td>\n",
       "      <td>73.660147</td>\n",
       "      <td>NaN</td>\n",
       "      <td>NaN</td>\n",
       "      <td>7109.691639</td>\n",
       "      <td>2020.0</td>\n",
       "    </tr>\n",
       "    <tr>\n",
       "      <th>157629</th>\n",
       "      <td>Untitled</td>\n",
       "      <td>Adam Pendleton</td>\n",
       "      <td>38901</td>\n",
       "      <td>(American, born 1984)</td>\n",
       "      <td>(American)</td>\n",
       "      <td>(1984)</td>\n",
       "      <td>(0)</td>\n",
       "      <td>(male)</td>\n",
       "      <td>2021.0</td>\n",
       "      <td>Silkscreen ink on Mylar</td>\n",
       "      <td>...</td>\n",
       "      <td>NaN</td>\n",
       "      <td>NaN</td>\n",
       "      <td>96.520193</td>\n",
       "      <td>NaN</td>\n",
       "      <td>NaN</td>\n",
       "      <td>73.660147</td>\n",
       "      <td>NaN</td>\n",
       "      <td>NaN</td>\n",
       "      <td>7109.691639</td>\n",
       "      <td>2020.0</td>\n",
       "    </tr>\n",
       "  </tbody>\n",
       "</table>\n",
       "<p>157630 rows × 32 columns</p>\n",
       "</div>"
      ],
      "text/plain": [
       "                                                    Title  \\\n",
       "0       Ferdinandsbrücke Project, Vienna, Austria (Ele...   \n",
       "1       City of Music, National Superior Conservatory ...   \n",
       "2       Villa project, outside Vienna, Austria (Elevat...   \n",
       "3       The Manhattan Transcripts Project, New York, N...   \n",
       "4       Villa project, outside Vienna, Austria (Exteri...   \n",
       "...                                                   ...   \n",
       "157625                                           Untitled   \n",
       "157626                                           Untitled   \n",
       "157627                                           Untitled   \n",
       "157628                                           Untitled   \n",
       "157629                                           Untitled   \n",
       "\n",
       "                          Artist ConstituentID  \\\n",
       "0                    Otto Wagner          6210   \n",
       "1       Christian de Portzamparc          7470   \n",
       "2                     Emil Hoppe          7605   \n",
       "3                Bernard Tschumi          7056   \n",
       "4                     Emil Hoppe          7605   \n",
       "...                          ...           ...   \n",
       "157625            Adam Pendleton         38901   \n",
       "157626            Adam Pendleton         38901   \n",
       "157627            Adam Pendleton         38901   \n",
       "157628            Adam Pendleton         38901   \n",
       "157629            Adam Pendleton         38901   \n",
       "\n",
       "                                        ArtistBio Nationality BeginDate  \\\n",
       "0                           (Austrian, 1841–1918)  (Austrian)    (1841)   \n",
       "1                             (French, born 1944)    (French)    (1944)   \n",
       "2                           (Austrian, 1876–1957)  (Austrian)    (1876)   \n",
       "3       (French and Swiss, born Switzerland 1944)          ()    (1944)   \n",
       "4                           (Austrian, 1876–1957)  (Austrian)    (1876)   \n",
       "...                                           ...         ...       ...   \n",
       "157625                      (American, born 1984)  (American)    (1984)   \n",
       "157626                      (American, born 1984)  (American)    (1984)   \n",
       "157627                      (American, born 1984)  (American)    (1984)   \n",
       "157628                      (American, born 1984)  (American)    (1984)   \n",
       "157629                      (American, born 1984)  (American)    (1984)   \n",
       "\n",
       "       EndDate  Gender    Date  \\\n",
       "0       (1918)  (male)  1896.0   \n",
       "1          (0)  (male)  1987.0   \n",
       "2       (1957)  (male)  1903.0   \n",
       "3          (0)  (male)  1980.0   \n",
       "4       (1957)  (male)  1903.0   \n",
       "...        ...     ...     ...   \n",
       "157625     (0)  (male)  2021.0   \n",
       "157626     (0)  (male)  2021.0   \n",
       "157627     (0)  (male)  2021.0   \n",
       "157628     (0)  (male)  2021.0   \n",
       "157629     (0)  (male)  2021.0   \n",
       "\n",
       "                                                   Medium  ... Depth (cm)  \\\n",
       "0           Ink and cut-and-pasted painted pages on paper  ...        NaN   \n",
       "1                       Paint and colored pencil on print  ...        NaN   \n",
       "2       Graphite, pen, color pencil, ink, and gouache ...  ...        NaN   \n",
       "3       Photographic reproduction with colored synthet...  ...        NaN   \n",
       "4       Graphite, color pencil, ink, and gouache on tr...  ...        NaN   \n",
       "...                                                   ...  ...        ...   \n",
       "157625                            Silkscreen ink on Mylar  ...        NaN   \n",
       "157626                            Silkscreen ink on Mylar  ...        NaN   \n",
       "157627                            Silkscreen ink on Mylar  ...        NaN   \n",
       "157628                            Silkscreen ink on Mylar  ...        NaN   \n",
       "157629                            Silkscreen ink on Mylar  ...        NaN   \n",
       "\n",
       "       Diameter (cm) Height (cm) Length (cm) Weight (kg)  Width (cm)  \\\n",
       "0                NaN   48.600000         NaN         NaN  168.900000   \n",
       "1                NaN   40.640100         NaN         NaN   29.845100   \n",
       "2                NaN   34.300000         NaN         NaN   31.800000   \n",
       "3                NaN   50.800000         NaN         NaN   50.800000   \n",
       "4                NaN   38.400000         NaN         NaN   19.100000   \n",
       "...              ...         ...         ...         ...         ...   \n",
       "157625           NaN   96.520193         NaN         NaN   73.660147   \n",
       "157626           NaN   96.520193         NaN         NaN   73.660147   \n",
       "157627           NaN   96.520193         NaN         NaN   73.660147   \n",
       "157628           NaN   96.520193         NaN         NaN   73.660147   \n",
       "157629           NaN   96.520193         NaN         NaN   73.660147   \n",
       "\n",
       "       Seat Height (cm)  Duration (sec.) painting_size decades  \n",
       "0                   NaN              NaN   8208.540000  1890.0  \n",
       "1                   NaN              NaN   1212.907849  1980.0  \n",
       "2                   NaN              NaN   1090.740000  1900.0  \n",
       "3                   NaN              NaN   2580.640000  1980.0  \n",
       "4                   NaN              NaN    733.440000  1900.0  \n",
       "...                 ...              ...           ...     ...  \n",
       "157625              NaN              NaN   7109.691639  2020.0  \n",
       "157626              NaN              NaN   7109.691639  2020.0  \n",
       "157627              NaN              NaN   7109.691639  2020.0  \n",
       "157628              NaN              NaN   7109.691639  2020.0  \n",
       "157629              NaN              NaN   7109.691639  2020.0  \n",
       "\n",
       "[157630 rows x 32 columns]"
      ]
     },
     "execution_count": 25,
     "metadata": {},
     "output_type": "execute_result"
    }
   ],
   "source": [
    "artwork_df"
   ]
  },
  {
   "cell_type": "code",
   "execution_count": 26,
   "id": "fb48e59c-c83d-4008-a281-d9afb3ddfc9d",
   "metadata": {},
   "outputs": [
    {
     "data": {
      "text/html": [
       "<div>\n",
       "<style scoped>\n",
       "    .dataframe tbody tr th:only-of-type {\n",
       "        vertical-align: middle;\n",
       "    }\n",
       "\n",
       "    .dataframe tbody tr th {\n",
       "        vertical-align: top;\n",
       "    }\n",
       "\n",
       "    .dataframe thead th {\n",
       "        text-align: right;\n",
       "    }\n",
       "</style>\n",
       "<table border=\"1\" class=\"dataframe\">\n",
       "  <thead>\n",
       "    <tr style=\"text-align: right;\">\n",
       "      <th></th>\n",
       "      <th>decades</th>\n",
       "      <th>painting_size</th>\n",
       "    </tr>\n",
       "  </thead>\n",
       "  <tbody>\n",
       "    <tr>\n",
       "      <th>0</th>\n",
       "      <td>0.0</td>\n",
       "      <td>1708.861432</td>\n",
       "    </tr>\n",
       "    <tr>\n",
       "      <th>1</th>\n",
       "      <td>1760.0</td>\n",
       "      <td>309.120000</td>\n",
       "    </tr>\n",
       "    <tr>\n",
       "      <th>2</th>\n",
       "      <td>1780.0</td>\n",
       "      <td>69.160000</td>\n",
       "    </tr>\n",
       "    <tr>\n",
       "      <th>3</th>\n",
       "      <td>1790.0</td>\n",
       "      <td>324.006543</td>\n",
       "    </tr>\n",
       "    <tr>\n",
       "      <th>4</th>\n",
       "      <td>1800.0</td>\n",
       "      <td>253.480000</td>\n",
       "    </tr>\n",
       "    <tr>\n",
       "      <th>5</th>\n",
       "      <td>1810.0</td>\n",
       "      <td>129.660804</td>\n",
       "    </tr>\n",
       "    <tr>\n",
       "      <th>6</th>\n",
       "      <td>1820.0</td>\n",
       "      <td>584.502105</td>\n",
       "    </tr>\n",
       "    <tr>\n",
       "      <th>7</th>\n",
       "      <td>1830.0</td>\n",
       "      <td>393.730000</td>\n",
       "    </tr>\n",
       "    <tr>\n",
       "      <th>8</th>\n",
       "      <td>1840.0</td>\n",
       "      <td>258.102053</td>\n",
       "    </tr>\n",
       "    <tr>\n",
       "      <th>9</th>\n",
       "      <td>1850.0</td>\n",
       "      <td>450.743979</td>\n",
       "    </tr>\n",
       "    <tr>\n",
       "      <th>10</th>\n",
       "      <td>1860.0</td>\n",
       "      <td>606.231584</td>\n",
       "    </tr>\n",
       "    <tr>\n",
       "      <th>11</th>\n",
       "      <td>1870.0</td>\n",
       "      <td>1016.235130</td>\n",
       "    </tr>\n",
       "    <tr>\n",
       "      <th>12</th>\n",
       "      <td>1880.0</td>\n",
       "      <td>830.214906</td>\n",
       "    </tr>\n",
       "    <tr>\n",
       "      <th>13</th>\n",
       "      <td>1890.0</td>\n",
       "      <td>1260.011906</td>\n",
       "    </tr>\n",
       "    <tr>\n",
       "      <th>14</th>\n",
       "      <td>1900.0</td>\n",
       "      <td>1218.755788</td>\n",
       "    </tr>\n",
       "    <tr>\n",
       "      <th>15</th>\n",
       "      <td>1910.0</td>\n",
       "      <td>1635.216229</td>\n",
       "    </tr>\n",
       "    <tr>\n",
       "      <th>16</th>\n",
       "      <td>1920.0</td>\n",
       "      <td>1180.563735</td>\n",
       "    </tr>\n",
       "    <tr>\n",
       "      <th>17</th>\n",
       "      <td>1930.0</td>\n",
       "      <td>1615.199065</td>\n",
       "    </tr>\n",
       "    <tr>\n",
       "      <th>18</th>\n",
       "      <td>1940.0</td>\n",
       "      <td>1409.836006</td>\n",
       "    </tr>\n",
       "    <tr>\n",
       "      <th>19</th>\n",
       "      <td>1950.0</td>\n",
       "      <td>2348.345830</td>\n",
       "    </tr>\n",
       "    <tr>\n",
       "      <th>20</th>\n",
       "      <td>1960.0</td>\n",
       "      <td>3035.054651</td>\n",
       "    </tr>\n",
       "    <tr>\n",
       "      <th>21</th>\n",
       "      <td>1970.0</td>\n",
       "      <td>3078.714194</td>\n",
       "    </tr>\n",
       "    <tr>\n",
       "      <th>22</th>\n",
       "      <td>1980.0</td>\n",
       "      <td>4163.400753</td>\n",
       "    </tr>\n",
       "    <tr>\n",
       "      <th>23</th>\n",
       "      <td>1990.0</td>\n",
       "      <td>4142.428124</td>\n",
       "    </tr>\n",
       "    <tr>\n",
       "      <th>24</th>\n",
       "      <td>2000.0</td>\n",
       "      <td>5534.749735</td>\n",
       "    </tr>\n",
       "    <tr>\n",
       "      <th>25</th>\n",
       "      <td>2010.0</td>\n",
       "      <td>26327.249286</td>\n",
       "    </tr>\n",
       "    <tr>\n",
       "      <th>26</th>\n",
       "      <td>2020.0</td>\n",
       "      <td>10141.498888</td>\n",
       "    </tr>\n",
       "  </tbody>\n",
       "</table>\n",
       "</div>"
      ],
      "text/plain": [
       "    decades  painting_size\n",
       "0       0.0    1708.861432\n",
       "1    1760.0     309.120000\n",
       "2    1780.0      69.160000\n",
       "3    1790.0     324.006543\n",
       "4    1800.0     253.480000\n",
       "5    1810.0     129.660804\n",
       "6    1820.0     584.502105\n",
       "7    1830.0     393.730000\n",
       "8    1840.0     258.102053\n",
       "9    1850.0     450.743979\n",
       "10   1860.0     606.231584\n",
       "11   1870.0    1016.235130\n",
       "12   1880.0     830.214906\n",
       "13   1890.0    1260.011906\n",
       "14   1900.0    1218.755788\n",
       "15   1910.0    1635.216229\n",
       "16   1920.0    1180.563735\n",
       "17   1930.0    1615.199065\n",
       "18   1940.0    1409.836006\n",
       "19   1950.0    2348.345830\n",
       "20   1960.0    3035.054651\n",
       "21   1970.0    3078.714194\n",
       "22   1980.0    4163.400753\n",
       "23   1990.0    4142.428124\n",
       "24   2000.0    5534.749735\n",
       "25   2010.0   26327.249286\n",
       "26   2020.0   10141.498888"
      ]
     },
     "execution_count": 26,
     "metadata": {},
     "output_type": "execute_result"
    }
   ],
   "source": [
    "average_painting_size"
   ]
  },
  {
   "cell_type": "code",
   "execution_count": 81,
   "id": "67b1eeb0-42fb-475f-ac58-25151bccf9ab",
   "metadata": {},
   "outputs": [
    {
     "data": {
      "application/vnd.plotly.v1+json": {
       "config": {
        "plotlyServerURL": "https://plot.ly"
       },
       "data": [
        {
         "alignmentgroup": "True",
         "hovertemplate": "decades=%{x}<br>painting_size=%{marker.color}<extra></extra>",
         "legendgroup": "",
         "marker": {
          "color": [
           309.12,
           69.16,
           324.00654320987655,
           253.48,
           129.6608037825059,
           584.5021052631579,
           393.73,
           258.10205334358795,
           450.74397901561895,
           606.231584479502,
           1016.2351302855739,
           830.214906268707,
           1260.011905940071,
           1218.755788223981,
           1635.2162291566174,
           1180.5637352688632,
           1615.1990653597475,
           1409.8360059080846,
           2348.3458299260597,
           3035.0546513947834,
           3078.714194185701,
           4163.400753142223,
           4142.428123664309,
           5534.749735440321,
           26327.24928646225,
           10141.498887515321
          ],
          "coloraxis": "coloraxis",
          "opacity": 0.8,
          "pattern": {
           "shape": ""
          }
         },
         "name": "",
         "offsetgroup": "",
         "orientation": "v",
         "showlegend": false,
         "text": [
          309.12,
          69.16,
          324.00654320987655,
          253.48,
          129.6608037825059,
          584.5021052631579,
          393.73,
          258.10205334358795,
          450.74397901561895,
          606.231584479502,
          1016.2351302855739,
          830.214906268707,
          1260.011905940071,
          1218.755788223981,
          1635.2162291566174,
          1180.5637352688632,
          1615.1990653597475,
          1409.8360059080846,
          2348.3458299260597,
          3035.0546513947834,
          3078.714194185701,
          4163.400753142223,
          4142.428123664309,
          5534.749735440321,
          26327.24928646225,
          10141.498887515321
         ],
         "textposition": "outside",
         "texttemplate": "%{text:.2f}",
         "type": "bar",
         "x": [
          1760,
          1780,
          1790,
          1800,
          1810,
          1820,
          1830,
          1840,
          1850,
          1860,
          1870,
          1880,
          1890,
          1900,
          1910,
          1920,
          1930,
          1940,
          1950,
          1960,
          1970,
          1980,
          1990,
          2000,
          2010,
          2020
         ],
         "xaxis": "x",
         "y": [
          309.12,
          69.16,
          324.00654320987655,
          253.48,
          129.6608037825059,
          584.5021052631579,
          393.73,
          258.10205334358795,
          450.74397901561895,
          606.231584479502,
          1016.2351302855739,
          830.214906268707,
          1260.011905940071,
          1218.755788223981,
          1635.2162291566174,
          1180.5637352688632,
          1615.1990653597475,
          1409.8360059080846,
          2348.3458299260597,
          3035.0546513947834,
          3078.714194185701,
          4163.400753142223,
          4142.428123664309,
          5534.749735440321,
          26327.24928646225,
          10141.498887515321
         ],
         "yaxis": "y"
        }
       ],
       "layout": {
        "autosize": true,
        "barmode": "relative",
        "coloraxis": {
         "colorbar": {
          "bgcolor": "#2D2D2D",
          "bordercolor": "#444444",
          "borderwidth": 1,
          "tickcolor": "#FFFFFF",
          "title": {
           "font": {
            "color": "#FFFFFF"
           },
           "text": "Average Painting Size"
          }
         },
         "colorscale": [
          [
           0,
           "#440154"
          ],
          [
           0.1111111111111111,
           "#482878"
          ],
          [
           0.2222222222222222,
           "#3e4989"
          ],
          [
           0.3333333333333333,
           "#31688e"
          ],
          [
           0.4444444444444444,
           "#26828e"
          ],
          [
           0.5555555555555556,
           "#1f9e89"
          ],
          [
           0.6666666666666666,
           "#35b779"
          ],
          [
           0.7777777777777778,
           "#6ece58"
          ],
          [
           0.8888888888888888,
           "#b5de2b"
          ],
          [
           1,
           "#fde725"
          ]
         ]
        },
        "font": {
         "color": "#FFFFFF",
         "size": 14
        },
        "legend": {
         "tracegroupgap": 0
        },
        "paper_bgcolor": "#1E1E1E",
        "plot_bgcolor": "#1E1E1E",
        "template": {
         "data": {
          "bar": [
           {
            "error_x": {
             "color": "#2a3f5f"
            },
            "error_y": {
             "color": "#2a3f5f"
            },
            "marker": {
             "line": {
              "color": "#E5ECF6",
              "width": 0.5
             },
             "pattern": {
              "fillmode": "overlay",
              "size": 10,
              "solidity": 0.2
             }
            },
            "type": "bar"
           }
          ],
          "barpolar": [
           {
            "marker": {
             "line": {
              "color": "#E5ECF6",
              "width": 0.5
             },
             "pattern": {
              "fillmode": "overlay",
              "size": 10,
              "solidity": 0.2
             }
            },
            "type": "barpolar"
           }
          ],
          "carpet": [
           {
            "aaxis": {
             "endlinecolor": "#2a3f5f",
             "gridcolor": "white",
             "linecolor": "white",
             "minorgridcolor": "white",
             "startlinecolor": "#2a3f5f"
            },
            "baxis": {
             "endlinecolor": "#2a3f5f",
             "gridcolor": "white",
             "linecolor": "white",
             "minorgridcolor": "white",
             "startlinecolor": "#2a3f5f"
            },
            "type": "carpet"
           }
          ],
          "choropleth": [
           {
            "colorbar": {
             "outlinewidth": 0,
             "ticks": ""
            },
            "type": "choropleth"
           }
          ],
          "contour": [
           {
            "colorbar": {
             "outlinewidth": 0,
             "ticks": ""
            },
            "colorscale": [
             [
              0,
              "#0d0887"
             ],
             [
              0.1111111111111111,
              "#46039f"
             ],
             [
              0.2222222222222222,
              "#7201a8"
             ],
             [
              0.3333333333333333,
              "#9c179e"
             ],
             [
              0.4444444444444444,
              "#bd3786"
             ],
             [
              0.5555555555555556,
              "#d8576b"
             ],
             [
              0.6666666666666666,
              "#ed7953"
             ],
             [
              0.7777777777777778,
              "#fb9f3a"
             ],
             [
              0.8888888888888888,
              "#fdca26"
             ],
             [
              1,
              "#f0f921"
             ]
            ],
            "type": "contour"
           }
          ],
          "contourcarpet": [
           {
            "colorbar": {
             "outlinewidth": 0,
             "ticks": ""
            },
            "type": "contourcarpet"
           }
          ],
          "heatmap": [
           {
            "colorbar": {
             "outlinewidth": 0,
             "ticks": ""
            },
            "colorscale": [
             [
              0,
              "#0d0887"
             ],
             [
              0.1111111111111111,
              "#46039f"
             ],
             [
              0.2222222222222222,
              "#7201a8"
             ],
             [
              0.3333333333333333,
              "#9c179e"
             ],
             [
              0.4444444444444444,
              "#bd3786"
             ],
             [
              0.5555555555555556,
              "#d8576b"
             ],
             [
              0.6666666666666666,
              "#ed7953"
             ],
             [
              0.7777777777777778,
              "#fb9f3a"
             ],
             [
              0.8888888888888888,
              "#fdca26"
             ],
             [
              1,
              "#f0f921"
             ]
            ],
            "type": "heatmap"
           }
          ],
          "heatmapgl": [
           {
            "colorbar": {
             "outlinewidth": 0,
             "ticks": ""
            },
            "colorscale": [
             [
              0,
              "#0d0887"
             ],
             [
              0.1111111111111111,
              "#46039f"
             ],
             [
              0.2222222222222222,
              "#7201a8"
             ],
             [
              0.3333333333333333,
              "#9c179e"
             ],
             [
              0.4444444444444444,
              "#bd3786"
             ],
             [
              0.5555555555555556,
              "#d8576b"
             ],
             [
              0.6666666666666666,
              "#ed7953"
             ],
             [
              0.7777777777777778,
              "#fb9f3a"
             ],
             [
              0.8888888888888888,
              "#fdca26"
             ],
             [
              1,
              "#f0f921"
             ]
            ],
            "type": "heatmapgl"
           }
          ],
          "histogram": [
           {
            "marker": {
             "pattern": {
              "fillmode": "overlay",
              "size": 10,
              "solidity": 0.2
             }
            },
            "type": "histogram"
           }
          ],
          "histogram2d": [
           {
            "colorbar": {
             "outlinewidth": 0,
             "ticks": ""
            },
            "colorscale": [
             [
              0,
              "#0d0887"
             ],
             [
              0.1111111111111111,
              "#46039f"
             ],
             [
              0.2222222222222222,
              "#7201a8"
             ],
             [
              0.3333333333333333,
              "#9c179e"
             ],
             [
              0.4444444444444444,
              "#bd3786"
             ],
             [
              0.5555555555555556,
              "#d8576b"
             ],
             [
              0.6666666666666666,
              "#ed7953"
             ],
             [
              0.7777777777777778,
              "#fb9f3a"
             ],
             [
              0.8888888888888888,
              "#fdca26"
             ],
             [
              1,
              "#f0f921"
             ]
            ],
            "type": "histogram2d"
           }
          ],
          "histogram2dcontour": [
           {
            "colorbar": {
             "outlinewidth": 0,
             "ticks": ""
            },
            "colorscale": [
             [
              0,
              "#0d0887"
             ],
             [
              0.1111111111111111,
              "#46039f"
             ],
             [
              0.2222222222222222,
              "#7201a8"
             ],
             [
              0.3333333333333333,
              "#9c179e"
             ],
             [
              0.4444444444444444,
              "#bd3786"
             ],
             [
              0.5555555555555556,
              "#d8576b"
             ],
             [
              0.6666666666666666,
              "#ed7953"
             ],
             [
              0.7777777777777778,
              "#fb9f3a"
             ],
             [
              0.8888888888888888,
              "#fdca26"
             ],
             [
              1,
              "#f0f921"
             ]
            ],
            "type": "histogram2dcontour"
           }
          ],
          "mesh3d": [
           {
            "colorbar": {
             "outlinewidth": 0,
             "ticks": ""
            },
            "type": "mesh3d"
           }
          ],
          "parcoords": [
           {
            "line": {
             "colorbar": {
              "outlinewidth": 0,
              "ticks": ""
             }
            },
            "type": "parcoords"
           }
          ],
          "pie": [
           {
            "automargin": true,
            "type": "pie"
           }
          ],
          "scatter": [
           {
            "fillpattern": {
             "fillmode": "overlay",
             "size": 10,
             "solidity": 0.2
            },
            "type": "scatter"
           }
          ],
          "scatter3d": [
           {
            "line": {
             "colorbar": {
              "outlinewidth": 0,
              "ticks": ""
             }
            },
            "marker": {
             "colorbar": {
              "outlinewidth": 0,
              "ticks": ""
             }
            },
            "type": "scatter3d"
           }
          ],
          "scattercarpet": [
           {
            "marker": {
             "colorbar": {
              "outlinewidth": 0,
              "ticks": ""
             }
            },
            "type": "scattercarpet"
           }
          ],
          "scattergeo": [
           {
            "marker": {
             "colorbar": {
              "outlinewidth": 0,
              "ticks": ""
             }
            },
            "type": "scattergeo"
           }
          ],
          "scattergl": [
           {
            "marker": {
             "colorbar": {
              "outlinewidth": 0,
              "ticks": ""
             }
            },
            "type": "scattergl"
           }
          ],
          "scattermapbox": [
           {
            "marker": {
             "colorbar": {
              "outlinewidth": 0,
              "ticks": ""
             }
            },
            "type": "scattermapbox"
           }
          ],
          "scatterpolar": [
           {
            "marker": {
             "colorbar": {
              "outlinewidth": 0,
              "ticks": ""
             }
            },
            "type": "scatterpolar"
           }
          ],
          "scatterpolargl": [
           {
            "marker": {
             "colorbar": {
              "outlinewidth": 0,
              "ticks": ""
             }
            },
            "type": "scatterpolargl"
           }
          ],
          "scatterternary": [
           {
            "marker": {
             "colorbar": {
              "outlinewidth": 0,
              "ticks": ""
             }
            },
            "type": "scatterternary"
           }
          ],
          "surface": [
           {
            "colorbar": {
             "outlinewidth": 0,
             "ticks": ""
            },
            "colorscale": [
             [
              0,
              "#0d0887"
             ],
             [
              0.1111111111111111,
              "#46039f"
             ],
             [
              0.2222222222222222,
              "#7201a8"
             ],
             [
              0.3333333333333333,
              "#9c179e"
             ],
             [
              0.4444444444444444,
              "#bd3786"
             ],
             [
              0.5555555555555556,
              "#d8576b"
             ],
             [
              0.6666666666666666,
              "#ed7953"
             ],
             [
              0.7777777777777778,
              "#fb9f3a"
             ],
             [
              0.8888888888888888,
              "#fdca26"
             ],
             [
              1,
              "#f0f921"
             ]
            ],
            "type": "surface"
           }
          ],
          "table": [
           {
            "cells": {
             "fill": {
              "color": "#EBF0F8"
             },
             "line": {
              "color": "white"
             }
            },
            "header": {
             "fill": {
              "color": "#C8D4E3"
             },
             "line": {
              "color": "white"
             }
            },
            "type": "table"
           }
          ]
         },
         "layout": {
          "annotationdefaults": {
           "arrowcolor": "#2a3f5f",
           "arrowhead": 0,
           "arrowwidth": 1
          },
          "autotypenumbers": "strict",
          "coloraxis": {
           "colorbar": {
            "outlinewidth": 0,
            "ticks": ""
           }
          },
          "colorscale": {
           "diverging": [
            [
             0,
             "#8e0152"
            ],
            [
             0.1,
             "#c51b7d"
            ],
            [
             0.2,
             "#de77ae"
            ],
            [
             0.3,
             "#f1b6da"
            ],
            [
             0.4,
             "#fde0ef"
            ],
            [
             0.5,
             "#f7f7f7"
            ],
            [
             0.6,
             "#e6f5d0"
            ],
            [
             0.7,
             "#b8e186"
            ],
            [
             0.8,
             "#7fbc41"
            ],
            [
             0.9,
             "#4d9221"
            ],
            [
             1,
             "#276419"
            ]
           ],
           "sequential": [
            [
             0,
             "#0d0887"
            ],
            [
             0.1111111111111111,
             "#46039f"
            ],
            [
             0.2222222222222222,
             "#7201a8"
            ],
            [
             0.3333333333333333,
             "#9c179e"
            ],
            [
             0.4444444444444444,
             "#bd3786"
            ],
            [
             0.5555555555555556,
             "#d8576b"
            ],
            [
             0.6666666666666666,
             "#ed7953"
            ],
            [
             0.7777777777777778,
             "#fb9f3a"
            ],
            [
             0.8888888888888888,
             "#fdca26"
            ],
            [
             1,
             "#f0f921"
            ]
           ],
           "sequentialminus": [
            [
             0,
             "#0d0887"
            ],
            [
             0.1111111111111111,
             "#46039f"
            ],
            [
             0.2222222222222222,
             "#7201a8"
            ],
            [
             0.3333333333333333,
             "#9c179e"
            ],
            [
             0.4444444444444444,
             "#bd3786"
            ],
            [
             0.5555555555555556,
             "#d8576b"
            ],
            [
             0.6666666666666666,
             "#ed7953"
            ],
            [
             0.7777777777777778,
             "#fb9f3a"
            ],
            [
             0.8888888888888888,
             "#fdca26"
            ],
            [
             1,
             "#f0f921"
            ]
           ]
          },
          "colorway": [
           "#636efa",
           "#EF553B",
           "#00cc96",
           "#ab63fa",
           "#FFA15A",
           "#19d3f3",
           "#FF6692",
           "#B6E880",
           "#FF97FF",
           "#FECB52"
          ],
          "font": {
           "color": "#2a3f5f"
          },
          "geo": {
           "bgcolor": "white",
           "lakecolor": "white",
           "landcolor": "#E5ECF6",
           "showlakes": true,
           "showland": true,
           "subunitcolor": "white"
          },
          "hoverlabel": {
           "align": "left"
          },
          "hovermode": "closest",
          "mapbox": {
           "style": "light"
          },
          "paper_bgcolor": "white",
          "plot_bgcolor": "#E5ECF6",
          "polar": {
           "angularaxis": {
            "gridcolor": "white",
            "linecolor": "white",
            "ticks": ""
           },
           "bgcolor": "#E5ECF6",
           "radialaxis": {
            "gridcolor": "white",
            "linecolor": "white",
            "ticks": ""
           }
          },
          "scene": {
           "xaxis": {
            "backgroundcolor": "#E5ECF6",
            "gridcolor": "white",
            "gridwidth": 2,
            "linecolor": "white",
            "showbackground": true,
            "ticks": "",
            "zerolinecolor": "white"
           },
           "yaxis": {
            "backgroundcolor": "#E5ECF6",
            "gridcolor": "white",
            "gridwidth": 2,
            "linecolor": "white",
            "showbackground": true,
            "ticks": "",
            "zerolinecolor": "white"
           },
           "zaxis": {
            "backgroundcolor": "#E5ECF6",
            "gridcolor": "white",
            "gridwidth": 2,
            "linecolor": "white",
            "showbackground": true,
            "ticks": "",
            "zerolinecolor": "white"
           }
          },
          "shapedefaults": {
           "line": {
            "color": "#2a3f5f"
           }
          },
          "ternary": {
           "aaxis": {
            "gridcolor": "white",
            "linecolor": "white",
            "ticks": ""
           },
           "baxis": {
            "gridcolor": "white",
            "linecolor": "white",
            "ticks": ""
           },
           "bgcolor": "#E5ECF6",
           "caxis": {
            "gridcolor": "white",
            "linecolor": "white",
            "ticks": ""
           }
          },
          "title": {
           "x": 0.05
          },
          "xaxis": {
           "automargin": true,
           "gridcolor": "white",
           "linecolor": "white",
           "ticks": "",
           "title": {
            "standoff": 15
           },
           "zerolinecolor": "white",
           "zerolinewidth": 2
          },
          "yaxis": {
           "automargin": true,
           "gridcolor": "white",
           "linecolor": "white",
           "ticks": "",
           "title": {
            "standoff": 15
           },
           "zerolinecolor": "white",
           "zerolinewidth": 2
          }
         }
        },
        "title": {
         "font": {
          "color": "#00CED1",
          "size": 20
         },
         "text": "Average Painting Sizes by Decade",
         "x": 0.5
        },
        "xaxis": {
         "anchor": "y",
         "autorange": true,
         "color": "#FFFFFF",
         "domain": [
          0,
          1
         ],
         "gridcolor": "#444444",
         "range": [
          1755,
          2025
         ],
         "ticklabelstandoff": 20,
         "title": {
          "text": "Decade"
         },
         "type": "linear",
         "zeroline": false
        },
        "yaxis": {
         "anchor": "x",
         "autorange": true,
         "color": "#FFFFFF",
         "domain": [
          0,
          1
         ],
         "range": [
          0,
          27712.89398574974
         ],
         "showgrid": false,
         "title": {
          "text": "Average Painting Size"
         },
         "type": "linear"
        }
       }
      },
      "image/png": "[encoded data removed]",
      "text/html": [
       "<div>                            <div id=\"63358fef-fff3-4d7e-aba4-47c29ded4134\" class=\"plotly-graph-div\" style=\"height:525px; width:100%;\"></div>            <script type=\"text/javascript\">                require([\"plotly\"], function(Plotly) {                    window.PLOTLYENV=window.PLOTLYENV || {};                                    if (document.getElementById(\"63358fef-fff3-4d7e-aba4-47c29ded4134\")) {                    Plotly.newPlot(                        \"63358fef-fff3-4d7e-aba4-47c29ded4134\",                        [{\"alignmentgroup\":\"True\",\"hovertemplate\":\"decades=%{x}\\u003cbr\\u003epainting_size=%{marker.color}\\u003cextra\\u003e\\u003c\\u002fextra\\u003e\",\"legendgroup\":\"\",\"marker\":{\"color\":[309.12,69.16,324.00654320987655,253.48,129.6608037825059,584.5021052631579,393.73,258.10205334358795,450.74397901561895,606.231584479502,1016.2351302855739,830.214906268707,1260.011905940071,1218.755788223981,1635.2162291566174,1180.5637352688632,1615.1990653597475,1409.8360059080846,2348.3458299260597,3035.0546513947834,3078.714194185701,4163.400753142223,4142.428123664309,5534.749735440321,26327.24928646225,10141.498887515321],\"coloraxis\":\"coloraxis\",\"pattern\":{\"shape\":\"\"},\"opacity\":0.8},\"name\":\"\",\"offsetgroup\":\"\",\"orientation\":\"v\",\"showlegend\":false,\"text\":[309.12,69.16,324.00654320987655,253.48,129.6608037825059,584.5021052631579,393.73,258.10205334358795,450.74397901561895,606.231584479502,1016.2351302855739,830.214906268707,1260.011905940071,1218.755788223981,1635.2162291566174,1180.5637352688632,1615.1990653597475,1409.8360059080846,2348.3458299260597,3035.0546513947834,3078.714194185701,4163.400753142223,4142.428123664309,5534.749735440321,26327.24928646225,10141.498887515321],\"textposition\":\"outside\",\"x\":[1760.0,1780.0,1790.0,1800.0,1810.0,1820.0,1830.0,1840.0,1850.0,1860.0,1870.0,1880.0,1890.0,1900.0,1910.0,1920.0,1930.0,1940.0,1950.0,1960.0,1970.0,1980.0,1990.0,2000.0,2010.0,2020.0],\"xaxis\":\"x\",\"y\":[309.12,69.16,324.00654320987655,253.48,129.6608037825059,584.5021052631579,393.73,258.10205334358795,450.74397901561895,606.231584479502,1016.2351302855739,830.214906268707,1260.011905940071,1218.755788223981,1635.2162291566174,1180.5637352688632,1615.1990653597475,1409.8360059080846,2348.3458299260597,3035.0546513947834,3078.714194185701,4163.400753142223,4142.428123664309,5534.749735440321,26327.24928646225,10141.498887515321],\"yaxis\":\"y\",\"type\":\"bar\",\"texttemplate\":\"%{text:.2f}\"}],                        {\"template\":{\"data\":{\"histogram2dcontour\":[{\"type\":\"histogram2dcontour\",\"colorbar\":{\"outlinewidth\":0,\"ticks\":\"\"},\"colorscale\":[[0.0,\"#0d0887\"],[0.1111111111111111,\"#46039f\"],[0.2222222222222222,\"#7201a8\"],[0.3333333333333333,\"#9c179e\"],[0.4444444444444444,\"#bd3786\"],[0.5555555555555556,\"#d8576b\"],[0.6666666666666666,\"#ed7953\"],[0.7777777777777778,\"#fb9f3a\"],[0.8888888888888888,\"#fdca26\"],[1.0,\"#f0f921\"]]}],\"choropleth\":[{\"type\":\"choropleth\",\"colorbar\":{\"outlinewidth\":0,\"ticks\":\"\"}}],\"histogram2d\":[{\"type\":\"histogram2d\",\"colorbar\":{\"outlinewidth\":0,\"ticks\":\"\"},\"colorscale\":[[0.0,\"#0d0887\"],[0.1111111111111111,\"#46039f\"],[0.2222222222222222,\"#7201a8\"],[0.3333333333333333,\"#9c179e\"],[0.4444444444444444,\"#bd3786\"],[0.5555555555555556,\"#d8576b\"],[0.6666666666666666,\"#ed7953\"],[0.7777777777777778,\"#fb9f3a\"],[0.8888888888888888,\"#fdca26\"],[1.0,\"#f0f921\"]]}],\"heatmap\":[{\"type\":\"heatmap\",\"colorbar\":{\"outlinewidth\":0,\"ticks\":\"\"},\"colorscale\":[[0.0,\"#0d0887\"],[0.1111111111111111,\"#46039f\"],[0.2222222222222222,\"#7201a8\"],[0.3333333333333333,\"#9c179e\"],[0.4444444444444444,\"#bd3786\"],[0.5555555555555556,\"#d8576b\"],[0.6666666666666666,\"#ed7953\"],[0.7777777777777778,\"#fb9f3a\"],[0.8888888888888888,\"#fdca26\"],[1.0,\"#f0f921\"]]}],\"heatmapgl\":[{\"type\":\"heatmapgl\",\"colorbar\":{\"outlinewidth\":0,\"ticks\":\"\"},\"colorscale\":[[0.0,\"#0d0887\"],[0.1111111111111111,\"#46039f\"],[0.2222222222222222,\"#7201a8\"],[0.3333333333333333,\"#9c179e\"],[0.4444444444444444,\"#bd3786\"],[0.5555555555555556,\"#d8576b\"],[0.6666666666666666,\"#ed7953\"],[0.7777777777777778,\"#fb9f3a\"],[0.8888888888888888,\"#fdca26\"],[1.0,\"#f0f921\"]]}],\"contourcarpet\":[{\"type\":\"contourcarpet\",\"colorbar\":{\"outlinewidth\":0,\"ticks\":\"\"}}],\"contour\":[{\"type\":\"contour\",\"colorbar\":{\"outlinewidth\":0,\"ticks\":\"\"},\"colorscale\":[[0.0,\"#0d0887\"],[0.1111111111111111,\"#46039f\"],[0.2222222222222222,\"#7201a8\"],[0.3333333333333333,\"#9c179e\"],[0.4444444444444444,\"#bd3786\"],[0.5555555555555556,\"#d8576b\"],[0.6666666666666666,\"#ed7953\"],[0.7777777777777778,\"#fb9f3a\"],[0.8888888888888888,\"#fdca26\"],[1.0,\"#f0f921\"]]}],\"surface\":[{\"type\":\"surface\",\"colorbar\":{\"outlinewidth\":0,\"ticks\":\"\"},\"colorscale\":[[0.0,\"#0d0887\"],[0.1111111111111111,\"#46039f\"],[0.2222222222222222,\"#7201a8\"],[0.3333333333333333,\"#9c179e\"],[0.4444444444444444,\"#bd3786\"],[0.5555555555555556,\"#d8576b\"],[0.6666666666666666,\"#ed7953\"],[0.7777777777777778,\"#fb9f3a\"],[0.8888888888888888,\"#fdca26\"],[1.0,\"#f0f921\"]]}],\"mesh3d\":[{\"type\":\"mesh3d\",\"colorbar\":{\"outlinewidth\":0,\"ticks\":\"\"}}],\"scatter\":[{\"fillpattern\":{\"fillmode\":\"overlay\",\"size\":10,\"solidity\":0.2},\"type\":\"scatter\"}],\"parcoords\":[{\"type\":\"parcoords\",\"line\":{\"colorbar\":{\"outlinewidth\":0,\"ticks\":\"\"}}}],\"scatterpolargl\":[{\"type\":\"scatterpolargl\",\"marker\":{\"colorbar\":{\"outlinewidth\":0,\"ticks\":\"\"}}}],\"bar\":[{\"error_x\":{\"color\":\"#2a3f5f\"},\"error_y\":{\"color\":\"#2a3f5f\"},\"marker\":{\"line\":{\"color\":\"#E5ECF6\",\"width\":0.5},\"pattern\":{\"fillmode\":\"overlay\",\"size\":10,\"solidity\":0.2}},\"type\":\"bar\"}],\"scattergeo\":[{\"type\":\"scattergeo\",\"marker\":{\"colorbar\":{\"outlinewidth\":0,\"ticks\":\"\"}}}],\"scatterpolar\":[{\"type\":\"scatterpolar\",\"marker\":{\"colorbar\":{\"outlinewidth\":0,\"ticks\":\"\"}}}],\"histogram\":[{\"marker\":{\"pattern\":{\"fillmode\":\"overlay\",\"size\":10,\"solidity\":0.2}},\"type\":\"histogram\"}],\"scattergl\":[{\"type\":\"scattergl\",\"marker\":{\"colorbar\":{\"outlinewidth\":0,\"ticks\":\"\"}}}],\"scatter3d\":[{\"type\":\"scatter3d\",\"line\":{\"colorbar\":{\"outlinewidth\":0,\"ticks\":\"\"}},\"marker\":{\"colorbar\":{\"outlinewidth\":0,\"ticks\":\"\"}}}],\"scattermapbox\":[{\"type\":\"scattermapbox\",\"marker\":{\"colorbar\":{\"outlinewidth\":0,\"ticks\":\"\"}}}],\"scatterternary\":[{\"type\":\"scatterternary\",\"marker\":{\"colorbar\":{\"outlinewidth\":0,\"ticks\":\"\"}}}],\"scattercarpet\":[{\"type\":\"scattercarpet\",\"marker\":{\"colorbar\":{\"outlinewidth\":0,\"ticks\":\"\"}}}],\"carpet\":[{\"aaxis\":{\"endlinecolor\":\"#2a3f5f\",\"gridcolor\":\"white\",\"linecolor\":\"white\",\"minorgridcolor\":\"white\",\"startlinecolor\":\"#2a3f5f\"},\"baxis\":{\"endlinecolor\":\"#2a3f5f\",\"gridcolor\":\"white\",\"linecolor\":\"white\",\"minorgridcolor\":\"white\",\"startlinecolor\":\"#2a3f5f\"},\"type\":\"carpet\"}],\"table\":[{\"cells\":{\"fill\":{\"color\":\"#EBF0F8\"},\"line\":{\"color\":\"white\"}},\"header\":{\"fill\":{\"color\":\"#C8D4E3\"},\"line\":{\"color\":\"white\"}},\"type\":\"table\"}],\"barpolar\":[{\"marker\":{\"line\":{\"color\":\"#E5ECF6\",\"width\":0.5},\"pattern\":{\"fillmode\":\"overlay\",\"size\":10,\"solidity\":0.2}},\"type\":\"barpolar\"}],\"pie\":[{\"automargin\":true,\"type\":\"pie\"}]},\"layout\":{\"autotypenumbers\":\"strict\",\"colorway\":[\"#636efa\",\"#EF553B\",\"#00cc96\",\"#ab63fa\",\"#FFA15A\",\"#19d3f3\",\"#FF6692\",\"#B6E880\",\"#FF97FF\",\"#FECB52\"],\"font\":{\"color\":\"#2a3f5f\"},\"hovermode\":\"closest\",\"hoverlabel\":{\"align\":\"left\"},\"paper_bgcolor\":\"white\",\"plot_bgcolor\":\"#E5ECF6\",\"polar\":{\"bgcolor\":\"#E5ECF6\",\"angularaxis\":{\"gridcolor\":\"white\",\"linecolor\":\"white\",\"ticks\":\"\"},\"radialaxis\":{\"gridcolor\":\"white\",\"linecolor\":\"white\",\"ticks\":\"\"}},\"ternary\":{\"bgcolor\":\"#E5ECF6\",\"aaxis\":{\"gridcolor\":\"white\",\"linecolor\":\"white\",\"ticks\":\"\"},\"baxis\":{\"gridcolor\":\"white\",\"linecolor\":\"white\",\"ticks\":\"\"},\"caxis\":{\"gridcolor\":\"white\",\"linecolor\":\"white\",\"ticks\":\"\"}},\"coloraxis\":{\"colorbar\":{\"outlinewidth\":0,\"ticks\":\"\"}},\"colorscale\":{\"sequential\":[[0.0,\"#0d0887\"],[0.1111111111111111,\"#46039f\"],[0.2222222222222222,\"#7201a8\"],[0.3333333333333333,\"#9c179e\"],[0.4444444444444444,\"#bd3786\"],[0.5555555555555556,\"#d8576b\"],[0.6666666666666666,\"#ed7953\"],[0.7777777777777778,\"#fb9f3a\"],[0.8888888888888888,\"#fdca26\"],[1.0,\"#f0f921\"]],\"sequentialminus\":[[0.0,\"#0d0887\"],[0.1111111111111111,\"#46039f\"],[0.2222222222222222,\"#7201a8\"],[0.3333333333333333,\"#9c179e\"],[0.4444444444444444,\"#bd3786\"],[0.5555555555555556,\"#d8576b\"],[0.6666666666666666,\"#ed7953\"],[0.7777777777777778,\"#fb9f3a\"],[0.8888888888888888,\"#fdca26\"],[1.0,\"#f0f921\"]],\"diverging\":[[0,\"#8e0152\"],[0.1,\"#c51b7d\"],[0.2,\"#de77ae\"],[0.3,\"#f1b6da\"],[0.4,\"#fde0ef\"],[0.5,\"#f7f7f7\"],[0.6,\"#e6f5d0\"],[0.7,\"#b8e186\"],[0.8,\"#7fbc41\"],[0.9,\"#4d9221\"],[1,\"#276419\"]]},\"xaxis\":{\"gridcolor\":\"white\",\"linecolor\":\"white\",\"ticks\":\"\",\"title\":{\"standoff\":15},\"zerolinecolor\":\"white\",\"automargin\":true,\"zerolinewidth\":2},\"yaxis\":{\"gridcolor\":\"white\",\"linecolor\":\"white\",\"ticks\":\"\",\"title\":{\"standoff\":15},\"zerolinecolor\":\"white\",\"automargin\":true,\"zerolinewidth\":2},\"scene\":{\"xaxis\":{\"backgroundcolor\":\"#E5ECF6\",\"gridcolor\":\"white\",\"linecolor\":\"white\",\"showbackground\":true,\"ticks\":\"\",\"zerolinecolor\":\"white\",\"gridwidth\":2},\"yaxis\":{\"backgroundcolor\":\"#E5ECF6\",\"gridcolor\":\"white\",\"linecolor\":\"white\",\"showbackground\":true,\"ticks\":\"\",\"zerolinecolor\":\"white\",\"gridwidth\":2},\"zaxis\":{\"backgroundcolor\":\"#E5ECF6\",\"gridcolor\":\"white\",\"linecolor\":\"white\",\"showbackground\":true,\"ticks\":\"\",\"zerolinecolor\":\"white\",\"gridwidth\":2}},\"shapedefaults\":{\"line\":{\"color\":\"#2a3f5f\"}},\"annotationdefaults\":{\"arrowcolor\":\"#2a3f5f\",\"arrowhead\":0,\"arrowwidth\":1},\"geo\":{\"bgcolor\":\"white\",\"landcolor\":\"#E5ECF6\",\"subunitcolor\":\"white\",\"showland\":true,\"showlakes\":true,\"lakecolor\":\"white\"},\"title\":{\"x\":0.05},\"mapbox\":{\"style\":\"light\"}}},\"xaxis\":{\"anchor\":\"y\",\"domain\":[0.0,1.0],\"title\":{\"text\":\"Decade\"},\"color\":\"#FFFFFF\",\"gridcolor\":\"#444444\",\"zeroline\":false,\"ticklabelstandoff\":20},\"yaxis\":{\"anchor\":\"x\",\"domain\":[0.0,1.0],\"title\":{\"text\":\"Average Painting Size\"},\"color\":\"#FFFFFF\",\"showgrid\":false},\"coloraxis\":{\"colorbar\":{\"title\":{\"text\":\"Average Painting Size\",\"font\":{\"color\":\"#FFFFFF\"}},\"tickcolor\":\"#FFFFFF\",\"bgcolor\":\"#2D2D2D\",\"bordercolor\":\"#444444\",\"borderwidth\":1},\"colorscale\":[[0.0,\"#440154\"],[0.1111111111111111,\"#482878\"],[0.2222222222222222,\"#3e4989\"],[0.3333333333333333,\"#31688e\"],[0.4444444444444444,\"#26828e\"],[0.5555555555555556,\"#1f9e89\"],[0.6666666666666666,\"#35b779\"],[0.7777777777777778,\"#6ece58\"],[0.8888888888888888,\"#b5de2b\"],[1.0,\"#fde725\"]]},\"legend\":{\"tracegroupgap\":0},\"title\":{\"text\":\"Average Painting Sizes by Decade\",\"font\":{\"size\":20,\"color\":\"#00CED1\"},\"x\":0.5},\"barmode\":\"relative\",\"font\":{\"color\":\"#FFFFFF\",\"size\":14},\"plot_bgcolor\":\"#1E1E1E\",\"paper_bgcolor\":\"#1E1E1E\"},                        {\"responsive\": true}                    ).then(function(){\n",
       "                            \n",
       "var gd = document.getElementById('63358fef-fff3-4d7e-aba4-47c29ded4134');\n",
       "var x = new MutationObserver(function (mutations, observer) {{\n",
       "        var display = window.getComputedStyle(gd).display;\n",
       "        if (!display || display === 'none') {{\n",
       "            console.log([gd, 'removed!']);\n",
       "            Plotly.purge(gd);\n",
       "            observer.disconnect();\n",
       "        }}\n",
       "}});\n",
       "\n",
       "// Listen for the removal of the full notebook cells\n",
       "var notebookContainer = gd.closest('#notebook-container');\n",
       "if (notebookContainer) {{\n",
       "    x.observe(notebookContainer, {childList: true});\n",
       "}}\n",
       "\n",
       "// Listen for the clearing of the current output cell\n",
       "var outputEl = gd.closest('.output');\n",
       "if (outputEl) {{\n",
       "    x.observe(outputEl, {childList: true});\n",
       "}}\n",
       "\n",
       "                        })                };                });            </script>        </div>"
      ]
     },
     "metadata": {},
     "output_type": "display_data"
    }
   ],
   "source": [
    "average_painting_size = artwork_df.groupby('decades', as_index=False)['painting_size'].mean()\n",
    "filtered_data = average_painting_size[average_painting_size['decades'] >= 1700]\n",
    "\n",
    "T1fig1 = px.bar(\n",
    "    filtered_data,\n",
    "    x='decades',          \n",
    "    y='painting_size',\n",
    "    text='painting_size',     \n",
    "    title=\"Average Painting Sizes by Decade\",  \n",
    "    color='painting_size',     \n",
    "    color_continuous_scale=px.colors.sequential.Viridis \n",
    ")\n",
    "\n",
    "T1fig1.update_traces(\n",
    "    texttemplate='%{text:.2f}', \n",
    "    textposition='outside',     \n",
    "    marker=dict(opacity=0.8)    \n",
    ")\n",
    "\n",
    "T1fig1.update_layout(\n",
    "    plot_bgcolor=\"#1E1E1E\",      \n",
    "    paper_bgcolor=\"#1E1E1E\",    \n",
    "    font=dict(color=\"#FFFFFF\", size=14), \n",
    "    title=dict(font=dict(size=20, color=\"#00CED1\"), x=0.5),\n",
    "    xaxis=dict(\n",
    "        title=\"Decade\",     \n",
    "        color=\"#FFFFFF\",       \n",
    "        gridcolor=\"#444444\", \n",
    "        zeroline=False,\n",
    "        ticklabelstandoff=20\n",
    "    ),\n",
    "    yaxis=dict(\n",
    "        title=\"Average Painting Size\",   \n",
    "        color=\"#FFFFFF\",       \n",
    "        showgrid=False          \n",
    "    ),\n",
    "    coloraxis_colorbar=dict(\n",
    "        title=\"Average Painting Size\",  \n",
    "        tickcolor=\"#FFFFFF\",   \n",
    "        titlefont=dict(color=\"#FFFFFF\"), \n",
    "        bgcolor=\"#2D2D2D\",      \n",
    "        bordercolor=\"#444444\",   \n",
    "        borderwidth=1         \n",
    "    )\n",
    ")\n",
    "\n",
    "T1fig1.show()"
   ]
  },
  {
   "cell_type": "code",
   "execution_count": 28,
   "id": "a479828d-fd85-40d7-8822-66ab997ec0a0",
   "metadata": {},
   "outputs": [],
   "source": [
    "artwork_df['DateAcquired'] = artwork_df['DateAcquired'].str.split('-').str[0]"
   ]
  },
  {
   "cell_type": "code",
   "execution_count": 29,
   "id": "efd8b1d4-1407-4403-817e-4564fde3c20e",
   "metadata": {},
   "outputs": [],
   "source": [
    "artwork_df['DateAcquired'] = pd.to_numeric(artwork_df['DateAcquired'])"
   ]
  },
  {
   "cell_type": "code",
   "execution_count": 30,
   "id": "9376b774-a284-4c48-a3eb-2227d01230b6",
   "metadata": {},
   "outputs": [
    {
     "data": {
      "text/html": [
       "<div>\n",
       "<style scoped>\n",
       "    .dataframe tbody tr th:only-of-type {\n",
       "        vertical-align: middle;\n",
       "    }\n",
       "\n",
       "    .dataframe tbody tr th {\n",
       "        vertical-align: top;\n",
       "    }\n",
       "\n",
       "    .dataframe thead th {\n",
       "        text-align: right;\n",
       "    }\n",
       "</style>\n",
       "<table border=\"1\" class=\"dataframe\">\n",
       "  <thead>\n",
       "    <tr style=\"text-align: right;\">\n",
       "      <th></th>\n",
       "      <th>Title</th>\n",
       "      <th>Artist</th>\n",
       "      <th>ConstituentID</th>\n",
       "      <th>ArtistBio</th>\n",
       "      <th>Nationality</th>\n",
       "      <th>BeginDate</th>\n",
       "      <th>EndDate</th>\n",
       "      <th>Gender</th>\n",
       "      <th>Date</th>\n",
       "      <th>Medium</th>\n",
       "      <th>...</th>\n",
       "      <th>Depth (cm)</th>\n",
       "      <th>Diameter (cm)</th>\n",
       "      <th>Height (cm)</th>\n",
       "      <th>Length (cm)</th>\n",
       "      <th>Weight (kg)</th>\n",
       "      <th>Width (cm)</th>\n",
       "      <th>Seat Height (cm)</th>\n",
       "      <th>Duration (sec.)</th>\n",
       "      <th>painting_size</th>\n",
       "      <th>decades</th>\n",
       "    </tr>\n",
       "  </thead>\n",
       "  <tbody>\n",
       "    <tr>\n",
       "      <th>0</th>\n",
       "      <td>Ferdinandsbrücke Project, Vienna, Austria (Ele...</td>\n",
       "      <td>Otto Wagner</td>\n",
       "      <td>6210</td>\n",
       "      <td>(Austrian, 1841–1918)</td>\n",
       "      <td>(Austrian)</td>\n",
       "      <td>(1841)</td>\n",
       "      <td>(1918)</td>\n",
       "      <td>(male)</td>\n",
       "      <td>1896.0</td>\n",
       "      <td>Ink and cut-and-pasted painted pages on paper</td>\n",
       "      <td>...</td>\n",
       "      <td>NaN</td>\n",
       "      <td>NaN</td>\n",
       "      <td>48.600000</td>\n",
       "      <td>NaN</td>\n",
       "      <td>NaN</td>\n",
       "      <td>168.900000</td>\n",
       "      <td>NaN</td>\n",
       "      <td>NaN</td>\n",
       "      <td>8208.540000</td>\n",
       "      <td>1890.0</td>\n",
       "    </tr>\n",
       "    <tr>\n",
       "      <th>1</th>\n",
       "      <td>City of Music, National Superior Conservatory ...</td>\n",
       "      <td>Christian de Portzamparc</td>\n",
       "      <td>7470</td>\n",
       "      <td>(French, born 1944)</td>\n",
       "      <td>(French)</td>\n",
       "      <td>(1944)</td>\n",
       "      <td>(0)</td>\n",
       "      <td>(male)</td>\n",
       "      <td>1987.0</td>\n",
       "      <td>Paint and colored pencil on print</td>\n",
       "      <td>...</td>\n",
       "      <td>NaN</td>\n",
       "      <td>NaN</td>\n",
       "      <td>40.640100</td>\n",
       "      <td>NaN</td>\n",
       "      <td>NaN</td>\n",
       "      <td>29.845100</td>\n",
       "      <td>NaN</td>\n",
       "      <td>NaN</td>\n",
       "      <td>1212.907849</td>\n",
       "      <td>1980.0</td>\n",
       "    </tr>\n",
       "    <tr>\n",
       "      <th>2</th>\n",
       "      <td>Villa project, outside Vienna, Austria (Elevat...</td>\n",
       "      <td>Emil Hoppe</td>\n",
       "      <td>7605</td>\n",
       "      <td>(Austrian, 1876–1957)</td>\n",
       "      <td>(Austrian)</td>\n",
       "      <td>(1876)</td>\n",
       "      <td>(1957)</td>\n",
       "      <td>(male)</td>\n",
       "      <td>1903.0</td>\n",
       "      <td>Graphite, pen, color pencil, ink, and gouache ...</td>\n",
       "      <td>...</td>\n",
       "      <td>NaN</td>\n",
       "      <td>NaN</td>\n",
       "      <td>34.300000</td>\n",
       "      <td>NaN</td>\n",
       "      <td>NaN</td>\n",
       "      <td>31.800000</td>\n",
       "      <td>NaN</td>\n",
       "      <td>NaN</td>\n",
       "      <td>1090.740000</td>\n",
       "      <td>1900.0</td>\n",
       "    </tr>\n",
       "    <tr>\n",
       "      <th>3</th>\n",
       "      <td>The Manhattan Transcripts Project, New York, N...</td>\n",
       "      <td>Bernard Tschumi</td>\n",
       "      <td>7056</td>\n",
       "      <td>(French and Swiss, born Switzerland 1944)</td>\n",
       "      <td>()</td>\n",
       "      <td>(1944)</td>\n",
       "      <td>(0)</td>\n",
       "      <td>(male)</td>\n",
       "      <td>1980.0</td>\n",
       "      <td>Photographic reproduction with colored synthet...</td>\n",
       "      <td>...</td>\n",
       "      <td>NaN</td>\n",
       "      <td>NaN</td>\n",
       "      <td>50.800000</td>\n",
       "      <td>NaN</td>\n",
       "      <td>NaN</td>\n",
       "      <td>50.800000</td>\n",
       "      <td>NaN</td>\n",
       "      <td>NaN</td>\n",
       "      <td>2580.640000</td>\n",
       "      <td>1980.0</td>\n",
       "    </tr>\n",
       "    <tr>\n",
       "      <th>4</th>\n",
       "      <td>Villa project, outside Vienna, Austria (Exteri...</td>\n",
       "      <td>Emil Hoppe</td>\n",
       "      <td>7605</td>\n",
       "      <td>(Austrian, 1876–1957)</td>\n",
       "      <td>(Austrian)</td>\n",
       "      <td>(1876)</td>\n",
       "      <td>(1957)</td>\n",
       "      <td>(male)</td>\n",
       "      <td>1903.0</td>\n",
       "      <td>Graphite, color pencil, ink, and gouache on tr...</td>\n",
       "      <td>...</td>\n",
       "      <td>NaN</td>\n",
       "      <td>NaN</td>\n",
       "      <td>38.400000</td>\n",
       "      <td>NaN</td>\n",
       "      <td>NaN</td>\n",
       "      <td>19.100000</td>\n",
       "      <td>NaN</td>\n",
       "      <td>NaN</td>\n",
       "      <td>733.440000</td>\n",
       "      <td>1900.0</td>\n",
       "    </tr>\n",
       "    <tr>\n",
       "      <th>...</th>\n",
       "      <td>...</td>\n",
       "      <td>...</td>\n",
       "      <td>...</td>\n",
       "      <td>...</td>\n",
       "      <td>...</td>\n",
       "      <td>...</td>\n",
       "      <td>...</td>\n",
       "      <td>...</td>\n",
       "      <td>...</td>\n",
       "      <td>...</td>\n",
       "      <td>...</td>\n",
       "      <td>...</td>\n",
       "      <td>...</td>\n",
       "      <td>...</td>\n",
       "      <td>...</td>\n",
       "      <td>...</td>\n",
       "      <td>...</td>\n",
       "      <td>...</td>\n",
       "      <td>...</td>\n",
       "      <td>...</td>\n",
       "      <td>...</td>\n",
       "    </tr>\n",
       "    <tr>\n",
       "      <th>157625</th>\n",
       "      <td>Untitled</td>\n",
       "      <td>Adam Pendleton</td>\n",
       "      <td>38901</td>\n",
       "      <td>(American, born 1984)</td>\n",
       "      <td>(American)</td>\n",
       "      <td>(1984)</td>\n",
       "      <td>(0)</td>\n",
       "      <td>(male)</td>\n",
       "      <td>2021.0</td>\n",
       "      <td>Silkscreen ink on Mylar</td>\n",
       "      <td>...</td>\n",
       "      <td>NaN</td>\n",
       "      <td>NaN</td>\n",
       "      <td>96.520193</td>\n",
       "      <td>NaN</td>\n",
       "      <td>NaN</td>\n",
       "      <td>73.660147</td>\n",
       "      <td>NaN</td>\n",
       "      <td>NaN</td>\n",
       "      <td>7109.691639</td>\n",
       "      <td>2020.0</td>\n",
       "    </tr>\n",
       "    <tr>\n",
       "      <th>157626</th>\n",
       "      <td>Untitled</td>\n",
       "      <td>Adam Pendleton</td>\n",
       "      <td>38901</td>\n",
       "      <td>(American, born 1984)</td>\n",
       "      <td>(American)</td>\n",
       "      <td>(1984)</td>\n",
       "      <td>(0)</td>\n",
       "      <td>(male)</td>\n",
       "      <td>2021.0</td>\n",
       "      <td>Silkscreen ink on Mylar</td>\n",
       "      <td>...</td>\n",
       "      <td>NaN</td>\n",
       "      <td>NaN</td>\n",
       "      <td>96.520193</td>\n",
       "      <td>NaN</td>\n",
       "      <td>NaN</td>\n",
       "      <td>73.660147</td>\n",
       "      <td>NaN</td>\n",
       "      <td>NaN</td>\n",
       "      <td>7109.691639</td>\n",
       "      <td>2020.0</td>\n",
       "    </tr>\n",
       "    <tr>\n",
       "      <th>157627</th>\n",
       "      <td>Untitled</td>\n",
       "      <td>Adam Pendleton</td>\n",
       "      <td>38901</td>\n",
       "      <td>(American, born 1984)</td>\n",
       "      <td>(American)</td>\n",
       "      <td>(1984)</td>\n",
       "      <td>(0)</td>\n",
       "      <td>(male)</td>\n",
       "      <td>2021.0</td>\n",
       "      <td>Silkscreen ink on Mylar</td>\n",
       "      <td>...</td>\n",
       "      <td>NaN</td>\n",
       "      <td>NaN</td>\n",
       "      <td>96.520193</td>\n",
       "      <td>NaN</td>\n",
       "      <td>NaN</td>\n",
       "      <td>73.660147</td>\n",
       "      <td>NaN</td>\n",
       "      <td>NaN</td>\n",
       "      <td>7109.691639</td>\n",
       "      <td>2020.0</td>\n",
       "    </tr>\n",
       "    <tr>\n",
       "      <th>157628</th>\n",
       "      <td>Untitled</td>\n",
       "      <td>Adam Pendleton</td>\n",
       "      <td>38901</td>\n",
       "      <td>(American, born 1984)</td>\n",
       "      <td>(American)</td>\n",
       "      <td>(1984)</td>\n",
       "      <td>(0)</td>\n",
       "      <td>(male)</td>\n",
       "      <td>2021.0</td>\n",
       "      <td>Silkscreen ink on Mylar</td>\n",
       "      <td>...</td>\n",
       "      <td>NaN</td>\n",
       "      <td>NaN</td>\n",
       "      <td>96.520193</td>\n",
       "      <td>NaN</td>\n",
       "      <td>NaN</td>\n",
       "      <td>73.660147</td>\n",
       "      <td>NaN</td>\n",
       "      <td>NaN</td>\n",
       "      <td>7109.691639</td>\n",
       "      <td>2020.0</td>\n",
       "    </tr>\n",
       "    <tr>\n",
       "      <th>157629</th>\n",
       "      <td>Untitled</td>\n",
       "      <td>Adam Pendleton</td>\n",
       "      <td>38901</td>\n",
       "      <td>(American, born 1984)</td>\n",
       "      <td>(American)</td>\n",
       "      <td>(1984)</td>\n",
       "      <td>(0)</td>\n",
       "      <td>(male)</td>\n",
       "      <td>2021.0</td>\n",
       "      <td>Silkscreen ink on Mylar</td>\n",
       "      <td>...</td>\n",
       "      <td>NaN</td>\n",
       "      <td>NaN</td>\n",
       "      <td>96.520193</td>\n",
       "      <td>NaN</td>\n",
       "      <td>NaN</td>\n",
       "      <td>73.660147</td>\n",
       "      <td>NaN</td>\n",
       "      <td>NaN</td>\n",
       "      <td>7109.691639</td>\n",
       "      <td>2020.0</td>\n",
       "    </tr>\n",
       "  </tbody>\n",
       "</table>\n",
       "<p>157630 rows × 32 columns</p>\n",
       "</div>"
      ],
      "text/plain": [
       "                                                    Title  \\\n",
       "0       Ferdinandsbrücke Project, Vienna, Austria (Ele...   \n",
       "1       City of Music, National Superior Conservatory ...   \n",
       "2       Villa project, outside Vienna, Austria (Elevat...   \n",
       "3       The Manhattan Transcripts Project, New York, N...   \n",
       "4       Villa project, outside Vienna, Austria (Exteri...   \n",
       "...                                                   ...   \n",
       "157625                                           Untitled   \n",
       "157626                                           Untitled   \n",
       "157627                                           Untitled   \n",
       "157628                                           Untitled   \n",
       "157629                                           Untitled   \n",
       "\n",
       "                          Artist ConstituentID  \\\n",
       "0                    Otto Wagner          6210   \n",
       "1       Christian de Portzamparc          7470   \n",
       "2                     Emil Hoppe          7605   \n",
       "3                Bernard Tschumi          7056   \n",
       "4                     Emil Hoppe          7605   \n",
       "...                          ...           ...   \n",
       "157625            Adam Pendleton         38901   \n",
       "157626            Adam Pendleton         38901   \n",
       "157627            Adam Pendleton         38901   \n",
       "157628            Adam Pendleton         38901   \n",
       "157629            Adam Pendleton         38901   \n",
       "\n",
       "                                        ArtistBio Nationality BeginDate  \\\n",
       "0                           (Austrian, 1841–1918)  (Austrian)    (1841)   \n",
       "1                             (French, born 1944)    (French)    (1944)   \n",
       "2                           (Austrian, 1876–1957)  (Austrian)    (1876)   \n",
       "3       (French and Swiss, born Switzerland 1944)          ()    (1944)   \n",
       "4                           (Austrian, 1876–1957)  (Austrian)    (1876)   \n",
       "...                                           ...         ...       ...   \n",
       "157625                      (American, born 1984)  (American)    (1984)   \n",
       "157626                      (American, born 1984)  (American)    (1984)   \n",
       "157627                      (American, born 1984)  (American)    (1984)   \n",
       "157628                      (American, born 1984)  (American)    (1984)   \n",
       "157629                      (American, born 1984)  (American)    (1984)   \n",
       "\n",
       "       EndDate  Gender    Date  \\\n",
       "0       (1918)  (male)  1896.0   \n",
       "1          (0)  (male)  1987.0   \n",
       "2       (1957)  (male)  1903.0   \n",
       "3          (0)  (male)  1980.0   \n",
       "4       (1957)  (male)  1903.0   \n",
       "...        ...     ...     ...   \n",
       "157625     (0)  (male)  2021.0   \n",
       "157626     (0)  (male)  2021.0   \n",
       "157627     (0)  (male)  2021.0   \n",
       "157628     (0)  (male)  2021.0   \n",
       "157629     (0)  (male)  2021.0   \n",
       "\n",
       "                                                   Medium  ... Depth (cm)  \\\n",
       "0           Ink and cut-and-pasted painted pages on paper  ...        NaN   \n",
       "1                       Paint and colored pencil on print  ...        NaN   \n",
       "2       Graphite, pen, color pencil, ink, and gouache ...  ...        NaN   \n",
       "3       Photographic reproduction with colored synthet...  ...        NaN   \n",
       "4       Graphite, color pencil, ink, and gouache on tr...  ...        NaN   \n",
       "...                                                   ...  ...        ...   \n",
       "157625                            Silkscreen ink on Mylar  ...        NaN   \n",
       "157626                            Silkscreen ink on Mylar  ...        NaN   \n",
       "157627                            Silkscreen ink on Mylar  ...        NaN   \n",
       "157628                            Silkscreen ink on Mylar  ...        NaN   \n",
       "157629                            Silkscreen ink on Mylar  ...        NaN   \n",
       "\n",
       "       Diameter (cm) Height (cm) Length (cm) Weight (kg)  Width (cm)  \\\n",
       "0                NaN   48.600000         NaN         NaN  168.900000   \n",
       "1                NaN   40.640100         NaN         NaN   29.845100   \n",
       "2                NaN   34.300000         NaN         NaN   31.800000   \n",
       "3                NaN   50.800000         NaN         NaN   50.800000   \n",
       "4                NaN   38.400000         NaN         NaN   19.100000   \n",
       "...              ...         ...         ...         ...         ...   \n",
       "157625           NaN   96.520193         NaN         NaN   73.660147   \n",
       "157626           NaN   96.520193         NaN         NaN   73.660147   \n",
       "157627           NaN   96.520193         NaN         NaN   73.660147   \n",
       "157628           NaN   96.520193         NaN         NaN   73.660147   \n",
       "157629           NaN   96.520193         NaN         NaN   73.660147   \n",
       "\n",
       "       Seat Height (cm)  Duration (sec.) painting_size decades  \n",
       "0                   NaN              NaN   8208.540000  1890.0  \n",
       "1                   NaN              NaN   1212.907849  1980.0  \n",
       "2                   NaN              NaN   1090.740000  1900.0  \n",
       "3                   NaN              NaN   2580.640000  1980.0  \n",
       "4                   NaN              NaN    733.440000  1900.0  \n",
       "...                 ...              ...           ...     ...  \n",
       "157625              NaN              NaN   7109.691639  2020.0  \n",
       "157626              NaN              NaN   7109.691639  2020.0  \n",
       "157627              NaN              NaN   7109.691639  2020.0  \n",
       "157628              NaN              NaN   7109.691639  2020.0  \n",
       "157629              NaN              NaN   7109.691639  2020.0  \n",
       "\n",
       "[157630 rows x 32 columns]"
      ]
     },
     "execution_count": 30,
     "metadata": {},
     "output_type": "execute_result"
    }
   ],
   "source": [
    "artwork_df"
   ]
  },
  {
   "cell_type": "code",
   "execution_count": 31,
   "id": "9b34726c-96cc-4558-81d3-157ca040e075",
   "metadata": {},
   "outputs": [],
   "source": [
    "average_acquisitions_size = artwork_df.groupby('decades', as_index=False)['DateAcquired'].count()\n",
    "filtered_DateAcquired_data = average_acquisitions_size[average_acquisitions_size['decades'] >= 1760]"
   ]
  },
  {
   "cell_type": "code",
   "execution_count": 80,
   "id": "4a2aecf8-b0dc-4275-9f16-0485ae6d3ca4",
   "metadata": {},
   "outputs": [
    {
     "data": {
      "application/vnd.plotly.v1+json": {
       "config": {
        "plotlyServerURL": "https://plot.ly"
       },
       "data": [
        {
         "alignmentgroup": "True",
         "hovertemplate": "decades=%{x}<br>DateAcquired=%{marker.color}<extra></extra>",
         "legendgroup": "",
         "marker": {
          "color": [
           5,
           1,
           81,
           2,
           423,
           20,
           14,
           225,
           617,
           570,
           675,
           390,
           1880,
           4285,
           4867,
           8989,
           8255,
           8304,
           8799,
           16979,
           13937,
           9230,
           9169,
           8740,
           3848,
           540
          ],
          "coloraxis": "coloraxis",
          "opacity": 0.8,
          "pattern": {
           "shape": ""
          }
         },
         "name": "",
         "offsetgroup": "",
         "orientation": "v",
         "showlegend": false,
         "text": [
          5,
          1,
          81,
          2,
          423,
          20,
          14,
          225,
          617,
          570,
          675,
          390,
          1880,
          4285,
          4867,
          8989,
          8255,
          8304,
          8799,
          16979,
          13937,
          9230,
          9169,
          8740,
          3848,
          540
         ],
         "textposition": "outside",
         "texttemplate": "%{text:.2f}",
         "type": "bar",
         "x": [
          1760,
          1780,
          1790,
          1800,
          1810,
          1820,
          1830,
          1840,
          1850,
          1860,
          1870,
          1880,
          1890,
          1900,
          1910,
          1920,
          1930,
          1940,
          1950,
          1960,
          1970,
          1980,
          1990,
          2000,
          2010,
          2020
         ],
         "xaxis": "x",
         "y": [
          5,
          1,
          81,
          2,
          423,
          20,
          14,
          225,
          617,
          570,
          675,
          390,
          1880,
          4285,
          4867,
          8989,
          8255,
          8304,
          8799,
          16979,
          13937,
          9230,
          9169,
          8740,
          3848,
          540
         ],
         "yaxis": "y"
        }
       ],
       "layout": {
        "autosize": true,
        "barmode": "relative",
        "coloraxis": {
         "colorbar": {
          "bgcolor": "#2D2D2D",
          "bordercolor": "#444444",
          "borderwidth": 1,
          "tickcolor": "#FFFFFF",
          "title": {
           "font": {
            "color": "#FFFFFF"
           },
           "text": "Average Painting Size"
          }
         },
         "colorscale": [
          [
           0,
           "#440154"
          ],
          [
           0.1111111111111111,
           "#482878"
          ],
          [
           0.2222222222222222,
           "#3e4989"
          ],
          [
           0.3333333333333333,
           "#31688e"
          ],
          [
           0.4444444444444444,
           "#26828e"
          ],
          [
           0.5555555555555556,
           "#1f9e89"
          ],
          [
           0.6666666666666666,
           "#35b779"
          ],
          [
           0.7777777777777778,
           "#6ece58"
          ],
          [
           0.8888888888888888,
           "#b5de2b"
          ],
          [
           1,
           "#fde725"
          ]
         ]
        },
        "font": {
         "color": "#FFFFFF",
         "size": 14
        },
        "legend": {
         "tracegroupgap": 0
        },
        "paper_bgcolor": "#1E1E1E",
        "plot_bgcolor": "#1E1E1E",
        "template": {
         "data": {
          "bar": [
           {
            "error_x": {
             "color": "#2a3f5f"
            },
            "error_y": {
             "color": "#2a3f5f"
            },
            "marker": {
             "line": {
              "color": "#E5ECF6",
              "width": 0.5
             },
             "pattern": {
              "fillmode": "overlay",
              "size": 10,
              "solidity": 0.2
             }
            },
            "type": "bar"
           }
          ],
          "barpolar": [
           {
            "marker": {
             "line": {
              "color": "#E5ECF6",
              "width": 0.5
             },
             "pattern": {
              "fillmode": "overlay",
              "size": 10,
              "solidity": 0.2
             }
            },
            "type": "barpolar"
           }
          ],
          "carpet": [
           {
            "aaxis": {
             "endlinecolor": "#2a3f5f",
             "gridcolor": "white",
             "linecolor": "white",
             "minorgridcolor": "white",
             "startlinecolor": "#2a3f5f"
            },
            "baxis": {
             "endlinecolor": "#2a3f5f",
             "gridcolor": "white",
             "linecolor": "white",
             "minorgridcolor": "white",
             "startlinecolor": "#2a3f5f"
            },
            "type": "carpet"
           }
          ],
          "choropleth": [
           {
            "colorbar": {
             "outlinewidth": 0,
             "ticks": ""
            },
            "type": "choropleth"
           }
          ],
          "contour": [
           {
            "colorbar": {
             "outlinewidth": 0,
             "ticks": ""
            },
            "colorscale": [
             [
              0,
              "#0d0887"
             ],
             [
              0.1111111111111111,
              "#46039f"
             ],
             [
              0.2222222222222222,
              "#7201a8"
             ],
             [
              0.3333333333333333,
              "#9c179e"
             ],
             [
              0.4444444444444444,
              "#bd3786"
             ],
             [
              0.5555555555555556,
              "#d8576b"
             ],
             [
              0.6666666666666666,
              "#ed7953"
             ],
             [
              0.7777777777777778,
              "#fb9f3a"
             ],
             [
              0.8888888888888888,
              "#fdca26"
             ],
             [
              1,
              "#f0f921"
             ]
            ],
            "type": "contour"
           }
          ],
          "contourcarpet": [
           {
            "colorbar": {
             "outlinewidth": 0,
             "ticks": ""
            },
            "type": "contourcarpet"
           }
          ],
          "heatmap": [
           {
            "colorbar": {
             "outlinewidth": 0,
             "ticks": ""
            },
            "colorscale": [
             [
              0,
              "#0d0887"
             ],
             [
              0.1111111111111111,
              "#46039f"
             ],
             [
              0.2222222222222222,
              "#7201a8"
             ],
             [
              0.3333333333333333,
              "#9c179e"
             ],
             [
              0.4444444444444444,
              "#bd3786"
             ],
             [
              0.5555555555555556,
              "#d8576b"
             ],
             [
              0.6666666666666666,
              "#ed7953"
             ],
             [
              0.7777777777777778,
              "#fb9f3a"
             ],
             [
              0.8888888888888888,
              "#fdca26"
             ],
             [
              1,
              "#f0f921"
             ]
            ],
            "type": "heatmap"
           }
          ],
          "heatmapgl": [
           {
            "colorbar": {
             "outlinewidth": 0,
             "ticks": ""
            },
            "colorscale": [
             [
              0,
              "#0d0887"
             ],
             [
              0.1111111111111111,
              "#46039f"
             ],
             [
              0.2222222222222222,
              "#7201a8"
             ],
             [
              0.3333333333333333,
              "#9c179e"
             ],
             [
              0.4444444444444444,
              "#bd3786"
             ],
             [
              0.5555555555555556,
              "#d8576b"
             ],
             [
              0.6666666666666666,
              "#ed7953"
             ],
             [
              0.7777777777777778,
              "#fb9f3a"
             ],
             [
              0.8888888888888888,
              "#fdca26"
             ],
             [
              1,
              "#f0f921"
             ]
            ],
            "type": "heatmapgl"
           }
          ],
          "histogram": [
           {
            "marker": {
             "pattern": {
              "fillmode": "overlay",
              "size": 10,
              "solidity": 0.2
             }
            },
            "type": "histogram"
           }
          ],
          "histogram2d": [
           {
            "colorbar": {
             "outlinewidth": 0,
             "ticks": ""
            },
            "colorscale": [
             [
              0,
              "#0d0887"
             ],
             [
              0.1111111111111111,
              "#46039f"
             ],
             [
              0.2222222222222222,
              "#7201a8"
             ],
             [
              0.3333333333333333,
              "#9c179e"
             ],
             [
              0.4444444444444444,
              "#bd3786"
             ],
             [
              0.5555555555555556,
              "#d8576b"
             ],
             [
              0.6666666666666666,
              "#ed7953"
             ],
             [
              0.7777777777777778,
              "#fb9f3a"
             ],
             [
              0.8888888888888888,
              "#fdca26"
             ],
             [
              1,
              "#f0f921"
             ]
            ],
            "type": "histogram2d"
           }
          ],
          "histogram2dcontour": [
           {
            "colorbar": {
             "outlinewidth": 0,
             "ticks": ""
            },
            "colorscale": [
             [
              0,
              "#0d0887"
             ],
             [
              0.1111111111111111,
              "#46039f"
             ],
             [
              0.2222222222222222,
              "#7201a8"
             ],
             [
              0.3333333333333333,
              "#9c179e"
             ],
             [
              0.4444444444444444,
              "#bd3786"
             ],
             [
              0.5555555555555556,
              "#d8576b"
             ],
             [
              0.6666666666666666,
              "#ed7953"
             ],
             [
              0.7777777777777778,
              "#fb9f3a"
             ],
             [
              0.8888888888888888,
              "#fdca26"
             ],
             [
              1,
              "#f0f921"
             ]
            ],
            "type": "histogram2dcontour"
           }
          ],
          "mesh3d": [
           {
            "colorbar": {
             "outlinewidth": 0,
             "ticks": ""
            },
            "type": "mesh3d"
           }
          ],
          "parcoords": [
           {
            "line": {
             "colorbar": {
              "outlinewidth": 0,
              "ticks": ""
             }
            },
            "type": "parcoords"
           }
          ],
          "pie": [
           {
            "automargin": true,
            "type": "pie"
           }
          ],
          "scatter": [
           {
            "fillpattern": {
             "fillmode": "overlay",
             "size": 10,
             "solidity": 0.2
            },
            "type": "scatter"
           }
          ],
          "scatter3d": [
           {
            "line": {
             "colorbar": {
              "outlinewidth": 0,
              "ticks": ""
             }
            },
            "marker": {
             "colorbar": {
              "outlinewidth": 0,
              "ticks": ""
             }
            },
            "type": "scatter3d"
           }
          ],
          "scattercarpet": [
           {
            "marker": {
             "colorbar": {
              "outlinewidth": 0,
              "ticks": ""
             }
            },
            "type": "scattercarpet"
           }
          ],
          "scattergeo": [
           {
            "marker": {
             "colorbar": {
              "outlinewidth": 0,
              "ticks": ""
             }
            },
            "type": "scattergeo"
           }
          ],
          "scattergl": [
           {
            "marker": {
             "colorbar": {
              "outlinewidth": 0,
              "ticks": ""
             }
            },
            "type": "scattergl"
           }
          ],
          "scattermapbox": [
           {
            "marker": {
             "colorbar": {
              "outlinewidth": 0,
              "ticks": ""
             }
            },
            "type": "scattermapbox"
           }
          ],
          "scatterpolar": [
           {
            "marker": {
             "colorbar": {
              "outlinewidth": 0,
              "ticks": ""
             }
            },
            "type": "scatterpolar"
           }
          ],
          "scatterpolargl": [
           {
            "marker": {
             "colorbar": {
              "outlinewidth": 0,
              "ticks": ""
             }
            },
            "type": "scatterpolargl"
           }
          ],
          "scatterternary": [
           {
            "marker": {
             "colorbar": {
              "outlinewidth": 0,
              "ticks": ""
             }
            },
            "type": "scatterternary"
           }
          ],
          "surface": [
           {
            "colorbar": {
             "outlinewidth": 0,
             "ticks": ""
            },
            "colorscale": [
             [
              0,
              "#0d0887"
             ],
             [
              0.1111111111111111,
              "#46039f"
             ],
             [
              0.2222222222222222,
              "#7201a8"
             ],
             [
              0.3333333333333333,
              "#9c179e"
             ],
             [
              0.4444444444444444,
              "#bd3786"
             ],
             [
              0.5555555555555556,
              "#d8576b"
             ],
             [
              0.6666666666666666,
              "#ed7953"
             ],
             [
              0.7777777777777778,
              "#fb9f3a"
             ],
             [
              0.8888888888888888,
              "#fdca26"
             ],
             [
              1,
              "#f0f921"
             ]
            ],
            "type": "surface"
           }
          ],
          "table": [
           {
            "cells": {
             "fill": {
              "color": "#EBF0F8"
             },
             "line": {
              "color": "white"
             }
            },
            "header": {
             "fill": {
              "color": "#C8D4E3"
             },
             "line": {
              "color": "white"
             }
            },
            "type": "table"
           }
          ]
         },
         "layout": {
          "annotationdefaults": {
           "arrowcolor": "#2a3f5f",
           "arrowhead": 0,
           "arrowwidth": 1
          },
          "autotypenumbers": "strict",
          "coloraxis": {
           "colorbar": {
            "outlinewidth": 0,
            "ticks": ""
           }
          },
          "colorscale": {
           "diverging": [
            [
             0,
             "#8e0152"
            ],
            [
             0.1,
             "#c51b7d"
            ],
            [
             0.2,
             "#de77ae"
            ],
            [
             0.3,
             "#f1b6da"
            ],
            [
             0.4,
             "#fde0ef"
            ],
            [
             0.5,
             "#f7f7f7"
            ],
            [
             0.6,
             "#e6f5d0"
            ],
            [
             0.7,
             "#b8e186"
            ],
            [
             0.8,
             "#7fbc41"
            ],
            [
             0.9,
             "#4d9221"
            ],
            [
             1,
             "#276419"
            ]
           ],
           "sequential": [
            [
             0,
             "#0d0887"
            ],
            [
             0.1111111111111111,
             "#46039f"
            ],
            [
             0.2222222222222222,
             "#7201a8"
            ],
            [
             0.3333333333333333,
             "#9c179e"
            ],
            [
             0.4444444444444444,
             "#bd3786"
            ],
            [
             0.5555555555555556,
             "#d8576b"
            ],
            [
             0.6666666666666666,
             "#ed7953"
            ],
            [
             0.7777777777777778,
             "#fb9f3a"
            ],
            [
             0.8888888888888888,
             "#fdca26"
            ],
            [
             1,
             "#f0f921"
            ]
           ],
           "sequentialminus": [
            [
             0,
             "#0d0887"
            ],
            [
             0.1111111111111111,
             "#46039f"
            ],
            [
             0.2222222222222222,
             "#7201a8"
            ],
            [
             0.3333333333333333,
             "#9c179e"
            ],
            [
             0.4444444444444444,
             "#bd3786"
            ],
            [
             0.5555555555555556,
             "#d8576b"
            ],
            [
             0.6666666666666666,
             "#ed7953"
            ],
            [
             0.7777777777777778,
             "#fb9f3a"
            ],
            [
             0.8888888888888888,
             "#fdca26"
            ],
            [
             1,
             "#f0f921"
            ]
           ]
          },
          "colorway": [
           "#636efa",
           "#EF553B",
           "#00cc96",
           "#ab63fa",
           "#FFA15A",
           "#19d3f3",
           "#FF6692",
           "#B6E880",
           "#FF97FF",
           "#FECB52"
          ],
          "font": {
           "color": "#2a3f5f"
          },
          "geo": {
           "bgcolor": "white",
           "lakecolor": "white",
           "landcolor": "#E5ECF6",
           "showlakes": true,
           "showland": true,
           "subunitcolor": "white"
          },
          "hoverlabel": {
           "align": "left"
          },
          "hovermode": "closest",
          "mapbox": {
           "style": "light"
          },
          "paper_bgcolor": "white",
          "plot_bgcolor": "#E5ECF6",
          "polar": {
           "angularaxis": {
            "gridcolor": "white",
            "linecolor": "white",
            "ticks": ""
           },
           "bgcolor": "#E5ECF6",
           "radialaxis": {
            "gridcolor": "white",
            "linecolor": "white",
            "ticks": ""
           }
          },
          "scene": {
           "xaxis": {
            "backgroundcolor": "#E5ECF6",
            "gridcolor": "white",
            "gridwidth": 2,
            "linecolor": "white",
            "showbackground": true,
            "ticks": "",
            "zerolinecolor": "white"
           },
           "yaxis": {
            "backgroundcolor": "#E5ECF6",
            "gridcolor": "white",
            "gridwidth": 2,
            "linecolor": "white",
            "showbackground": true,
            "ticks": "",
            "zerolinecolor": "white"
           },
           "zaxis": {
            "backgroundcolor": "#E5ECF6",
            "gridcolor": "white",
            "gridwidth": 2,
            "linecolor": "white",
            "showbackground": true,
            "ticks": "",
            "zerolinecolor": "white"
           }
          },
          "shapedefaults": {
           "line": {
            "color": "#2a3f5f"
           }
          },
          "ternary": {
           "aaxis": {
            "gridcolor": "white",
            "linecolor": "white",
            "ticks": ""
           },
           "baxis": {
            "gridcolor": "white",
            "linecolor": "white",
            "ticks": ""
           },
           "bgcolor": "#E5ECF6",
           "caxis": {
            "gridcolor": "white",
            "linecolor": "white",
            "ticks": ""
           }
          },
          "title": {
           "x": 0.05
          },
          "xaxis": {
           "automargin": true,
           "gridcolor": "white",
           "linecolor": "white",
           "ticks": "",
           "title": {
            "standoff": 15
           },
           "zerolinecolor": "white",
           "zerolinewidth": 2
          },
          "yaxis": {
           "automargin": true,
           "gridcolor": "white",
           "linecolor": "white",
           "ticks": "",
           "title": {
            "standoff": 15
           },
           "zerolinecolor": "white",
           "zerolinewidth": 2
          }
         }
        },
        "title": {
         "font": {
          "color": "#00CED1",
          "size": 20
         },
         "text": "Average Acquisitions by Decade",
         "x": 0.5
        },
        "xaxis": {
         "anchor": "y",
         "autorange": true,
         "color": "#FFFFFF",
         "domain": [
          0,
          1
         ],
         "gridcolor": "#444444",
         "range": [
          1755,
          2025
         ],
         "ticklabelstandoff": 20,
         "title": {
          "text": "Decade"
         },
         "type": "linear",
         "zeroline": false
        },
        "yaxis": {
         "anchor": "x",
         "autorange": true,
         "color": "#FFFFFF",
         "domain": [
          0,
          1
         ],
         "range": [
          0,
          17872.631578947367
         ],
         "showgrid": false,
         "title": {
          "text": "Average Painting Size"
         },
         "type": "linear"
        }
       }
      },
      "image/png": "[encoded data removed]",
      "text/html": [
       "<div>                            <div id=\"1cc52ed7-5007-4096-867f-ecae350a7121\" class=\"plotly-graph-div\" style=\"height:525px; width:100%;\"></div>            <script type=\"text/javascript\">                require([\"plotly\"], function(Plotly) {                    window.PLOTLYENV=window.PLOTLYENV || {};                                    if (document.getElementById(\"1cc52ed7-5007-4096-867f-ecae350a7121\")) {                    Plotly.newPlot(                        \"1cc52ed7-5007-4096-867f-ecae350a7121\",                        [{\"alignmentgroup\":\"True\",\"hovertemplate\":\"decades=%{x}\\u003cbr\\u003eDateAcquired=%{marker.color}\\u003cextra\\u003e\\u003c\\u002fextra\\u003e\",\"legendgroup\":\"\",\"marker\":{\"color\":[5,1,81,2,423,20,14,225,617,570,675,390,1880,4285,4867,8989,8255,8304,8799,16979,13937,9230,9169,8740,3848,540],\"coloraxis\":\"coloraxis\",\"pattern\":{\"shape\":\"\"},\"opacity\":0.8},\"name\":\"\",\"offsetgroup\":\"\",\"orientation\":\"v\",\"showlegend\":false,\"text\":[5.0,1.0,81.0,2.0,423.0,20.0,14.0,225.0,617.0,570.0,675.0,390.0,1880.0,4285.0,4867.0,8989.0,8255.0,8304.0,8799.0,16979.0,13937.0,9230.0,9169.0,8740.0,3848.0,540.0],\"textposition\":\"outside\",\"x\":[1760.0,1780.0,1790.0,1800.0,1810.0,1820.0,1830.0,1840.0,1850.0,1860.0,1870.0,1880.0,1890.0,1900.0,1910.0,1920.0,1930.0,1940.0,1950.0,1960.0,1970.0,1980.0,1990.0,2000.0,2010.0,2020.0],\"xaxis\":\"x\",\"y\":[5,1,81,2,423,20,14,225,617,570,675,390,1880,4285,4867,8989,8255,8304,8799,16979,13937,9230,9169,8740,3848,540],\"yaxis\":\"y\",\"type\":\"bar\",\"texttemplate\":\"%{text:.2f}\"}],                        {\"template\":{\"data\":{\"histogram2dcontour\":[{\"type\":\"histogram2dcontour\",\"colorbar\":{\"outlinewidth\":0,\"ticks\":\"\"},\"colorscale\":[[0.0,\"#0d0887\"],[0.1111111111111111,\"#46039f\"],[0.2222222222222222,\"#7201a8\"],[0.3333333333333333,\"#9c179e\"],[0.4444444444444444,\"#bd3786\"],[0.5555555555555556,\"#d8576b\"],[0.6666666666666666,\"#ed7953\"],[0.7777777777777778,\"#fb9f3a\"],[0.8888888888888888,\"#fdca26\"],[1.0,\"#f0f921\"]]}],\"choropleth\":[{\"type\":\"choropleth\",\"colorbar\":{\"outlinewidth\":0,\"ticks\":\"\"}}],\"histogram2d\":[{\"type\":\"histogram2d\",\"colorbar\":{\"outlinewidth\":0,\"ticks\":\"\"},\"colorscale\":[[0.0,\"#0d0887\"],[0.1111111111111111,\"#46039f\"],[0.2222222222222222,\"#7201a8\"],[0.3333333333333333,\"#9c179e\"],[0.4444444444444444,\"#bd3786\"],[0.5555555555555556,\"#d8576b\"],[0.6666666666666666,\"#ed7953\"],[0.7777777777777778,\"#fb9f3a\"],[0.8888888888888888,\"#fdca26\"],[1.0,\"#f0f921\"]]}],\"heatmap\":[{\"type\":\"heatmap\",\"colorbar\":{\"outlinewidth\":0,\"ticks\":\"\"},\"colorscale\":[[0.0,\"#0d0887\"],[0.1111111111111111,\"#46039f\"],[0.2222222222222222,\"#7201a8\"],[0.3333333333333333,\"#9c179e\"],[0.4444444444444444,\"#bd3786\"],[0.5555555555555556,\"#d8576b\"],[0.6666666666666666,\"#ed7953\"],[0.7777777777777778,\"#fb9f3a\"],[0.8888888888888888,\"#fdca26\"],[1.0,\"#f0f921\"]]}],\"heatmapgl\":[{\"type\":\"heatmapgl\",\"colorbar\":{\"outlinewidth\":0,\"ticks\":\"\"},\"colorscale\":[[0.0,\"#0d0887\"],[0.1111111111111111,\"#46039f\"],[0.2222222222222222,\"#7201a8\"],[0.3333333333333333,\"#9c179e\"],[0.4444444444444444,\"#bd3786\"],[0.5555555555555556,\"#d8576b\"],[0.6666666666666666,\"#ed7953\"],[0.7777777777777778,\"#fb9f3a\"],[0.8888888888888888,\"#fdca26\"],[1.0,\"#f0f921\"]]}],\"contourcarpet\":[{\"type\":\"contourcarpet\",\"colorbar\":{\"outlinewidth\":0,\"ticks\":\"\"}}],\"contour\":[{\"type\":\"contour\",\"colorbar\":{\"outlinewidth\":0,\"ticks\":\"\"},\"colorscale\":[[0.0,\"#0d0887\"],[0.1111111111111111,\"#46039f\"],[0.2222222222222222,\"#7201a8\"],[0.3333333333333333,\"#9c179e\"],[0.4444444444444444,\"#bd3786\"],[0.5555555555555556,\"#d8576b\"],[0.6666666666666666,\"#ed7953\"],[0.7777777777777778,\"#fb9f3a\"],[0.8888888888888888,\"#fdca26\"],[1.0,\"#f0f921\"]]}],\"surface\":[{\"type\":\"surface\",\"colorbar\":{\"outlinewidth\":0,\"ticks\":\"\"},\"colorscale\":[[0.0,\"#0d0887\"],[0.1111111111111111,\"#46039f\"],[0.2222222222222222,\"#7201a8\"],[0.3333333333333333,\"#9c179e\"],[0.4444444444444444,\"#bd3786\"],[0.5555555555555556,\"#d8576b\"],[0.6666666666666666,\"#ed7953\"],[0.7777777777777778,\"#fb9f3a\"],[0.8888888888888888,\"#fdca26\"],[1.0,\"#f0f921\"]]}],\"mesh3d\":[{\"type\":\"mesh3d\",\"colorbar\":{\"outlinewidth\":0,\"ticks\":\"\"}}],\"scatter\":[{\"fillpattern\":{\"fillmode\":\"overlay\",\"size\":10,\"solidity\":0.2},\"type\":\"scatter\"}],\"parcoords\":[{\"type\":\"parcoords\",\"line\":{\"colorbar\":{\"outlinewidth\":0,\"ticks\":\"\"}}}],\"scatterpolargl\":[{\"type\":\"scatterpolargl\",\"marker\":{\"colorbar\":{\"outlinewidth\":0,\"ticks\":\"\"}}}],\"bar\":[{\"error_x\":{\"color\":\"#2a3f5f\"},\"error_y\":{\"color\":\"#2a3f5f\"},\"marker\":{\"line\":{\"color\":\"#E5ECF6\",\"width\":0.5},\"pattern\":{\"fillmode\":\"overlay\",\"size\":10,\"solidity\":0.2}},\"type\":\"bar\"}],\"scattergeo\":[{\"type\":\"scattergeo\",\"marker\":{\"colorbar\":{\"outlinewidth\":0,\"ticks\":\"\"}}}],\"scatterpolar\":[{\"type\":\"scatterpolar\",\"marker\":{\"colorbar\":{\"outlinewidth\":0,\"ticks\":\"\"}}}],\"histogram\":[{\"marker\":{\"pattern\":{\"fillmode\":\"overlay\",\"size\":10,\"solidity\":0.2}},\"type\":\"histogram\"}],\"scattergl\":[{\"type\":\"scattergl\",\"marker\":{\"colorbar\":{\"outlinewidth\":0,\"ticks\":\"\"}}}],\"scatter3d\":[{\"type\":\"scatter3d\",\"line\":{\"colorbar\":{\"outlinewidth\":0,\"ticks\":\"\"}},\"marker\":{\"colorbar\":{\"outlinewidth\":0,\"ticks\":\"\"}}}],\"scattermapbox\":[{\"type\":\"scattermapbox\",\"marker\":{\"colorbar\":{\"outlinewidth\":0,\"ticks\":\"\"}}}],\"scatterternary\":[{\"type\":\"scatterternary\",\"marker\":{\"colorbar\":{\"outlinewidth\":0,\"ticks\":\"\"}}}],\"scattercarpet\":[{\"type\":\"scattercarpet\",\"marker\":{\"colorbar\":{\"outlinewidth\":0,\"ticks\":\"\"}}}],\"carpet\":[{\"aaxis\":{\"endlinecolor\":\"#2a3f5f\",\"gridcolor\":\"white\",\"linecolor\":\"white\",\"minorgridcolor\":\"white\",\"startlinecolor\":\"#2a3f5f\"},\"baxis\":{\"endlinecolor\":\"#2a3f5f\",\"gridcolor\":\"white\",\"linecolor\":\"white\",\"minorgridcolor\":\"white\",\"startlinecolor\":\"#2a3f5f\"},\"type\":\"carpet\"}],\"table\":[{\"cells\":{\"fill\":{\"color\":\"#EBF0F8\"},\"line\":{\"color\":\"white\"}},\"header\":{\"fill\":{\"color\":\"#C8D4E3\"},\"line\":{\"color\":\"white\"}},\"type\":\"table\"}],\"barpolar\":[{\"marker\":{\"line\":{\"color\":\"#E5ECF6\",\"width\":0.5},\"pattern\":{\"fillmode\":\"overlay\",\"size\":10,\"solidity\":0.2}},\"type\":\"barpolar\"}],\"pie\":[{\"automargin\":true,\"type\":\"pie\"}]},\"layout\":{\"autotypenumbers\":\"strict\",\"colorway\":[\"#636efa\",\"#EF553B\",\"#00cc96\",\"#ab63fa\",\"#FFA15A\",\"#19d3f3\",\"#FF6692\",\"#B6E880\",\"#FF97FF\",\"#FECB52\"],\"font\":{\"color\":\"#2a3f5f\"},\"hovermode\":\"closest\",\"hoverlabel\":{\"align\":\"left\"},\"paper_bgcolor\":\"white\",\"plot_bgcolor\":\"#E5ECF6\",\"polar\":{\"bgcolor\":\"#E5ECF6\",\"angularaxis\":{\"gridcolor\":\"white\",\"linecolor\":\"white\",\"ticks\":\"\"},\"radialaxis\":{\"gridcolor\":\"white\",\"linecolor\":\"white\",\"ticks\":\"\"}},\"ternary\":{\"bgcolor\":\"#E5ECF6\",\"aaxis\":{\"gridcolor\":\"white\",\"linecolor\":\"white\",\"ticks\":\"\"},\"baxis\":{\"gridcolor\":\"white\",\"linecolor\":\"white\",\"ticks\":\"\"},\"caxis\":{\"gridcolor\":\"white\",\"linecolor\":\"white\",\"ticks\":\"\"}},\"coloraxis\":{\"colorbar\":{\"outlinewidth\":0,\"ticks\":\"\"}},\"colorscale\":{\"sequential\":[[0.0,\"#0d0887\"],[0.1111111111111111,\"#46039f\"],[0.2222222222222222,\"#7201a8\"],[0.3333333333333333,\"#9c179e\"],[0.4444444444444444,\"#bd3786\"],[0.5555555555555556,\"#d8576b\"],[0.6666666666666666,\"#ed7953\"],[0.7777777777777778,\"#fb9f3a\"],[0.8888888888888888,\"#fdca26\"],[1.0,\"#f0f921\"]],\"sequentialminus\":[[0.0,\"#0d0887\"],[0.1111111111111111,\"#46039f\"],[0.2222222222222222,\"#7201a8\"],[0.3333333333333333,\"#9c179e\"],[0.4444444444444444,\"#bd3786\"],[0.5555555555555556,\"#d8576b\"],[0.6666666666666666,\"#ed7953\"],[0.7777777777777778,\"#fb9f3a\"],[0.8888888888888888,\"#fdca26\"],[1.0,\"#f0f921\"]],\"diverging\":[[0,\"#8e0152\"],[0.1,\"#c51b7d\"],[0.2,\"#de77ae\"],[0.3,\"#f1b6da\"],[0.4,\"#fde0ef\"],[0.5,\"#f7f7f7\"],[0.6,\"#e6f5d0\"],[0.7,\"#b8e186\"],[0.8,\"#7fbc41\"],[0.9,\"#4d9221\"],[1,\"#276419\"]]},\"xaxis\":{\"gridcolor\":\"white\",\"linecolor\":\"white\",\"ticks\":\"\",\"title\":{\"standoff\":15},\"zerolinecolor\":\"white\",\"automargin\":true,\"zerolinewidth\":2},\"yaxis\":{\"gridcolor\":\"white\",\"linecolor\":\"white\",\"ticks\":\"\",\"title\":{\"standoff\":15},\"zerolinecolor\":\"white\",\"automargin\":true,\"zerolinewidth\":2},\"scene\":{\"xaxis\":{\"backgroundcolor\":\"#E5ECF6\",\"gridcolor\":\"white\",\"linecolor\":\"white\",\"showbackground\":true,\"ticks\":\"\",\"zerolinecolor\":\"white\",\"gridwidth\":2},\"yaxis\":{\"backgroundcolor\":\"#E5ECF6\",\"gridcolor\":\"white\",\"linecolor\":\"white\",\"showbackground\":true,\"ticks\":\"\",\"zerolinecolor\":\"white\",\"gridwidth\":2},\"zaxis\":{\"backgroundcolor\":\"#E5ECF6\",\"gridcolor\":\"white\",\"linecolor\":\"white\",\"showbackground\":true,\"ticks\":\"\",\"zerolinecolor\":\"white\",\"gridwidth\":2}},\"shapedefaults\":{\"line\":{\"color\":\"#2a3f5f\"}},\"annotationdefaults\":{\"arrowcolor\":\"#2a3f5f\",\"arrowhead\":0,\"arrowwidth\":1},\"geo\":{\"bgcolor\":\"white\",\"landcolor\":\"#E5ECF6\",\"subunitcolor\":\"white\",\"showland\":true,\"showlakes\":true,\"lakecolor\":\"white\"},\"title\":{\"x\":0.05},\"mapbox\":{\"style\":\"light\"}}},\"xaxis\":{\"anchor\":\"y\",\"domain\":[0.0,1.0],\"title\":{\"text\":\"Decade\"},\"color\":\"#FFFFFF\",\"gridcolor\":\"#444444\",\"zeroline\":false,\"ticklabelstandoff\":20},\"yaxis\":{\"anchor\":\"x\",\"domain\":[0.0,1.0],\"title\":{\"text\":\"Average Painting Size\"},\"color\":\"#FFFFFF\",\"showgrid\":false},\"coloraxis\":{\"colorbar\":{\"title\":{\"text\":\"Average Painting Size\",\"font\":{\"color\":\"#FFFFFF\"}},\"tickcolor\":\"#FFFFFF\",\"bgcolor\":\"#2D2D2D\",\"bordercolor\":\"#444444\",\"borderwidth\":1},\"colorscale\":[[0.0,\"#440154\"],[0.1111111111111111,\"#482878\"],[0.2222222222222222,\"#3e4989\"],[0.3333333333333333,\"#31688e\"],[0.4444444444444444,\"#26828e\"],[0.5555555555555556,\"#1f9e89\"],[0.6666666666666666,\"#35b779\"],[0.7777777777777778,\"#6ece58\"],[0.8888888888888888,\"#b5de2b\"],[1.0,\"#fde725\"]]},\"legend\":{\"tracegroupgap\":0},\"title\":{\"text\":\"Average Acquisitions by Decade\",\"font\":{\"size\":20,\"color\":\"#00CED1\"},\"x\":0.5},\"barmode\":\"relative\",\"font\":{\"color\":\"#FFFFFF\",\"size\":14},\"plot_bgcolor\":\"#1E1E1E\",\"paper_bgcolor\":\"#1E1E1E\"},                        {\"responsive\": true}                    ).then(function(){\n",
       "                            \n",
       "var gd = document.getElementById('1cc52ed7-5007-4096-867f-ecae350a7121');\n",
       "var x = new MutationObserver(function (mutations, observer) {{\n",
       "        var display = window.getComputedStyle(gd).display;\n",
       "        if (!display || display === 'none') {{\n",
       "            console.log([gd, 'removed!']);\n",
       "            Plotly.purge(gd);\n",
       "            observer.disconnect();\n",
       "        }}\n",
       "}});\n",
       "\n",
       "// Listen for the removal of the full notebook cells\n",
       "var notebookContainer = gd.closest('#notebook-container');\n",
       "if (notebookContainer) {{\n",
       "    x.observe(notebookContainer, {childList: true});\n",
       "}}\n",
       "\n",
       "// Listen for the clearing of the current output cell\n",
       "var outputEl = gd.closest('.output');\n",
       "if (outputEl) {{\n",
       "    x.observe(outputEl, {childList: true});\n",
       "}}\n",
       "\n",
       "                        })                };                });            </script>        </div>"
      ]
     },
     "metadata": {},
     "output_type": "display_data"
    }
   ],
   "source": [
    "T1fig2 = px.bar(\n",
    "    filtered_DateAcquired_data,\n",
    "    x='decades',              \n",
    "    y='DateAcquired',     \n",
    "    text='DateAcquired',      \n",
    "    title=\"Average Acquisitions by Decade\", \n",
    "    color='DateAcquired',   \n",
    "    color_continuous_scale=px.colors.sequential.Viridis  \n",
    ")\n",
    "\n",
    "\n",
    "T1fig2.update_traces(\n",
    "    texttemplate='%{text:.2f}', \n",
    "    textposition='outside',     \n",
    "    marker=dict(opacity=0.8)    \n",
    ")\n",
    "\n",
    "T1fig2.update_layout(\n",
    "    plot_bgcolor=\"#1E1E1E\",      \n",
    "    paper_bgcolor=\"#1E1E1E\",    \n",
    "    font=dict(color=\"#FFFFFF\", size=14), \n",
    "    title=dict(font=dict(size=20, color=\"#00CED1\"), x=0.5),\n",
    "    xaxis=dict(\n",
    "        title=\"Decade\",     \n",
    "        color=\"#FFFFFF\",       \n",
    "        gridcolor=\"#444444\", \n",
    "        zeroline=False,\n",
    "        ticklabelstandoff=20\n",
    "    ),\n",
    "    yaxis=dict(\n",
    "        title=\"Average Painting Size\",   \n",
    "        color=\"#FFFFFF\",       \n",
    "        showgrid=False          \n",
    "    ),\n",
    "    coloraxis_colorbar=dict(\n",
    "        title=\"Average Painting Size\",  \n",
    "        tickcolor=\"#FFFFFF\",   \n",
    "        titlefont=dict(color=\"#FFFFFF\"), \n",
    "        bgcolor=\"#2D2D2D\",      \n",
    "        bordercolor=\"#444444\",   \n",
    "        borderwidth=1         \n",
    "    )\n",
    ")\n",
    "\n",
    "T1fig2.show()"
   ]
  },
  {
   "cell_type": "code",
   "execution_count": 45,
   "id": "43275656-c913-41c5-afec-a7018b0c444a",
   "metadata": {},
   "outputs": [],
   "source": [
    "top_classifications = artwork_df['Classification'].value_counts().head(5).reset_index()\n",
    "top_classifications.columns = ['Classification', 'Count']"
   ]
  },
  {
   "cell_type": "code",
   "execution_count": 77,
   "id": "9f7f467c-6ad0-4992-810d-4dd28da2136c",
   "metadata": {},
   "outputs": [
    {
     "data": {
      "application/vnd.plotly.v1+json": {
       "config": {
        "plotlyServerURL": "https://plot.ly"
       },
       "data": [
        {
         "alignmentgroup": "True",
         "hovertemplate": "Classification=%{x}<br>Count=%{marker.color}<extra></extra>",
         "legendgroup": "",
         "marker": {
          "color": [
           34770,
           32590,
           27834,
           16305,
           14234
          ],
          "coloraxis": "coloraxis",
          "opacity": 0.8,
          "pattern": {
           "shape": ""
          }
         },
         "name": "",
         "offsetgroup": "",
         "orientation": "v",
         "showlegend": false,
         "text": [
          34770,
          32590,
          27834,
          16305,
          14234
         ],
         "textposition": "outside",
         "texttemplate": "%{text:.0f}",
         "type": "bar",
         "x": [
          "Photograph",
          "Print",
          "Illustrated Book",
          "Mies van der Rohe Archive",
          "Drawing"
         ],
         "xaxis": "x",
         "y": [
          34770,
          32590,
          27834,
          16305,
          14234
         ],
         "yaxis": "y"
        }
       ],
       "layout": {
        "autosize": true,
        "barmode": "relative",
        "coloraxis": {
         "colorbar": {
          "bgcolor": "#2D2D2D",
          "bordercolor": "#444444",
          "borderwidth": 1,
          "tickcolor": "#FFFFFF",
          "title": {
           "font": {
            "color": "#FFFFFF"
           },
           "text": "Count"
          }
         },
         "colorscale": [
          [
           0,
           "#440154"
          ],
          [
           0.1111111111111111,
           "#482878"
          ],
          [
           0.2222222222222222,
           "#3e4989"
          ],
          [
           0.3333333333333333,
           "#31688e"
          ],
          [
           0.4444444444444444,
           "#26828e"
          ],
          [
           0.5555555555555556,
           "#1f9e89"
          ],
          [
           0.6666666666666666,
           "#35b779"
          ],
          [
           0.7777777777777778,
           "#6ece58"
          ],
          [
           0.8888888888888888,
           "#b5de2b"
          ],
          [
           1,
           "#fde725"
          ]
         ]
        },
        "font": {
         "color": "#FFFFFF",
         "size": 14
        },
        "legend": {
         "tracegroupgap": 0
        },
        "paper_bgcolor": "#1E1E1E",
        "plot_bgcolor": "#1E1E1E",
        "template": {
         "data": {
          "bar": [
           {
            "error_x": {
             "color": "#2a3f5f"
            },
            "error_y": {
             "color": "#2a3f5f"
            },
            "marker": {
             "line": {
              "color": "#E5ECF6",
              "width": 0.5
             },
             "pattern": {
              "fillmode": "overlay",
              "size": 10,
              "solidity": 0.2
             }
            },
            "type": "bar"
           }
          ],
          "barpolar": [
           {
            "marker": {
             "line": {
              "color": "#E5ECF6",
              "width": 0.5
             },
             "pattern": {
              "fillmode": "overlay",
              "size": 10,
              "solidity": 0.2
             }
            },
            "type": "barpolar"
           }
          ],
          "carpet": [
           {
            "aaxis": {
             "endlinecolor": "#2a3f5f",
             "gridcolor": "white",
             "linecolor": "white",
             "minorgridcolor": "white",
             "startlinecolor": "#2a3f5f"
            },
            "baxis": {
             "endlinecolor": "#2a3f5f",
             "gridcolor": "white",
             "linecolor": "white",
             "minorgridcolor": "white",
             "startlinecolor": "#2a3f5f"
            },
            "type": "carpet"
           }
          ],
          "choropleth": [
           {
            "colorbar": {
             "outlinewidth": 0,
             "ticks": ""
            },
            "type": "choropleth"
           }
          ],
          "contour": [
           {
            "colorbar": {
             "outlinewidth": 0,
             "ticks": ""
            },
            "colorscale": [
             [
              0,
              "#0d0887"
             ],
             [
              0.1111111111111111,
              "#46039f"
             ],
             [
              0.2222222222222222,
              "#7201a8"
             ],
             [
              0.3333333333333333,
              "#9c179e"
             ],
             [
              0.4444444444444444,
              "#bd3786"
             ],
             [
              0.5555555555555556,
              "#d8576b"
             ],
             [
              0.6666666666666666,
              "#ed7953"
             ],
             [
              0.7777777777777778,
              "#fb9f3a"
             ],
             [
              0.8888888888888888,
              "#fdca26"
             ],
             [
              1,
              "#f0f921"
             ]
            ],
            "type": "contour"
           }
          ],
          "contourcarpet": [
           {
            "colorbar": {
             "outlinewidth": 0,
             "ticks": ""
            },
            "type": "contourcarpet"
           }
          ],
          "heatmap": [
           {
            "colorbar": {
             "outlinewidth": 0,
             "ticks": ""
            },
            "colorscale": [
             [
              0,
              "#0d0887"
             ],
             [
              0.1111111111111111,
              "#46039f"
             ],
             [
              0.2222222222222222,
              "#7201a8"
             ],
             [
              0.3333333333333333,
              "#9c179e"
             ],
             [
              0.4444444444444444,
              "#bd3786"
             ],
             [
              0.5555555555555556,
              "#d8576b"
             ],
             [
              0.6666666666666666,
              "#ed7953"
             ],
             [
              0.7777777777777778,
              "#fb9f3a"
             ],
             [
              0.8888888888888888,
              "#fdca26"
             ],
             [
              1,
              "#f0f921"
             ]
            ],
            "type": "heatmap"
           }
          ],
          "heatmapgl": [
           {
            "colorbar": {
             "outlinewidth": 0,
             "ticks": ""
            },
            "colorscale": [
             [
              0,
              "#0d0887"
             ],
             [
              0.1111111111111111,
              "#46039f"
             ],
             [
              0.2222222222222222,
              "#7201a8"
             ],
             [
              0.3333333333333333,
              "#9c179e"
             ],
             [
              0.4444444444444444,
              "#bd3786"
             ],
             [
              0.5555555555555556,
              "#d8576b"
             ],
             [
              0.6666666666666666,
              "#ed7953"
             ],
             [
              0.7777777777777778,
              "#fb9f3a"
             ],
             [
              0.8888888888888888,
              "#fdca26"
             ],
             [
              1,
              "#f0f921"
             ]
            ],
            "type": "heatmapgl"
           }
          ],
          "histogram": [
           {
            "marker": {
             "pattern": {
              "fillmode": "overlay",
              "size": 10,
              "solidity": 0.2
             }
            },
            "type": "histogram"
           }
          ],
          "histogram2d": [
           {
            "colorbar": {
             "outlinewidth": 0,
             "ticks": ""
            },
            "colorscale": [
             [
              0,
              "#0d0887"
             ],
             [
              0.1111111111111111,
              "#46039f"
             ],
             [
              0.2222222222222222,
              "#7201a8"
             ],
             [
              0.3333333333333333,
              "#9c179e"
             ],
             [
              0.4444444444444444,
              "#bd3786"
             ],
             [
              0.5555555555555556,
              "#d8576b"
             ],
             [
              0.6666666666666666,
              "#ed7953"
             ],
             [
              0.7777777777777778,
              "#fb9f3a"
             ],
             [
              0.8888888888888888,
              "#fdca26"
             ],
             [
              1,
              "#f0f921"
             ]
            ],
            "type": "histogram2d"
           }
          ],
          "histogram2dcontour": [
           {
            "colorbar": {
             "outlinewidth": 0,
             "ticks": ""
            },
            "colorscale": [
             [
              0,
              "#0d0887"
             ],
             [
              0.1111111111111111,
              "#46039f"
             ],
             [
              0.2222222222222222,
              "#7201a8"
             ],
             [
              0.3333333333333333,
              "#9c179e"
             ],
             [
              0.4444444444444444,
              "#bd3786"
             ],
             [
              0.5555555555555556,
              "#d8576b"
             ],
             [
              0.6666666666666666,
              "#ed7953"
             ],
             [
              0.7777777777777778,
              "#fb9f3a"
             ],
             [
              0.8888888888888888,
              "#fdca26"
             ],
             [
              1,
              "#f0f921"
             ]
            ],
            "type": "histogram2dcontour"
           }
          ],
          "mesh3d": [
           {
            "colorbar": {
             "outlinewidth": 0,
             "ticks": ""
            },
            "type": "mesh3d"
           }
          ],
          "parcoords": [
           {
            "line": {
             "colorbar": {
              "outlinewidth": 0,
              "ticks": ""
             }
            },
            "type": "parcoords"
           }
          ],
          "pie": [
           {
            "automargin": true,
            "type": "pie"
           }
          ],
          "scatter": [
           {
            "fillpattern": {
             "fillmode": "overlay",
             "size": 10,
             "solidity": 0.2
            },
            "type": "scatter"
           }
          ],
          "scatter3d": [
           {
            "line": {
             "colorbar": {
              "outlinewidth": 0,
              "ticks": ""
             }
            },
            "marker": {
             "colorbar": {
              "outlinewidth": 0,
              "ticks": ""
             }
            },
            "type": "scatter3d"
           }
          ],
          "scattercarpet": [
           {
            "marker": {
             "colorbar": {
              "outlinewidth": 0,
              "ticks": ""
             }
            },
            "type": "scattercarpet"
           }
          ],
          "scattergeo": [
           {
            "marker": {
             "colorbar": {
              "outlinewidth": 0,
              "ticks": ""
             }
            },
            "type": "scattergeo"
           }
          ],
          "scattergl": [
           {
            "marker": {
             "colorbar": {
              "outlinewidth": 0,
              "ticks": ""
             }
            },
            "type": "scattergl"
           }
          ],
          "scattermapbox": [
           {
            "marker": {
             "colorbar": {
              "outlinewidth": 0,
              "ticks": ""
             }
            },
            "type": "scattermapbox"
           }
          ],
          "scatterpolar": [
           {
            "marker": {
             "colorbar": {
              "outlinewidth": 0,
              "ticks": ""
             }
            },
            "type": "scatterpolar"
           }
          ],
          "scatterpolargl": [
           {
            "marker": {
             "colorbar": {
              "outlinewidth": 0,
              "ticks": ""
             }
            },
            "type": "scatterpolargl"
           }
          ],
          "scatterternary": [
           {
            "marker": {
             "colorbar": {
              "outlinewidth": 0,
              "ticks": ""
             }
            },
            "type": "scatterternary"
           }
          ],
          "surface": [
           {
            "colorbar": {
             "outlinewidth": 0,
             "ticks": ""
            },
            "colorscale": [
             [
              0,
              "#0d0887"
             ],
             [
              0.1111111111111111,
              "#46039f"
             ],
             [
              0.2222222222222222,
              "#7201a8"
             ],
             [
              0.3333333333333333,
              "#9c179e"
             ],
             [
              0.4444444444444444,
              "#bd3786"
             ],
             [
              0.5555555555555556,
              "#d8576b"
             ],
             [
              0.6666666666666666,
              "#ed7953"
             ],
             [
              0.7777777777777778,
              "#fb9f3a"
             ],
             [
              0.8888888888888888,
              "#fdca26"
             ],
             [
              1,
              "#f0f921"
             ]
            ],
            "type": "surface"
           }
          ],
          "table": [
           {
            "cells": {
             "fill": {
              "color": "#EBF0F8"
             },
             "line": {
              "color": "white"
             }
            },
            "header": {
             "fill": {
              "color": "#C8D4E3"
             },
             "line": {
              "color": "white"
             }
            },
            "type": "table"
           }
          ]
         },
         "layout": {
          "annotationdefaults": {
           "arrowcolor": "#2a3f5f",
           "arrowhead": 0,
           "arrowwidth": 1
          },
          "autotypenumbers": "strict",
          "coloraxis": {
           "colorbar": {
            "outlinewidth": 0,
            "ticks": ""
           }
          },
          "colorscale": {
           "diverging": [
            [
             0,
             "#8e0152"
            ],
            [
             0.1,
             "#c51b7d"
            ],
            [
             0.2,
             "#de77ae"
            ],
            [
             0.3,
             "#f1b6da"
            ],
            [
             0.4,
             "#fde0ef"
            ],
            [
             0.5,
             "#f7f7f7"
            ],
            [
             0.6,
             "#e6f5d0"
            ],
            [
             0.7,
             "#b8e186"
            ],
            [
             0.8,
             "#7fbc41"
            ],
            [
             0.9,
             "#4d9221"
            ],
            [
             1,
             "#276419"
            ]
           ],
           "sequential": [
            [
             0,
             "#0d0887"
            ],
            [
             0.1111111111111111,
             "#46039f"
            ],
            [
             0.2222222222222222,
             "#7201a8"
            ],
            [
             0.3333333333333333,
             "#9c179e"
            ],
            [
             0.4444444444444444,
             "#bd3786"
            ],
            [
             0.5555555555555556,
             "#d8576b"
            ],
            [
             0.6666666666666666,
             "#ed7953"
            ],
            [
             0.7777777777777778,
             "#fb9f3a"
            ],
            [
             0.8888888888888888,
             "#fdca26"
            ],
            [
             1,
             "#f0f921"
            ]
           ],
           "sequentialminus": [
            [
             0,
             "#0d0887"
            ],
            [
             0.1111111111111111,
             "#46039f"
            ],
            [
             0.2222222222222222,
             "#7201a8"
            ],
            [
             0.3333333333333333,
             "#9c179e"
            ],
            [
             0.4444444444444444,
             "#bd3786"
            ],
            [
             0.5555555555555556,
             "#d8576b"
            ],
            [
             0.6666666666666666,
             "#ed7953"
            ],
            [
             0.7777777777777778,
             "#fb9f3a"
            ],
            [
             0.8888888888888888,
             "#fdca26"
            ],
            [
             1,
             "#f0f921"
            ]
           ]
          },
          "colorway": [
           "#636efa",
           "#EF553B",
           "#00cc96",
           "#ab63fa",
           "#FFA15A",
           "#19d3f3",
           "#FF6692",
           "#B6E880",
           "#FF97FF",
           "#FECB52"
          ],
          "font": {
           "color": "#2a3f5f"
          },
          "geo": {
           "bgcolor": "white",
           "lakecolor": "white",
           "landcolor": "#E5ECF6",
           "showlakes": true,
           "showland": true,
           "subunitcolor": "white"
          },
          "hoverlabel": {
           "align": "left"
          },
          "hovermode": "closest",
          "mapbox": {
           "style": "light"
          },
          "paper_bgcolor": "white",
          "plot_bgcolor": "#E5ECF6",
          "polar": {
           "angularaxis": {
            "gridcolor": "white",
            "linecolor": "white",
            "ticks": ""
           },
           "bgcolor": "#E5ECF6",
           "radialaxis": {
            "gridcolor": "white",
            "linecolor": "white",
            "ticks": ""
           }
          },
          "scene": {
           "xaxis": {
            "backgroundcolor": "#E5ECF6",
            "gridcolor": "white",
            "gridwidth": 2,
            "linecolor": "white",
            "showbackground": true,
            "ticks": "",
            "zerolinecolor": "white"
           },
           "yaxis": {
            "backgroundcolor": "#E5ECF6",
            "gridcolor": "white",
            "gridwidth": 2,
            "linecolor": "white",
            "showbackground": true,
            "ticks": "",
            "zerolinecolor": "white"
           },
           "zaxis": {
            "backgroundcolor": "#E5ECF6",
            "gridcolor": "white",
            "gridwidth": 2,
            "linecolor": "white",
            "showbackground": true,
            "ticks": "",
            "zerolinecolor": "white"
           }
          },
          "shapedefaults": {
           "line": {
            "color": "#2a3f5f"
           }
          },
          "ternary": {
           "aaxis": {
            "gridcolor": "white",
            "linecolor": "white",
            "ticks": ""
           },
           "baxis": {
            "gridcolor": "white",
            "linecolor": "white",
            "ticks": ""
           },
           "bgcolor": "#E5ECF6",
           "caxis": {
            "gridcolor": "white",
            "linecolor": "white",
            "ticks": ""
           }
          },
          "title": {
           "x": 0.05
          },
          "xaxis": {
           "automargin": true,
           "gridcolor": "white",
           "linecolor": "white",
           "ticks": "",
           "title": {
            "standoff": 15
           },
           "zerolinecolor": "white",
           "zerolinewidth": 2
          },
          "yaxis": {
           "automargin": true,
           "gridcolor": "white",
           "linecolor": "white",
           "ticks": "",
           "title": {
            "standoff": 15
           },
           "zerolinecolor": "white",
           "zerolinewidth": 2
          }
         }
        },
        "title": {
         "font": {
          "color": "#00CED1",
          "size": 40
         },
         "text": "Top 5 Classifications",
         "x": 0.5
        },
        "xaxis": {
         "anchor": "y",
         "autorange": true,
         "color": "#FFFFFF",
         "domain": [
          0,
          1
         ],
         "gridcolor": "#444444",
         "range": [
          -0.5,
          4.5
         ],
         "ticklabelstandoff": 40,
         "title": {
          "text": ""
         },
         "type": "category",
         "zeroline": false
        },
        "yaxis": {
         "anchor": "x",
         "autorange": true,
         "color": "#FFFFFF",
         "domain": [
          0,
          1
         ],
         "range": [
          0,
          36600
         ],
         "showgrid": false,
         "title": {
          "text": "Count"
         },
         "type": "linear"
        }
       }
      },
      "image/png": "[encoded data removed]",
      "text/html": [
       "<div>                            <div id=\"92a6f138-7b9c-4494-97b3-978312d95e06\" class=\"plotly-graph-div\" style=\"height:600px; width:100%;\"></div>            <script type=\"text/javascript\">                require([\"plotly\"], function(Plotly) {                    window.PLOTLYENV=window.PLOTLYENV || {};                                    if (document.getElementById(\"92a6f138-7b9c-4494-97b3-978312d95e06\")) {                    Plotly.newPlot(                        \"92a6f138-7b9c-4494-97b3-978312d95e06\",                        [{\"alignmentgroup\":\"True\",\"hovertemplate\":\"Classification=%{x}\\u003cbr\\u003eCount=%{marker.color}\\u003cextra\\u003e\\u003c\\u002fextra\\u003e\",\"legendgroup\":\"\",\"marker\":{\"color\":[34770,32590,27834,16305,14234],\"coloraxis\":\"coloraxis\",\"pattern\":{\"shape\":\"\"},\"opacity\":0.8},\"name\":\"\",\"offsetgroup\":\"\",\"orientation\":\"v\",\"showlegend\":false,\"text\":[34770.0,32590.0,27834.0,16305.0,14234.0],\"textposition\":\"outside\",\"x\":[\"Photograph\",\"Print\",\"Illustrated Book\",\"Mies van der Rohe Archive\",\"Drawing\"],\"xaxis\":\"x\",\"y\":[34770,32590,27834,16305,14234],\"yaxis\":\"y\",\"type\":\"bar\",\"texttemplate\":\"%{text:.0f}\"}],                        {\"template\":{\"data\":{\"histogram2dcontour\":[{\"type\":\"histogram2dcontour\",\"colorbar\":{\"outlinewidth\":0,\"ticks\":\"\"},\"colorscale\":[[0.0,\"#0d0887\"],[0.1111111111111111,\"#46039f\"],[0.2222222222222222,\"#7201a8\"],[0.3333333333333333,\"#9c179e\"],[0.4444444444444444,\"#bd3786\"],[0.5555555555555556,\"#d8576b\"],[0.6666666666666666,\"#ed7953\"],[0.7777777777777778,\"#fb9f3a\"],[0.8888888888888888,\"#fdca26\"],[1.0,\"#f0f921\"]]}],\"choropleth\":[{\"type\":\"choropleth\",\"colorbar\":{\"outlinewidth\":0,\"ticks\":\"\"}}],\"histogram2d\":[{\"type\":\"histogram2d\",\"colorbar\":{\"outlinewidth\":0,\"ticks\":\"\"},\"colorscale\":[[0.0,\"#0d0887\"],[0.1111111111111111,\"#46039f\"],[0.2222222222222222,\"#7201a8\"],[0.3333333333333333,\"#9c179e\"],[0.4444444444444444,\"#bd3786\"],[0.5555555555555556,\"#d8576b\"],[0.6666666666666666,\"#ed7953\"],[0.7777777777777778,\"#fb9f3a\"],[0.8888888888888888,\"#fdca26\"],[1.0,\"#f0f921\"]]}],\"heatmap\":[{\"type\":\"heatmap\",\"colorbar\":{\"outlinewidth\":0,\"ticks\":\"\"},\"colorscale\":[[0.0,\"#0d0887\"],[0.1111111111111111,\"#46039f\"],[0.2222222222222222,\"#7201a8\"],[0.3333333333333333,\"#9c179e\"],[0.4444444444444444,\"#bd3786\"],[0.5555555555555556,\"#d8576b\"],[0.6666666666666666,\"#ed7953\"],[0.7777777777777778,\"#fb9f3a\"],[0.8888888888888888,\"#fdca26\"],[1.0,\"#f0f921\"]]}],\"heatmapgl\":[{\"type\":\"heatmapgl\",\"colorbar\":{\"outlinewidth\":0,\"ticks\":\"\"},\"colorscale\":[[0.0,\"#0d0887\"],[0.1111111111111111,\"#46039f\"],[0.2222222222222222,\"#7201a8\"],[0.3333333333333333,\"#9c179e\"],[0.4444444444444444,\"#bd3786\"],[0.5555555555555556,\"#d8576b\"],[0.6666666666666666,\"#ed7953\"],[0.7777777777777778,\"#fb9f3a\"],[0.8888888888888888,\"#fdca26\"],[1.0,\"#f0f921\"]]}],\"contourcarpet\":[{\"type\":\"contourcarpet\",\"colorbar\":{\"outlinewidth\":0,\"ticks\":\"\"}}],\"contour\":[{\"type\":\"contour\",\"colorbar\":{\"outlinewidth\":0,\"ticks\":\"\"},\"colorscale\":[[0.0,\"#0d0887\"],[0.1111111111111111,\"#46039f\"],[0.2222222222222222,\"#7201a8\"],[0.3333333333333333,\"#9c179e\"],[0.4444444444444444,\"#bd3786\"],[0.5555555555555556,\"#d8576b\"],[0.6666666666666666,\"#ed7953\"],[0.7777777777777778,\"#fb9f3a\"],[0.8888888888888888,\"#fdca26\"],[1.0,\"#f0f921\"]]}],\"surface\":[{\"type\":\"surface\",\"colorbar\":{\"outlinewidth\":0,\"ticks\":\"\"},\"colorscale\":[[0.0,\"#0d0887\"],[0.1111111111111111,\"#46039f\"],[0.2222222222222222,\"#7201a8\"],[0.3333333333333333,\"#9c179e\"],[0.4444444444444444,\"#bd3786\"],[0.5555555555555556,\"#d8576b\"],[0.6666666666666666,\"#ed7953\"],[0.7777777777777778,\"#fb9f3a\"],[0.8888888888888888,\"#fdca26\"],[1.0,\"#f0f921\"]]}],\"mesh3d\":[{\"type\":\"mesh3d\",\"colorbar\":{\"outlinewidth\":0,\"ticks\":\"\"}}],\"scatter\":[{\"fillpattern\":{\"fillmode\":\"overlay\",\"size\":10,\"solidity\":0.2},\"type\":\"scatter\"}],\"parcoords\":[{\"type\":\"parcoords\",\"line\":{\"colorbar\":{\"outlinewidth\":0,\"ticks\":\"\"}}}],\"scatterpolargl\":[{\"type\":\"scatterpolargl\",\"marker\":{\"colorbar\":{\"outlinewidth\":0,\"ticks\":\"\"}}}],\"bar\":[{\"error_x\":{\"color\":\"#2a3f5f\"},\"error_y\":{\"color\":\"#2a3f5f\"},\"marker\":{\"line\":{\"color\":\"#E5ECF6\",\"width\":0.5},\"pattern\":{\"fillmode\":\"overlay\",\"size\":10,\"solidity\":0.2}},\"type\":\"bar\"}],\"scattergeo\":[{\"type\":\"scattergeo\",\"marker\":{\"colorbar\":{\"outlinewidth\":0,\"ticks\":\"\"}}}],\"scatterpolar\":[{\"type\":\"scatterpolar\",\"marker\":{\"colorbar\":{\"outlinewidth\":0,\"ticks\":\"\"}}}],\"histogram\":[{\"marker\":{\"pattern\":{\"fillmode\":\"overlay\",\"size\":10,\"solidity\":0.2}},\"type\":\"histogram\"}],\"scattergl\":[{\"type\":\"scattergl\",\"marker\":{\"colorbar\":{\"outlinewidth\":0,\"ticks\":\"\"}}}],\"scatter3d\":[{\"type\":\"scatter3d\",\"line\":{\"colorbar\":{\"outlinewidth\":0,\"ticks\":\"\"}},\"marker\":{\"colorbar\":{\"outlinewidth\":0,\"ticks\":\"\"}}}],\"scattermapbox\":[{\"type\":\"scattermapbox\",\"marker\":{\"colorbar\":{\"outlinewidth\":0,\"ticks\":\"\"}}}],\"scatterternary\":[{\"type\":\"scatterternary\",\"marker\":{\"colorbar\":{\"outlinewidth\":0,\"ticks\":\"\"}}}],\"scattercarpet\":[{\"type\":\"scattercarpet\",\"marker\":{\"colorbar\":{\"outlinewidth\":0,\"ticks\":\"\"}}}],\"carpet\":[{\"aaxis\":{\"endlinecolor\":\"#2a3f5f\",\"gridcolor\":\"white\",\"linecolor\":\"white\",\"minorgridcolor\":\"white\",\"startlinecolor\":\"#2a3f5f\"},\"baxis\":{\"endlinecolor\":\"#2a3f5f\",\"gridcolor\":\"white\",\"linecolor\":\"white\",\"minorgridcolor\":\"white\",\"startlinecolor\":\"#2a3f5f\"},\"type\":\"carpet\"}],\"table\":[{\"cells\":{\"fill\":{\"color\":\"#EBF0F8\"},\"line\":{\"color\":\"white\"}},\"header\":{\"fill\":{\"color\":\"#C8D4E3\"},\"line\":{\"color\":\"white\"}},\"type\":\"table\"}],\"barpolar\":[{\"marker\":{\"line\":{\"color\":\"#E5ECF6\",\"width\":0.5},\"pattern\":{\"fillmode\":\"overlay\",\"size\":10,\"solidity\":0.2}},\"type\":\"barpolar\"}],\"pie\":[{\"automargin\":true,\"type\":\"pie\"}]},\"layout\":{\"autotypenumbers\":\"strict\",\"colorway\":[\"#636efa\",\"#EF553B\",\"#00cc96\",\"#ab63fa\",\"#FFA15A\",\"#19d3f3\",\"#FF6692\",\"#B6E880\",\"#FF97FF\",\"#FECB52\"],\"font\":{\"color\":\"#2a3f5f\"},\"hovermode\":\"closest\",\"hoverlabel\":{\"align\":\"left\"},\"paper_bgcolor\":\"white\",\"plot_bgcolor\":\"#E5ECF6\",\"polar\":{\"bgcolor\":\"#E5ECF6\",\"angularaxis\":{\"gridcolor\":\"white\",\"linecolor\":\"white\",\"ticks\":\"\"},\"radialaxis\":{\"gridcolor\":\"white\",\"linecolor\":\"white\",\"ticks\":\"\"}},\"ternary\":{\"bgcolor\":\"#E5ECF6\",\"aaxis\":{\"gridcolor\":\"white\",\"linecolor\":\"white\",\"ticks\":\"\"},\"baxis\":{\"gridcolor\":\"white\",\"linecolor\":\"white\",\"ticks\":\"\"},\"caxis\":{\"gridcolor\":\"white\",\"linecolor\":\"white\",\"ticks\":\"\"}},\"coloraxis\":{\"colorbar\":{\"outlinewidth\":0,\"ticks\":\"\"}},\"colorscale\":{\"sequential\":[[0.0,\"#0d0887\"],[0.1111111111111111,\"#46039f\"],[0.2222222222222222,\"#7201a8\"],[0.3333333333333333,\"#9c179e\"],[0.4444444444444444,\"#bd3786\"],[0.5555555555555556,\"#d8576b\"],[0.6666666666666666,\"#ed7953\"],[0.7777777777777778,\"#fb9f3a\"],[0.8888888888888888,\"#fdca26\"],[1.0,\"#f0f921\"]],\"sequentialminus\":[[0.0,\"#0d0887\"],[0.1111111111111111,\"#46039f\"],[0.2222222222222222,\"#7201a8\"],[0.3333333333333333,\"#9c179e\"],[0.4444444444444444,\"#bd3786\"],[0.5555555555555556,\"#d8576b\"],[0.6666666666666666,\"#ed7953\"],[0.7777777777777778,\"#fb9f3a\"],[0.8888888888888888,\"#fdca26\"],[1.0,\"#f0f921\"]],\"diverging\":[[0,\"#8e0152\"],[0.1,\"#c51b7d\"],[0.2,\"#de77ae\"],[0.3,\"#f1b6da\"],[0.4,\"#fde0ef\"],[0.5,\"#f7f7f7\"],[0.6,\"#e6f5d0\"],[0.7,\"#b8e186\"],[0.8,\"#7fbc41\"],[0.9,\"#4d9221\"],[1,\"#276419\"]]},\"xaxis\":{\"gridcolor\":\"white\",\"linecolor\":\"white\",\"ticks\":\"\",\"title\":{\"standoff\":15},\"zerolinecolor\":\"white\",\"automargin\":true,\"zerolinewidth\":2},\"yaxis\":{\"gridcolor\":\"white\",\"linecolor\":\"white\",\"ticks\":\"\",\"title\":{\"standoff\":15},\"zerolinecolor\":\"white\",\"automargin\":true,\"zerolinewidth\":2},\"scene\":{\"xaxis\":{\"backgroundcolor\":\"#E5ECF6\",\"gridcolor\":\"white\",\"linecolor\":\"white\",\"showbackground\":true,\"ticks\":\"\",\"zerolinecolor\":\"white\",\"gridwidth\":2},\"yaxis\":{\"backgroundcolor\":\"#E5ECF6\",\"gridcolor\":\"white\",\"linecolor\":\"white\",\"showbackground\":true,\"ticks\":\"\",\"zerolinecolor\":\"white\",\"gridwidth\":2},\"zaxis\":{\"backgroundcolor\":\"#E5ECF6\",\"gridcolor\":\"white\",\"linecolor\":\"white\",\"showbackground\":true,\"ticks\":\"\",\"zerolinecolor\":\"white\",\"gridwidth\":2}},\"shapedefaults\":{\"line\":{\"color\":\"#2a3f5f\"}},\"annotationdefaults\":{\"arrowcolor\":\"#2a3f5f\",\"arrowhead\":0,\"arrowwidth\":1},\"geo\":{\"bgcolor\":\"white\",\"landcolor\":\"#E5ECF6\",\"subunitcolor\":\"white\",\"showland\":true,\"showlakes\":true,\"lakecolor\":\"white\"},\"title\":{\"x\":0.05},\"mapbox\":{\"style\":\"light\"}}},\"xaxis\":{\"anchor\":\"y\",\"domain\":[0.0,1.0],\"title\":{\"text\":\"\"},\"color\":\"#FFFFFF\",\"gridcolor\":\"#444444\",\"zeroline\":false,\"ticklabelstandoff\":40},\"yaxis\":{\"anchor\":\"x\",\"domain\":[0.0,1.0],\"title\":{\"text\":\"Count\"},\"color\":\"#FFFFFF\",\"showgrid\":false},\"coloraxis\":{\"colorbar\":{\"title\":{\"text\":\"Count\",\"font\":{\"color\":\"#FFFFFF\"}},\"tickcolor\":\"#FFFFFF\",\"bgcolor\":\"#2D2D2D\",\"bordercolor\":\"#444444\",\"borderwidth\":1},\"colorscale\":[[0.0,\"#440154\"],[0.1111111111111111,\"#482878\"],[0.2222222222222222,\"#3e4989\"],[0.3333333333333333,\"#31688e\"],[0.4444444444444444,\"#26828e\"],[0.5555555555555556,\"#1f9e89\"],[0.6666666666666666,\"#35b779\"],[0.7777777777777778,\"#6ece58\"],[0.8888888888888888,\"#b5de2b\"],[1.0,\"#fde725\"]]},\"legend\":{\"tracegroupgap\":0},\"title\":{\"text\":\"Top 5 Classifications\",\"font\":{\"size\":40,\"color\":\"#00CED1\"},\"x\":0.5},\"barmode\":\"relative\",\"font\":{\"color\":\"#FFFFFF\",\"size\":14},\"plot_bgcolor\":\"#1E1E1E\",\"paper_bgcolor\":\"#1E1E1E\",\"height\":600},                        {\"responsive\": true}                    ).then(function(){\n",
       "                            \n",
       "var gd = document.getElementById('92a6f138-7b9c-4494-97b3-978312d95e06');\n",
       "var x = new MutationObserver(function (mutations, observer) {{\n",
       "        var display = window.getComputedStyle(gd).display;\n",
       "        if (!display || display === 'none') {{\n",
       "            console.log([gd, 'removed!']);\n",
       "            Plotly.purge(gd);\n",
       "            observer.disconnect();\n",
       "        }}\n",
       "}});\n",
       "\n",
       "// Listen for the removal of the full notebook cells\n",
       "var notebookContainer = gd.closest('#notebook-container');\n",
       "if (notebookContainer) {{\n",
       "    x.observe(notebookContainer, {childList: true});\n",
       "}}\n",
       "\n",
       "// Listen for the clearing of the current output cell\n",
       "var outputEl = gd.closest('.output');\n",
       "if (outputEl) {{\n",
       "    x.observe(outputEl, {childList: true});\n",
       "}}\n",
       "\n",
       "                        })                };                });            </script>        </div>"
      ]
     },
     "metadata": {},
     "output_type": "display_data"
    }
   ],
   "source": [
    "T1fig3 = px.bar(\n",
    "    top_classifications,\n",
    "    x='Classification',\n",
    "    y='Count',\n",
    "    text='Count',\n",
    "    title=\"Top 5 Classifications\",\n",
    "    color='Count',\n",
    "    color_continuous_scale=px.colors.sequential.Viridis\n",
    ")\n",
    "\n",
    "T1fig3.update_traces(\n",
    "    texttemplate='%{text:.0f}',\n",
    "    textposition='outside',\n",
    "    marker=dict(opacity=0.8)\n",
    ")\n",
    "\n",
    "T1fig3.update_layout(\n",
    "    plot_bgcolor=\"#1E1E1E\",\n",
    "    paper_bgcolor=\"#1E1E1E\",\n",
    "    font=dict(color=\"#FFFFFF\", size=14),\n",
    "    title=dict(font=dict(size=40, color=\"#00CED1\"), x=0.5),\n",
    "    xaxis=dict(\n",
    "        title=\"\",\n",
    "        color=\"#FFFFFF\",\n",
    "        gridcolor=\"#444444\",\n",
    "        zeroline=False,\n",
    "        ticklabelstandoff=40\n",
    "    ),\n",
    "    yaxis=dict(\n",
    "        title=\"Count\",\n",
    "        color=\"#FFFFFF\",\n",
    "        showgrid=False\n",
    "    ),\n",
    "    coloraxis_colorbar=dict(\n",
    "        title=\"Count\",\n",
    "        tickcolor=\"#FFFFFF\",\n",
    "        titlefont=dict(color=\"#FFFFFF\"),\n",
    "        bgcolor=\"#2D2D2D\",\n",
    "        bordercolor=\"#444444\",\n",
    "        borderwidth=1\n",
    "    ),\n",
    "    height=600 \n",
    ")\n",
    "\n",
    "T1fig3.show()"
   ]
  },
  {
   "cell_type": "code",
   "execution_count": 103,
   "id": "dd7d884f-4b9b-49e5-8fed-41b2c82e1e8d",
   "metadata": {},
   "outputs": [
    {
     "data": {
      "text/plain": [
       "Gender\n",
       "(male)                                                                                                                                                                                                                       121010\n",
       "(female)                                                                                                                                                                                                                      19608\n",
       "()                                                                                                                                                                                                                             7750\n",
       "(male) (male)                                                                                                                                                                                                                  1706\n",
       "(male) (male) (male)                                                                                                                                                                                                           1062\n",
       "                                                                                                                                                                                                                              ...  \n",
       "(male) (male) (female) (female) (male) (male) (male) (female) (male) (female) (male) (female) (female) (male) (male) (male) (male) (male) (male) (male) (male) (male) (male) (male) (male) (male) (male) (male) (male) ()         1\n",
       "(male) (male) () (male) () ()                                                                                                                                                                                                     1\n",
       "(male) (male) (female) () ()                                                                                                                                                                                                      1\n",
       "(male) (male) () () ()                                                                                                                                                                                                            1\n",
       "() (male) (male) () (male) (male) (male)                                                                                                                                                                                          1\n",
       "Name: count, Length: 427, dtype: int64"
      ]
     },
     "execution_count": 103,
     "metadata": {},
     "output_type": "execute_result"
    }
   ],
   "source": [
    "artwork_df.Gender.value_counts()"
   ]
  },
  {
   "cell_type": "code",
   "execution_count": 154,
   "id": "e3767f20-57c8-4f08-803a-4711b6a1021b",
   "metadata": {},
   "outputs": [],
   "source": [
    "def classify_only_male(gender):\n",
    "    if not isinstance(gender, str):  \n",
    "        return gender\n",
    "    gender = gender.lower()  \n",
    "    if \"male\" in gender and \"female\" not in gender:  \n",
    "        return \"Male\"\n",
    "    return gender  \n",
    "artwork_df['Gender'] = artwork_df['Gender'].apply(classify_only_male)"
   ]
  },
  {
   "cell_type": "code",
   "execution_count": 155,
   "id": "9d6a437a-8154-480e-976c-ee7d0027cd5b",
   "metadata": {},
   "outputs": [
    {
     "data": {
      "text/plain": [
       "Gender\n",
       "Male                                                                                            125785\n",
       "(female)                                                                                         19608\n",
       "()                                                                                                7750\n",
       "(male) (female)                                                                                    945\n",
       "(female) (male)                                                                                    383\n",
       "                                                                                                 ...  \n",
       "(male) (female) (male) (male) (male) (male) (male) () (male) (male) () (male)                        1\n",
       "(female) (male) (female) (male) (male) (female) (male) (male) (male) (male) (male) (male) ()         1\n",
       "(female) () () (male) (male) (male) (male) (male) (male) (male) () (male) (male) (male)              1\n",
       "(male) (male) (male) (male) (male) (male) (male) (male) (female) (male) (male) ()                    1\n",
       "() (male) (male) (male) (male) (male) (female) (male) (male) (male) (male)                           1\n",
       "Name: count, Length: 309, dtype: int64"
      ]
     },
     "execution_count": 155,
     "metadata": {},
     "output_type": "execute_result"
    }
   ],
   "source": [
    "artwork_df['Gender'].value_counts()"
   ]
  },
  {
   "cell_type": "code",
   "execution_count": 156,
   "id": "83965ea0-38f6-4d5b-a9de-1e4d257b780f",
   "metadata": {},
   "outputs": [],
   "source": [
    "def classify_only_male(gender):\n",
    "    if not isinstance(gender, str):  \n",
    "        return gender\n",
    "    if \"female\" in gender:  \n",
    "        return \"Female\"\n",
    "    return gender  \n",
    "artwork_df['Gender'] = artwork_df['Gender'].apply(classify_only_male)"
   ]
  },
  {
   "cell_type": "code",
   "execution_count": 157,
   "id": "e9401c33-25bb-4c2d-85e4-9a77513e5f36",
   "metadata": {},
   "outputs": [
    {
     "data": {
      "text/plain": [
       "Gender\n",
       "Male                       125785\n",
       "Female                      22625\n",
       "()                           7750\n",
       "() ()                         155\n",
       "() () ()                       25\n",
       "(non-binary)                   12\n",
       "() () () () ()                  3\n",
       "() () () ()                     2\n",
       "(gender non-conforming)         2\n",
       "() () () () () ()               1\n",
       "(transgender woman)             1\n",
       "Name: count, dtype: int64"
      ]
     },
     "execution_count": 157,
     "metadata": {},
     "output_type": "execute_result"
    }
   ],
   "source": [
    "artwork_df['Gender'].value_counts()"
   ]
  },
  {
   "cell_type": "code",
   "execution_count": 158,
   "id": "ed450194-8e2a-4bce-8b6c-b5cafb724eed",
   "metadata": {},
   "outputs": [],
   "source": [
    "def classify_only_male(gender):\n",
    "    if not isinstance(gender, str):  \n",
    "        return gender\n",
    "    if \"()\" in gender:  \n",
    "        return \"Unkown\"\n",
    "    return gender  \n",
    "artwork_df['Gender'] = artwork_df['Gender'].apply(classify_only_male)"
   ]
  },
  {
   "cell_type": "code",
   "execution_count": 159,
   "id": "060fafa6-d45e-4b98-8e97-2c5276615062",
   "metadata": {},
   "outputs": [
    {
     "data": {
      "text/plain": [
       "Gender\n",
       "Male                       125785\n",
       "Female                      22625\n",
       "Unkown                       7936\n",
       "(non-binary)                   12\n",
       "(gender non-conforming)         2\n",
       "(transgender woman)             1\n",
       "Name: count, dtype: int64"
      ]
     },
     "execution_count": 159,
     "metadata": {},
     "output_type": "execute_result"
    }
   ],
   "source": [
    "artwork_df['Gender'].value_counts()"
   ]
  },
  {
   "cell_type": "code",
   "execution_count": 161,
   "id": "6bf1c4d1-8a5e-48ad-97c3-ebb0a3be2687",
   "metadata": {},
   "outputs": [],
   "source": [
    "def classify_only_male(gender):\n",
    "    if not isinstance(gender, str):  \n",
    "        return \"Other\"  \n",
    "    if \"Male\" in gender or \"Female\" in gender or \"Unkown\" in gender:  \n",
    "        return gender\n",
    "    return \"Other\" \n",
    "artwork_df['Gender'] = artwork_df['Gender'].apply(classify_only_male)"
   ]
  },
  {
   "cell_type": "code",
   "execution_count": 162,
   "id": "ee2c7fcf-0be2-4cd6-92c1-19944caa4cd7",
   "metadata": {},
   "outputs": [
    {
     "data": {
      "application/vnd.plotly.v1+json": {
       "config": {
        "plotlyServerURL": "https://plot.ly"
       },
       "data": [
        {
         "customdata": [
          [
           "Male"
          ],
          [
           "Female"
          ],
          [
           "Unkown"
          ],
          [
           "Other"
          ]
         ],
         "domain": {
          "x": [
           0,
           1
          ],
          "y": [
           0,
           1
          ]
         },
         "hovertemplate": "Gender=%{customdata[0]}<br>Count=%{value}<extra></extra>",
         "labels": [
          "Male",
          "Female",
          "Unkown",
          "Other"
         ],
         "legendgroup": "",
         "marker": {
          "colors": [
           "#440154",
           "#482878",
           "#3e4989",
           "#31688e"
          ]
         },
         "name": "",
         "showlegend": true,
         "type": "pie",
         "values": [
          125785,
          22625,
          7936,
          1284
         ]
        }
       ],
       "layout": {
        "autosize": true,
        "font": {
         "color": "#FFFFFF",
         "size": 14
        },
        "legend": {
         "tracegroupgap": 0
        },
        "paper_bgcolor": "#1E1E1E",
        "piecolorway": [
         "#440154",
         "#482878",
         "#3e4989",
         "#31688e",
         "#26828e",
         "#1f9e89",
         "#35b779",
         "#6ece58",
         "#b5de2b",
         "#fde725"
        ],
        "plot_bgcolor": "#1E1E1E",
        "template": {
         "data": {
          "bar": [
           {
            "error_x": {
             "color": "#2a3f5f"
            },
            "error_y": {
             "color": "#2a3f5f"
            },
            "marker": {
             "line": {
              "color": "#E5ECF6",
              "width": 0.5
             },
             "pattern": {
              "fillmode": "overlay",
              "size": 10,
              "solidity": 0.2
             }
            },
            "type": "bar"
           }
          ],
          "barpolar": [
           {
            "marker": {
             "line": {
              "color": "#E5ECF6",
              "width": 0.5
             },
             "pattern": {
              "fillmode": "overlay",
              "size": 10,
              "solidity": 0.2
             }
            },
            "type": "barpolar"
           }
          ],
          "carpet": [
           {
            "aaxis": {
             "endlinecolor": "#2a3f5f",
             "gridcolor": "white",
             "linecolor": "white",
             "minorgridcolor": "white",
             "startlinecolor": "#2a3f5f"
            },
            "baxis": {
             "endlinecolor": "#2a3f5f",
             "gridcolor": "white",
             "linecolor": "white",
             "minorgridcolor": "white",
             "startlinecolor": "#2a3f5f"
            },
            "type": "carpet"
           }
          ],
          "choropleth": [
           {
            "colorbar": {
             "outlinewidth": 0,
             "ticks": ""
            },
            "type": "choropleth"
           }
          ],
          "contour": [
           {
            "colorbar": {
             "outlinewidth": 0,
             "ticks": ""
            },
            "colorscale": [
             [
              0,
              "#0d0887"
             ],
             [
              0.1111111111111111,
              "#46039f"
             ],
             [
              0.2222222222222222,
              "#7201a8"
             ],
             [
              0.3333333333333333,
              "#9c179e"
             ],
             [
              0.4444444444444444,
              "#bd3786"
             ],
             [
              0.5555555555555556,
              "#d8576b"
             ],
             [
              0.6666666666666666,
              "#ed7953"
             ],
             [
              0.7777777777777778,
              "#fb9f3a"
             ],
             [
              0.8888888888888888,
              "#fdca26"
             ],
             [
              1,
              "#f0f921"
             ]
            ],
            "type": "contour"
           }
          ],
          "contourcarpet": [
           {
            "colorbar": {
             "outlinewidth": 0,
             "ticks": ""
            },
            "type": "contourcarpet"
           }
          ],
          "heatmap": [
           {
            "colorbar": {
             "outlinewidth": 0,
             "ticks": ""
            },
            "colorscale": [
             [
              0,
              "#0d0887"
             ],
             [
              0.1111111111111111,
              "#46039f"
             ],
             [
              0.2222222222222222,
              "#7201a8"
             ],
             [
              0.3333333333333333,
              "#9c179e"
             ],
             [
              0.4444444444444444,
              "#bd3786"
             ],
             [
              0.5555555555555556,
              "#d8576b"
             ],
             [
              0.6666666666666666,
              "#ed7953"
             ],
             [
              0.7777777777777778,
              "#fb9f3a"
             ],
             [
              0.8888888888888888,
              "#fdca26"
             ],
             [
              1,
              "#f0f921"
             ]
            ],
            "type": "heatmap"
           }
          ],
          "heatmapgl": [
           {
            "colorbar": {
             "outlinewidth": 0,
             "ticks": ""
            },
            "colorscale": [
             [
              0,
              "#0d0887"
             ],
             [
              0.1111111111111111,
              "#46039f"
             ],
             [
              0.2222222222222222,
              "#7201a8"
             ],
             [
              0.3333333333333333,
              "#9c179e"
             ],
             [
              0.4444444444444444,
              "#bd3786"
             ],
             [
              0.5555555555555556,
              "#d8576b"
             ],
             [
              0.6666666666666666,
              "#ed7953"
             ],
             [
              0.7777777777777778,
              "#fb9f3a"
             ],
             [
              0.8888888888888888,
              "#fdca26"
             ],
             [
              1,
              "#f0f921"
             ]
            ],
            "type": "heatmapgl"
           }
          ],
          "histogram": [
           {
            "marker": {
             "pattern": {
              "fillmode": "overlay",
              "size": 10,
              "solidity": 0.2
             }
            },
            "type": "histogram"
           }
          ],
          "histogram2d": [
           {
            "colorbar": {
             "outlinewidth": 0,
             "ticks": ""
            },
            "colorscale": [
             [
              0,
              "#0d0887"
             ],
             [
              0.1111111111111111,
              "#46039f"
             ],
             [
              0.2222222222222222,
              "#7201a8"
             ],
             [
              0.3333333333333333,
              "#9c179e"
             ],
             [
              0.4444444444444444,
              "#bd3786"
             ],
             [
              0.5555555555555556,
              "#d8576b"
             ],
             [
              0.6666666666666666,
              "#ed7953"
             ],
             [
              0.7777777777777778,
              "#fb9f3a"
             ],
             [
              0.8888888888888888,
              "#fdca26"
             ],
             [
              1,
              "#f0f921"
             ]
            ],
            "type": "histogram2d"
           }
          ],
          "histogram2dcontour": [
           {
            "colorbar": {
             "outlinewidth": 0,
             "ticks": ""
            },
            "colorscale": [
             [
              0,
              "#0d0887"
             ],
             [
              0.1111111111111111,
              "#46039f"
             ],
             [
              0.2222222222222222,
              "#7201a8"
             ],
             [
              0.3333333333333333,
              "#9c179e"
             ],
             [
              0.4444444444444444,
              "#bd3786"
             ],
             [
              0.5555555555555556,
              "#d8576b"
             ],
             [
              0.6666666666666666,
              "#ed7953"
             ],
             [
              0.7777777777777778,
              "#fb9f3a"
             ],
             [
              0.8888888888888888,
              "#fdca26"
             ],
             [
              1,
              "#f0f921"
             ]
            ],
            "type": "histogram2dcontour"
           }
          ],
          "mesh3d": [
           {
            "colorbar": {
             "outlinewidth": 0,
             "ticks": ""
            },
            "type": "mesh3d"
           }
          ],
          "parcoords": [
           {
            "line": {
             "colorbar": {
              "outlinewidth": 0,
              "ticks": ""
             }
            },
            "type": "parcoords"
           }
          ],
          "pie": [
           {
            "automargin": true,
            "type": "pie"
           }
          ],
          "scatter": [
           {
            "fillpattern": {
             "fillmode": "overlay",
             "size": 10,
             "solidity": 0.2
            },
            "type": "scatter"
           }
          ],
          "scatter3d": [
           {
            "line": {
             "colorbar": {
              "outlinewidth": 0,
              "ticks": ""
             }
            },
            "marker": {
             "colorbar": {
              "outlinewidth": 0,
              "ticks": ""
             }
            },
            "type": "scatter3d"
           }
          ],
          "scattercarpet": [
           {
            "marker": {
             "colorbar": {
              "outlinewidth": 0,
              "ticks": ""
             }
            },
            "type": "scattercarpet"
           }
          ],
          "scattergeo": [
           {
            "marker": {
             "colorbar": {
              "outlinewidth": 0,
              "ticks": ""
             }
            },
            "type": "scattergeo"
           }
          ],
          "scattergl": [
           {
            "marker": {
             "colorbar": {
              "outlinewidth": 0,
              "ticks": ""
             }
            },
            "type": "scattergl"
           }
          ],
          "scattermapbox": [
           {
            "marker": {
             "colorbar": {
              "outlinewidth": 0,
              "ticks": ""
             }
            },
            "type": "scattermapbox"
           }
          ],
          "scatterpolar": [
           {
            "marker": {
             "colorbar": {
              "outlinewidth": 0,
              "ticks": ""
             }
            },
            "type": "scatterpolar"
           }
          ],
          "scatterpolargl": [
           {
            "marker": {
             "colorbar": {
              "outlinewidth": 0,
              "ticks": ""
             }
            },
            "type": "scatterpolargl"
           }
          ],
          "scatterternary": [
           {
            "marker": {
             "colorbar": {
              "outlinewidth": 0,
              "ticks": ""
             }
            },
            "type": "scatterternary"
           }
          ],
          "surface": [
           {
            "colorbar": {
             "outlinewidth": 0,
             "ticks": ""
            },
            "colorscale": [
             [
              0,
              "#0d0887"
             ],
             [
              0.1111111111111111,
              "#46039f"
             ],
             [
              0.2222222222222222,
              "#7201a8"
             ],
             [
              0.3333333333333333,
              "#9c179e"
             ],
             [
              0.4444444444444444,
              "#bd3786"
             ],
             [
              0.5555555555555556,
              "#d8576b"
             ],
             [
              0.6666666666666666,
              "#ed7953"
             ],
             [
              0.7777777777777778,
              "#fb9f3a"
             ],
             [
              0.8888888888888888,
              "#fdca26"
             ],
             [
              1,
              "#f0f921"
             ]
            ],
            "type": "surface"
           }
          ],
          "table": [
           {
            "cells": {
             "fill": {
              "color": "#EBF0F8"
             },
             "line": {
              "color": "white"
             }
            },
            "header": {
             "fill": {
              "color": "#C8D4E3"
             },
             "line": {
              "color": "white"
             }
            },
            "type": "table"
           }
          ]
         },
         "layout": {
          "annotationdefaults": {
           "arrowcolor": "#2a3f5f",
           "arrowhead": 0,
           "arrowwidth": 1
          },
          "autotypenumbers": "strict",
          "coloraxis": {
           "colorbar": {
            "outlinewidth": 0,
            "ticks": ""
           }
          },
          "colorscale": {
           "diverging": [
            [
             0,
             "#8e0152"
            ],
            [
             0.1,
             "#c51b7d"
            ],
            [
             0.2,
             "#de77ae"
            ],
            [
             0.3,
             "#f1b6da"
            ],
            [
             0.4,
             "#fde0ef"
            ],
            [
             0.5,
             "#f7f7f7"
            ],
            [
             0.6,
             "#e6f5d0"
            ],
            [
             0.7,
             "#b8e186"
            ],
            [
             0.8,
             "#7fbc41"
            ],
            [
             0.9,
             "#4d9221"
            ],
            [
             1,
             "#276419"
            ]
           ],
           "sequential": [
            [
             0,
             "#0d0887"
            ],
            [
             0.1111111111111111,
             "#46039f"
            ],
            [
             0.2222222222222222,
             "#7201a8"
            ],
            [
             0.3333333333333333,
             "#9c179e"
            ],
            [
             0.4444444444444444,
             "#bd3786"
            ],
            [
             0.5555555555555556,
             "#d8576b"
            ],
            [
             0.6666666666666666,
             "#ed7953"
            ],
            [
             0.7777777777777778,
             "#fb9f3a"
            ],
            [
             0.8888888888888888,
             "#fdca26"
            ],
            [
             1,
             "#f0f921"
            ]
           ],
           "sequentialminus": [
            [
             0,
             "#0d0887"
            ],
            [
             0.1111111111111111,
             "#46039f"
            ],
            [
             0.2222222222222222,
             "#7201a8"
            ],
            [
             0.3333333333333333,
             "#9c179e"
            ],
            [
             0.4444444444444444,
             "#bd3786"
            ],
            [
             0.5555555555555556,
             "#d8576b"
            ],
            [
             0.6666666666666666,
             "#ed7953"
            ],
            [
             0.7777777777777778,
             "#fb9f3a"
            ],
            [
             0.8888888888888888,
             "#fdca26"
            ],
            [
             1,
             "#f0f921"
            ]
           ]
          },
          "colorway": [
           "#636efa",
           "#EF553B",
           "#00cc96",
           "#ab63fa",
           "#FFA15A",
           "#19d3f3",
           "#FF6692",
           "#B6E880",
           "#FF97FF",
           "#FECB52"
          ],
          "font": {
           "color": "#2a3f5f"
          },
          "geo": {
           "bgcolor": "white",
           "lakecolor": "white",
           "landcolor": "#E5ECF6",
           "showlakes": true,
           "showland": true,
           "subunitcolor": "white"
          },
          "hoverlabel": {
           "align": "left"
          },
          "hovermode": "closest",
          "mapbox": {
           "style": "light"
          },
          "paper_bgcolor": "white",
          "plot_bgcolor": "#E5ECF6",
          "polar": {
           "angularaxis": {
            "gridcolor": "white",
            "linecolor": "white",
            "ticks": ""
           },
           "bgcolor": "#E5ECF6",
           "radialaxis": {
            "gridcolor": "white",
            "linecolor": "white",
            "ticks": ""
           }
          },
          "scene": {
           "xaxis": {
            "backgroundcolor": "#E5ECF6",
            "gridcolor": "white",
            "gridwidth": 2,
            "linecolor": "white",
            "showbackground": true,
            "ticks": "",
            "zerolinecolor": "white"
           },
           "yaxis": {
            "backgroundcolor": "#E5ECF6",
            "gridcolor": "white",
            "gridwidth": 2,
            "linecolor": "white",
            "showbackground": true,
            "ticks": "",
            "zerolinecolor": "white"
           },
           "zaxis": {
            "backgroundcolor": "#E5ECF6",
            "gridcolor": "white",
            "gridwidth": 2,
            "linecolor": "white",
            "showbackground": true,
            "ticks": "",
            "zerolinecolor": "white"
           }
          },
          "shapedefaults": {
           "line": {
            "color": "#2a3f5f"
           }
          },
          "ternary": {
           "aaxis": {
            "gridcolor": "white",
            "linecolor": "white",
            "ticks": ""
           },
           "baxis": {
            "gridcolor": "white",
            "linecolor": "white",
            "ticks": ""
           },
           "bgcolor": "#E5ECF6",
           "caxis": {
            "gridcolor": "white",
            "linecolor": "white",
            "ticks": ""
           }
          },
          "title": {
           "x": 0.05
          },
          "xaxis": {
           "automargin": true,
           "gridcolor": "white",
           "linecolor": "white",
           "ticks": "",
           "title": {
            "standoff": 15
           },
           "zerolinecolor": "white",
           "zerolinewidth": 2
          },
          "yaxis": {
           "automargin": true,
           "gridcolor": "white",
           "linecolor": "white",
           "ticks": "",
           "title": {
            "standoff": 15
           },
           "zerolinecolor": "white",
           "zerolinewidth": 2
          }
         }
        },
        "title": {
         "font": {
          "color": "#00CED1",
          "size": 40
         },
         "text": "Gender Distribution in Dataset",
         "x": 0.5
        }
       }
      },
      "image/png": "[encoded data removed]",
      "text/html": [
       "<div>                            <div id=\"503464ad-c3e0-470d-9823-71afbfabdaf8\" class=\"plotly-graph-div\" style=\"height:525px; width:100%;\"></div>            <script type=\"text/javascript\">                require([\"plotly\"], function(Plotly) {                    window.PLOTLYENV=window.PLOTLYENV || {};                                    if (document.getElementById(\"503464ad-c3e0-470d-9823-71afbfabdaf8\")) {                    Plotly.newPlot(                        \"503464ad-c3e0-470d-9823-71afbfabdaf8\",                        [{\"customdata\":[[\"Male\"],[\"Female\"],[\"Unkown\"],[\"Other\"]],\"domain\":{\"x\":[0.0,1.0],\"y\":[0.0,1.0]},\"hovertemplate\":\"Gender=%{customdata[0]}\\u003cbr\\u003eCount=%{value}\\u003cextra\\u003e\\u003c\\u002fextra\\u003e\",\"labels\":[\"Male\",\"Female\",\"Unkown\",\"Other\"],\"legendgroup\":\"\",\"marker\":{\"colors\":[\"#440154\",\"#482878\",\"#3e4989\",\"#31688e\"]},\"name\":\"\",\"showlegend\":true,\"values\":[125785,22625,7936,1284],\"type\":\"pie\"}],                        {\"template\":{\"data\":{\"histogram2dcontour\":[{\"type\":\"histogram2dcontour\",\"colorbar\":{\"outlinewidth\":0,\"ticks\":\"\"},\"colorscale\":[[0.0,\"#0d0887\"],[0.1111111111111111,\"#46039f\"],[0.2222222222222222,\"#7201a8\"],[0.3333333333333333,\"#9c179e\"],[0.4444444444444444,\"#bd3786\"],[0.5555555555555556,\"#d8576b\"],[0.6666666666666666,\"#ed7953\"],[0.7777777777777778,\"#fb9f3a\"],[0.8888888888888888,\"#fdca26\"],[1.0,\"#f0f921\"]]}],\"choropleth\":[{\"type\":\"choropleth\",\"colorbar\":{\"outlinewidth\":0,\"ticks\":\"\"}}],\"histogram2d\":[{\"type\":\"histogram2d\",\"colorbar\":{\"outlinewidth\":0,\"ticks\":\"\"},\"colorscale\":[[0.0,\"#0d0887\"],[0.1111111111111111,\"#46039f\"],[0.2222222222222222,\"#7201a8\"],[0.3333333333333333,\"#9c179e\"],[0.4444444444444444,\"#bd3786\"],[0.5555555555555556,\"#d8576b\"],[0.6666666666666666,\"#ed7953\"],[0.7777777777777778,\"#fb9f3a\"],[0.8888888888888888,\"#fdca26\"],[1.0,\"#f0f921\"]]}],\"heatmap\":[{\"type\":\"heatmap\",\"colorbar\":{\"outlinewidth\":0,\"ticks\":\"\"},\"colorscale\":[[0.0,\"#0d0887\"],[0.1111111111111111,\"#46039f\"],[0.2222222222222222,\"#7201a8\"],[0.3333333333333333,\"#9c179e\"],[0.4444444444444444,\"#bd3786\"],[0.5555555555555556,\"#d8576b\"],[0.6666666666666666,\"#ed7953\"],[0.7777777777777778,\"#fb9f3a\"],[0.8888888888888888,\"#fdca26\"],[1.0,\"#f0f921\"]]}],\"heatmapgl\":[{\"type\":\"heatmapgl\",\"colorbar\":{\"outlinewidth\":0,\"ticks\":\"\"},\"colorscale\":[[0.0,\"#0d0887\"],[0.1111111111111111,\"#46039f\"],[0.2222222222222222,\"#7201a8\"],[0.3333333333333333,\"#9c179e\"],[0.4444444444444444,\"#bd3786\"],[0.5555555555555556,\"#d8576b\"],[0.6666666666666666,\"#ed7953\"],[0.7777777777777778,\"#fb9f3a\"],[0.8888888888888888,\"#fdca26\"],[1.0,\"#f0f921\"]]}],\"contourcarpet\":[{\"type\":\"contourcarpet\",\"colorbar\":{\"outlinewidth\":0,\"ticks\":\"\"}}],\"contour\":[{\"type\":\"contour\",\"colorbar\":{\"outlinewidth\":0,\"ticks\":\"\"},\"colorscale\":[[0.0,\"#0d0887\"],[0.1111111111111111,\"#46039f\"],[0.2222222222222222,\"#7201a8\"],[0.3333333333333333,\"#9c179e\"],[0.4444444444444444,\"#bd3786\"],[0.5555555555555556,\"#d8576b\"],[0.6666666666666666,\"#ed7953\"],[0.7777777777777778,\"#fb9f3a\"],[0.8888888888888888,\"#fdca26\"],[1.0,\"#f0f921\"]]}],\"surface\":[{\"type\":\"surface\",\"colorbar\":{\"outlinewidth\":0,\"ticks\":\"\"},\"colorscale\":[[0.0,\"#0d0887\"],[0.1111111111111111,\"#46039f\"],[0.2222222222222222,\"#7201a8\"],[0.3333333333333333,\"#9c179e\"],[0.4444444444444444,\"#bd3786\"],[0.5555555555555556,\"#d8576b\"],[0.6666666666666666,\"#ed7953\"],[0.7777777777777778,\"#fb9f3a\"],[0.8888888888888888,\"#fdca26\"],[1.0,\"#f0f921\"]]}],\"mesh3d\":[{\"type\":\"mesh3d\",\"colorbar\":{\"outlinewidth\":0,\"ticks\":\"\"}}],\"scatter\":[{\"fillpattern\":{\"fillmode\":\"overlay\",\"size\":10,\"solidity\":0.2},\"type\":\"scatter\"}],\"parcoords\":[{\"type\":\"parcoords\",\"line\":{\"colorbar\":{\"outlinewidth\":0,\"ticks\":\"\"}}}],\"scatterpolargl\":[{\"type\":\"scatterpolargl\",\"marker\":{\"colorbar\":{\"outlinewidth\":0,\"ticks\":\"\"}}}],\"bar\":[{\"error_x\":{\"color\":\"#2a3f5f\"},\"error_y\":{\"color\":\"#2a3f5f\"},\"marker\":{\"line\":{\"color\":\"#E5ECF6\",\"width\":0.5},\"pattern\":{\"fillmode\":\"overlay\",\"size\":10,\"solidity\":0.2}},\"type\":\"bar\"}],\"scattergeo\":[{\"type\":\"scattergeo\",\"marker\":{\"colorbar\":{\"outlinewidth\":0,\"ticks\":\"\"}}}],\"scatterpolar\":[{\"type\":\"scatterpolar\",\"marker\":{\"colorbar\":{\"outlinewidth\":0,\"ticks\":\"\"}}}],\"histogram\":[{\"marker\":{\"pattern\":{\"fillmode\":\"overlay\",\"size\":10,\"solidity\":0.2}},\"type\":\"histogram\"}],\"scattergl\":[{\"type\":\"scattergl\",\"marker\":{\"colorbar\":{\"outlinewidth\":0,\"ticks\":\"\"}}}],\"scatter3d\":[{\"type\":\"scatter3d\",\"line\":{\"colorbar\":{\"outlinewidth\":0,\"ticks\":\"\"}},\"marker\":{\"colorbar\":{\"outlinewidth\":0,\"ticks\":\"\"}}}],\"scattermapbox\":[{\"type\":\"scattermapbox\",\"marker\":{\"colorbar\":{\"outlinewidth\":0,\"ticks\":\"\"}}}],\"scatterternary\":[{\"type\":\"scatterternary\",\"marker\":{\"colorbar\":{\"outlinewidth\":0,\"ticks\":\"\"}}}],\"scattercarpet\":[{\"type\":\"scattercarpet\",\"marker\":{\"colorbar\":{\"outlinewidth\":0,\"ticks\":\"\"}}}],\"carpet\":[{\"aaxis\":{\"endlinecolor\":\"#2a3f5f\",\"gridcolor\":\"white\",\"linecolor\":\"white\",\"minorgridcolor\":\"white\",\"startlinecolor\":\"#2a3f5f\"},\"baxis\":{\"endlinecolor\":\"#2a3f5f\",\"gridcolor\":\"white\",\"linecolor\":\"white\",\"minorgridcolor\":\"white\",\"startlinecolor\":\"#2a3f5f\"},\"type\":\"carpet\"}],\"table\":[{\"cells\":{\"fill\":{\"color\":\"#EBF0F8\"},\"line\":{\"color\":\"white\"}},\"header\":{\"fill\":{\"color\":\"#C8D4E3\"},\"line\":{\"color\":\"white\"}},\"type\":\"table\"}],\"barpolar\":[{\"marker\":{\"line\":{\"color\":\"#E5ECF6\",\"width\":0.5},\"pattern\":{\"fillmode\":\"overlay\",\"size\":10,\"solidity\":0.2}},\"type\":\"barpolar\"}],\"pie\":[{\"automargin\":true,\"type\":\"pie\"}]},\"layout\":{\"autotypenumbers\":\"strict\",\"colorway\":[\"#636efa\",\"#EF553B\",\"#00cc96\",\"#ab63fa\",\"#FFA15A\",\"#19d3f3\",\"#FF6692\",\"#B6E880\",\"#FF97FF\",\"#FECB52\"],\"font\":{\"color\":\"#2a3f5f\"},\"hovermode\":\"closest\",\"hoverlabel\":{\"align\":\"left\"},\"paper_bgcolor\":\"white\",\"plot_bgcolor\":\"#E5ECF6\",\"polar\":{\"bgcolor\":\"#E5ECF6\",\"angularaxis\":{\"gridcolor\":\"white\",\"linecolor\":\"white\",\"ticks\":\"\"},\"radialaxis\":{\"gridcolor\":\"white\",\"linecolor\":\"white\",\"ticks\":\"\"}},\"ternary\":{\"bgcolor\":\"#E5ECF6\",\"aaxis\":{\"gridcolor\":\"white\",\"linecolor\":\"white\",\"ticks\":\"\"},\"baxis\":{\"gridcolor\":\"white\",\"linecolor\":\"white\",\"ticks\":\"\"},\"caxis\":{\"gridcolor\":\"white\",\"linecolor\":\"white\",\"ticks\":\"\"}},\"coloraxis\":{\"colorbar\":{\"outlinewidth\":0,\"ticks\":\"\"}},\"colorscale\":{\"sequential\":[[0.0,\"#0d0887\"],[0.1111111111111111,\"#46039f\"],[0.2222222222222222,\"#7201a8\"],[0.3333333333333333,\"#9c179e\"],[0.4444444444444444,\"#bd3786\"],[0.5555555555555556,\"#d8576b\"],[0.6666666666666666,\"#ed7953\"],[0.7777777777777778,\"#fb9f3a\"],[0.8888888888888888,\"#fdca26\"],[1.0,\"#f0f921\"]],\"sequentialminus\":[[0.0,\"#0d0887\"],[0.1111111111111111,\"#46039f\"],[0.2222222222222222,\"#7201a8\"],[0.3333333333333333,\"#9c179e\"],[0.4444444444444444,\"#bd3786\"],[0.5555555555555556,\"#d8576b\"],[0.6666666666666666,\"#ed7953\"],[0.7777777777777778,\"#fb9f3a\"],[0.8888888888888888,\"#fdca26\"],[1.0,\"#f0f921\"]],\"diverging\":[[0,\"#8e0152\"],[0.1,\"#c51b7d\"],[0.2,\"#de77ae\"],[0.3,\"#f1b6da\"],[0.4,\"#fde0ef\"],[0.5,\"#f7f7f7\"],[0.6,\"#e6f5d0\"],[0.7,\"#b8e186\"],[0.8,\"#7fbc41\"],[0.9,\"#4d9221\"],[1,\"#276419\"]]},\"xaxis\":{\"gridcolor\":\"white\",\"linecolor\":\"white\",\"ticks\":\"\",\"title\":{\"standoff\":15},\"zerolinecolor\":\"white\",\"automargin\":true,\"zerolinewidth\":2},\"yaxis\":{\"gridcolor\":\"white\",\"linecolor\":\"white\",\"ticks\":\"\",\"title\":{\"standoff\":15},\"zerolinecolor\":\"white\",\"automargin\":true,\"zerolinewidth\":2},\"scene\":{\"xaxis\":{\"backgroundcolor\":\"#E5ECF6\",\"gridcolor\":\"white\",\"linecolor\":\"white\",\"showbackground\":true,\"ticks\":\"\",\"zerolinecolor\":\"white\",\"gridwidth\":2},\"yaxis\":{\"backgroundcolor\":\"#E5ECF6\",\"gridcolor\":\"white\",\"linecolor\":\"white\",\"showbackground\":true,\"ticks\":\"\",\"zerolinecolor\":\"white\",\"gridwidth\":2},\"zaxis\":{\"backgroundcolor\":\"#E5ECF6\",\"gridcolor\":\"white\",\"linecolor\":\"white\",\"showbackground\":true,\"ticks\":\"\",\"zerolinecolor\":\"white\",\"gridwidth\":2}},\"shapedefaults\":{\"line\":{\"color\":\"#2a3f5f\"}},\"annotationdefaults\":{\"arrowcolor\":\"#2a3f5f\",\"arrowhead\":0,\"arrowwidth\":1},\"geo\":{\"bgcolor\":\"white\",\"landcolor\":\"#E5ECF6\",\"subunitcolor\":\"white\",\"showland\":true,\"showlakes\":true,\"lakecolor\":\"white\"},\"title\":{\"x\":0.05},\"mapbox\":{\"style\":\"light\"}}},\"legend\":{\"tracegroupgap\":0},\"title\":{\"text\":\"Gender Distribution in Dataset\",\"font\":{\"size\":40,\"color\":\"#00CED1\"},\"x\":0.5},\"piecolorway\":[\"#440154\",\"#482878\",\"#3e4989\",\"#31688e\",\"#26828e\",\"#1f9e89\",\"#35b779\",\"#6ece58\",\"#b5de2b\",\"#fde725\"],\"font\":{\"color\":\"#FFFFFF\",\"size\":14},\"plot_bgcolor\":\"#1E1E1E\",\"paper_bgcolor\":\"#1E1E1E\"},                        {\"responsive\": true}                    ).then(function(){\n",
       "                            \n",
       "var gd = document.getElementById('503464ad-c3e0-470d-9823-71afbfabdaf8');\n",
       "var x = new MutationObserver(function (mutations, observer) {{\n",
       "        var display = window.getComputedStyle(gd).display;\n",
       "        if (!display || display === 'none') {{\n",
       "            console.log([gd, 'removed!']);\n",
       "            Plotly.purge(gd);\n",
       "            observer.disconnect();\n",
       "        }}\n",
       "}});\n",
       "\n",
       "// Listen for the removal of the full notebook cells\n",
       "var notebookContainer = gd.closest('#notebook-container');\n",
       "if (notebookContainer) {{\n",
       "    x.observe(notebookContainer, {childList: true});\n",
       "}}\n",
       "\n",
       "// Listen for the clearing of the current output cell\n",
       "var outputEl = gd.closest('.output');\n",
       "if (outputEl) {{\n",
       "    x.observe(outputEl, {childList: true});\n",
       "}}\n",
       "\n",
       "                        })                };                });            </script>        </div>"
      ]
     },
     "metadata": {},
     "output_type": "display_data"
    }
   ],
   "source": [
    "gender_counts = artwork_df['Gender'].value_counts().reset_index()\n",
    "gender_counts.columns = ['Gender', 'Count']\n",
    "\n",
    "T1fig4 = px.pie(\n",
    "    gender_counts,\n",
    "    names='Gender',            \n",
    "    values='Count',             \n",
    "    title=\"Gender Distribution in Dataset\",  \n",
    "    color='Gender',     \n",
    "    color_discrete_sequence=px.colors.sequential.Viridis  \n",
    ")\n",
    "\n",
    "T1fig4.update_layout(\n",
    "    plot_bgcolor=\"#1E1E1E\",      \n",
    "    paper_bgcolor=\"#1E1E1E\",\n",
    "    font=dict(color=\"#FFFFFF\", size=14),  \n",
    "    title=dict(font=dict(size=40, color=\"#00CED1\"), x=0.5) \n",
    ")\n",
    "\n",
    "T1fig4.show()"
   ]
  },
  {
   "cell_type": "code",
   "execution_count": null,
   "id": "fa0127de-4748-4feb-a3f9-1689cb600f32",
   "metadata": {},
   "outputs": [],
   "source": []
  }
 ],
 "metadata": {
  "kernelspec": {
   "display_name": "Python 3 (ipykernel)",
   "language": "python",
   "name": "python3"
  },
  "language_info": {
   "codemirror_mode": {
    "name": "ipython",
    "version": 3
   },
   "file_extension": ".py",
   "mimetype": "text/x-python",
   "name": "python",
   "nbconvert_exporter": "python",
   "pygments_lexer": "ipython3",
   "version": "3.12.2"
  }
 },
 "nbformat": 4,
 "nbformat_minor": 5
}
